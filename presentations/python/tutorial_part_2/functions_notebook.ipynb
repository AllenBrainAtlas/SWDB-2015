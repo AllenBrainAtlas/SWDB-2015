{
 "cells": [
  {
   "cell_type": "markdown",
   "metadata": {},
   "source": [
    "# Python Functions\n",
    "\n",
    "Functions keep you from having to copy-paste complicated code around.  They are the best."
   ]
  },
  {
   "cell_type": "code",
   "execution_count": 1,
   "metadata": {
    "collapsed": false
   },
   "outputs": [
    {
     "name": "stdout",
     "output_type": "stream",
     "text": [
      "2.82842712475\n",
      "6.32455532034\n"
     ]
    }
   ],
   "source": [
    "# define a couple xy points \n",
    "p1 = (1,2)\n",
    "p2 = (3,4)\n",
    "\n",
    "# print out the distance between the points\n",
    "print ((p1[0] - p2[0])**2 + (p1[1] - p2[1])**2)**.5\n",
    "\n",
    "# two more points\n",
    "p3 = (4,5)\n",
    "p4 = (10,3)\n",
    "\n",
    "# well this is annoying\n",
    "print ((p3[0] - p4[0])**2 + (p3[1] - p4[1])**2)**.5"
   ]
  },
  {
   "cell_type": "markdown",
   "metadata": {},
   "source": [
    "The code that computes the distance can be put into a function so you can reuse it."
   ]
  },
  {
   "cell_type": "code",
   "execution_count": 2,
   "metadata": {
    "collapsed": false
   },
   "outputs": [
    {
     "name": "stdout",
     "output_type": "stream",
     "text": [
      "2.82842712475\n",
      "6.32455532034\n"
     ]
    }
   ],
   "source": [
    "# give the function a name and argument list\n",
    "def distance_between_points_2d(p1, p2):\n",
    "\n",
    "    # this function returns a single value\n",
    "    return ((p1[0] - p2[0])**2 + (p1[1] - p2[1])**2)**.5\n",
    "\n",
    "# pass your arguments in the same order as you list \n",
    "# them in the function definition\n",
    "print distance_between_points_2d(p1,p2)\n",
    "\n",
    "print distance_between_points_2d(p3,p4)"
   ]
  },
  {
   "cell_type": "markdown",
   "metadata": {},
   "source": [
    "You should use functions liberally.  If you are asking yourself, \"Should I make this a function?\" the answer is yes.  Functions are great for:\n",
    "    \n",
    "    - code readability\n",
    "    - fewer copy-paste errors\n",
    "    - fix it once, fix it everywhere \n",
    "    \n",
    "David's rule of thumb: if the code you're working on doesn't fit on your screen, see if you can break it up into smaller functions.     "
   ]
  },
  {
   "cell_type": "markdown",
   "metadata": {},
   "source": [
    "# Calling Functions\n",
    "\n",
    "In addition to passing arguments to a function in declared order, you can pass function arguments by name.  When you do this, argument order doesn't matter."
   ]
  },
  {
   "cell_type": "code",
   "execution_count": 3,
   "metadata": {
    "collapsed": false
   },
   "outputs": [
    {
     "name": "stdout",
     "output_type": "stream",
     "text": [
      "2.82842712475\n",
      "2.82842712475\n"
     ]
    }
   ],
   "source": [
    "# passing arguments by name\n",
    "print distance_between_points_2d(p1=(1,2), p2=(3,4))\n",
    "\n",
    "# shuffling the order\n",
    "print distance_between_points_2d(p2=(3,4), p1=(1,2))"
   ]
  },
  {
   "cell_type": "markdown",
   "metadata": {},
   "source": [
    "# Variable Scope\n",
    "\n",
    "When you define a variable, it only exists in its current scope.\n",
    "\n",
    "There are two scopes you should care about: \"global\" and \"local\".  Objects defined at the top level of your file are in global scope.  They can be referenced anywhere.  Objects defined in a function are local to that function.  They are created when the function is called and destroyed afterwards (unless returned)."
   ]
  },
  {
   "cell_type": "code",
   "execution_count": 4,
   "metadata": {
    "collapsed": false
   },
   "outputs": [
    {
     "name": "stdout",
     "output_type": "stream",
     "text": [
      "outside: i am in global scope\n",
      "outside:"
     ]
    },
    {
     "ename": "NameError",
     "evalue": "name 'some_local_variable' is not defined",
     "output_type": "error",
     "traceback": [
      "\u001b[1;31m---------------------------------------------------------------------------\u001b[0m",
      "\u001b[1;31mNameError\u001b[0m                                 Traceback (most recent call last)",
      "\u001b[1;32m<ipython-input-4-49bcfd0889c5>\u001b[0m in \u001b[0;36m<module>\u001b[1;34m()\u001b[0m\n\u001b[0;32m     10\u001b[0m \u001b[1;33m\u001b[0m\u001b[0m\n\u001b[0;32m     11\u001b[0m \u001b[1;32mprint\u001b[0m \u001b[1;34m\"outside:\"\u001b[0m\u001b[1;33m,\u001b[0m \u001b[0msome_global_variable\u001b[0m\u001b[1;33m\u001b[0m\u001b[0m\n\u001b[1;32m---> 12\u001b[1;33m \u001b[1;32mprint\u001b[0m \u001b[1;34m\"outside:\"\u001b[0m\u001b[1;33m,\u001b[0m \u001b[0msome_local_variable\u001b[0m \u001b[1;31m# error! this variable only exists when the function is run\u001b[0m\u001b[1;33m\u001b[0m\u001b[0m\n\u001b[0m",
      "\u001b[1;31mNameError\u001b[0m: name 'some_local_variable' is not defined"
     ]
    }
   ],
   "source": [
    "some_global_variable = \"i am in global scope\"\n",
    "\n",
    "def some_function():    \n",
    "    some_local_variable = \"i am in local scope\"\n",
    "    \n",
    "    # local scope has access to global scope\n",
    "    print \"inside some_function:\", some_global_variable \n",
    "    \n",
    "    return some_local_variable\n",
    "\n",
    "print \"outside:\", some_global_variable \n",
    "print \"outside:\", some_local_variable # error! this variable only exists when the function is run"
   ]
  },
  {
   "cell_type": "code",
   "execution_count": 5,
   "metadata": {
    "collapsed": false
   },
   "outputs": [
    {
     "name": "stdout",
     "output_type": "stream",
     "text": [
      " inside some_function: i am in global scope\n",
      "i am in local scope\n",
      "outside:"
     ]
    },
    {
     "ename": "NameError",
     "evalue": "name 'some_local_variable' is not defined",
     "output_type": "error",
     "traceback": [
      "\u001b[1;31m---------------------------------------------------------------------------\u001b[0m",
      "\u001b[1;31mNameError\u001b[0m                                 Traceback (most recent call last)",
      "\u001b[1;32m<ipython-input-5-94b18bb9295b>\u001b[0m in \u001b[0;36m<module>\u001b[1;34m()\u001b[0m\n\u001b[0;32m      3\u001b[0m \u001b[1;32mprint\u001b[0m \u001b[0msome_function\u001b[0m\u001b[1;33m(\u001b[0m\u001b[1;33m)\u001b[0m\u001b[1;33m\u001b[0m\u001b[0m\n\u001b[0;32m      4\u001b[0m \u001b[1;33m\u001b[0m\u001b[0m\n\u001b[1;32m----> 5\u001b[1;33m \u001b[1;32mprint\u001b[0m \u001b[1;34m\"outside:\"\u001b[0m\u001b[1;33m,\u001b[0m \u001b[0msome_local_variable\u001b[0m \u001b[1;31m# error! only exists in the 'scope' of the function\u001b[0m\u001b[1;33m\u001b[0m\u001b[0m\n\u001b[0m",
      "\u001b[1;31mNameError\u001b[0m: name 'some_local_variable' is not defined"
     ]
    }
   ],
   "source": [
    "# local variables are created each time the function is called\n",
    "# they go away when the function finishes unless you return them from the function\n",
    "print some_function() \n",
    "\n",
    "print \"outside:\", some_local_variable # error! only exists in the 'scope' of the function"
   ]
  },
  {
   "cell_type": "markdown",
   "metadata": {},
   "source": [
    "Local scope is hierarchical.  "
   ]
  },
  {
   "cell_type": "code",
   "execution_count": 6,
   "metadata": {
    "collapsed": false
   },
   "outputs": [
    {
     "name": "stdout",
     "output_type": "stream",
     "text": [
      " inside level2: 1\n",
      "inside level2: 0\n"
     ]
    },
    {
     "ename": "NameError",
     "evalue": "name 'level2' is not defined",
     "output_type": "error",
     "traceback": [
      "\u001b[1;31m---------------------------------------------------------------------------\u001b[0m",
      "\u001b[1;31mNameError\u001b[0m                                 Traceback (most recent call last)",
      "\u001b[1;32m<ipython-input-6-29fff542925b>\u001b[0m in \u001b[0;36m<module>\u001b[1;34m()\u001b[0m\n\u001b[0;32m     14\u001b[0m \u001b[0mlevel1\u001b[0m\u001b[1;33m(\u001b[0m\u001b[1;33m)\u001b[0m\u001b[1;33m\u001b[0m\u001b[0m\n\u001b[0;32m     15\u001b[0m \u001b[1;33m\u001b[0m\u001b[0m\n\u001b[1;32m---> 16\u001b[1;33m \u001b[0mlevel2\u001b[0m\u001b[1;33m(\u001b[0m\u001b[1;33m)\u001b[0m \u001b[1;31m# error! level2 only exists inside of level1.\u001b[0m\u001b[1;33m\u001b[0m\u001b[0m\n\u001b[0m",
      "\u001b[1;31mNameError\u001b[0m: name 'level2' is not defined"
     ]
    }
   ],
   "source": [
    "global_var = 0\n",
    "\n",
    "def level1():\n",
    "    level1_var = 1\n",
    "    \n",
    "    def level2():\n",
    "        print \"inside level2:\", level1_var\n",
    "        print \"inside level2:\", global_var\n",
    "        \n",
    "        level2_var = 2\n",
    "    \n",
    "    level2(); # this is okay.  level2 is defined inside of level1.\n",
    "        \n",
    "level1()\n",
    "\n",
    "level2() # error! level2 only exists inside of level1."
   ]
  },
  {
   "cell_type": "markdown",
   "metadata": {},
   "source": [
    "# Default Function Arguments\n",
    "\n",
    "Function arguments can have default values.  Let's go look at f5_defaults.py."
   ]
  },
  {
   "cell_type": "code",
   "execution_count": 7,
   "metadata": {
    "collapsed": false
   },
   "outputs": [
    {
     "name": "stdout",
     "output_type": "stream",
     "text": [
      "1.5\n",
      "0.5\n"
     ]
    }
   ],
   "source": [
    "# a simple line evaluator\n",
    "def evaluate_line(x, slope, intercept):\n",
    "    return slope * x + intercept\n",
    "\n",
    "# same, but now by default the line goes through the origin\n",
    "def evaluate_line_v2(x, slope, intercept=0):\n",
    "    return slope * x + intercept\n",
    "\n",
    "print evaluate_line(1.0, 0.5, 1.0)\n",
    "\n",
    "print evaluate_line_v2(1.0, 0.5)"
   ]
  },
  {
   "cell_type": "markdown",
   "metadata": {},
   "source": [
    "Defaults are handy.  **BE CAREFUL!** With defaults you don't have to remember to pass in a value, which means it's easy to forget what you're passing. "
   ]
  },
  {
   "cell_type": "markdown",
   "metadata": {},
   "source": [
    "# \\*args and \\*\\*kwargs\n",
    "\n",
    "Python functions have very flexible inputs.  You don't even need to know what's being passed in!\n",
    "\n",
    "*I am showing you this so that you'll understand it when you run into it*.  This is advanced usage.\n",
    "\n",
    "\\*args is a <b>list</b> of undeclared arguments passed to the function without explicit names.\n",
    "\n",
    "\\*\\*kwargs is a <b>dictionary</b> of undeclared arguments passed to the function by name."
   ]
  },
  {
   "cell_type": "code",
   "execution_count": 8,
   "metadata": {
    "collapsed": false,
    "scrolled": true
   },
   "outputs": [
    {
     "name": "stdout",
     "output_type": "stream",
     "text": [
      "x: xval\n",
      "y: yval\n",
      "args: ('arg1', 'arg2')\n",
      "kwargs: {'kwarg1': 'v1', 'kwarg2': 'v2'}\n"
     ]
    }
   ],
   "source": [
    "# x and y are declared normally. *args and **kwargs can hold anything.\n",
    "def kwargs_test(x, y, *args, **kwargs):\n",
    "    print \"x:\", x\n",
    "    print \"y:\", y\n",
    "    print \"args:\", args\n",
    "    print \"kwargs:\", kwargs\n",
    "\n",
    "kwargs_test('xval', 'yval', # normal function argument passing\n",
    "            'arg1', 'arg2', # *args are passed without names, but they aren't in the declaration\n",
    "            kwarg1='v1', kwarg2='v2') # **kwargs are passed with names, but they aren't in the declaration"
   ]
  },
  {
   "cell_type": "markdown",
   "metadata": {},
   "source": [
    "**USE THIS SPARINGLY**.  You will spend a lot of time trying to figure out what's in 'args' and 'kwargs'.  Writing functions that work for all possible inputs is very difficult, and usually not what you want.\n",
    "\n",
    "Not only does the function not need to care about what's coming in, the function caller doesn't need to know what it's passing.  You can have lists and dictionaries full of arguments you can pass in."
   ]
  },
  {
   "cell_type": "code",
   "execution_count": 9,
   "metadata": {
    "collapsed": false
   },
   "outputs": [
    {
     "name": "stdout",
     "output_type": "stream",
     "text": [
      "args ('arg1', 'arg2')\n",
      "kwargs {'some_var': 'test_value', 'kwarg1': 'v1', 'kwarg2': 'v2'}\n",
      "args (10, 20, 'arg1', 'arg2')\n",
      "kwargs {'some_var': 'test_value', 'kwarg1': 'v1', 'kwarg2': 'v2'}\n"
     ]
    }
   ],
   "source": [
    "# this function takes no named arguments\n",
    "def kwargs_test_2(*args, **kwargs):\n",
    "    print \"args\", args\n",
    "    print \"kwargs\", kwargs\n",
    "    \n",
    "some_kwargs = { 'kwarg1': 'v1', 'kwarg2': 'v2' }\n",
    "some_args = [ 'arg1', 'arg2' ]\n",
    "\n",
    "# pass in *args and **kwargs generically\n",
    "kwargs_test_2(some_var='test_value', *some_args, **some_kwargs)\n",
    "\n",
    "# you can pass in arguments normally as well\n",
    "kwargs_test_2(10, 20, some_var='test_value', *some_args, **some_kwargs)"
   ]
  },
  {
   "cell_type": "markdown",
   "metadata": {},
   "source": [
    "The '\\*' and '\\*\\*' operators are used for taking lists and dictionaries and turning them into function arguments.\n",
    "\n",
    "**USE THIS EVEN MORE SPARINGLY**.  If you know that your function needs certain arguments, name them explicitly."
   ]
  },
  {
   "cell_type": "markdown",
   "metadata": {},
   "source": [
    "# lambda functions\n",
    "\n",
    "This is a special way to define functions inline, without formally declaring them.  Again:\n",
    "\n",
    "*I am showing you this so that you'll understand it when you run into it*.  lambda functions can universally be replaced with normal functions.  They are a short-hand."
   ]
  },
  {
   "cell_type": "code",
   "execution_count": 10,
   "metadata": {
    "collapsed": false
   },
   "outputs": [
    {
     "name": "stdout",
     "output_type": "stream",
     "text": [
      "[2, 2, 3, 4, 5]\n"
     ]
    }
   ],
   "source": [
    "# warm up: this is how you sort lists of integers\n",
    "some_numbers = [ 2, 4, 3, 5, 2 ]\n",
    "\n",
    "print sorted(some_numbers)"
   ]
  },
  {
   "cell_type": "code",
   "execution_count": 11,
   "metadata": {
    "collapsed": false
   },
   "outputs": [
    {
     "name": "stdout",
     "output_type": "stream",
     "text": [
      "[{'age': 10, 'name': 'jill'}, {'age': 20, 'name': 'bob'}, {'age': 30, 'name': 'jim'}]\n"
     ]
    }
   ],
   "source": [
    "# how do we sort these by age?\n",
    "some_objects = [ { 'name': 'jim', 'age': 30 }, \n",
    "                 { 'name': 'jill', 'age': 10 }, \n",
    "                 { 'name': 'bob', 'age': 20 } ]\n",
    "\n",
    "# define a comparison function\n",
    "def compare_objects_by_age(obj):\n",
    "    return obj['age']\n",
    "\n",
    "# the 'key' keyword arg expects a function that \n",
    "# will tell it how to sort the list of objects passed in\n",
    "print sorted(some_objects, key=compare_objects_by_age )"
   ]
  },
  {
   "cell_type": "code",
   "execution_count": 12,
   "metadata": {
    "collapsed": false
   },
   "outputs": [
    {
     "name": "stdout",
     "output_type": "stream",
     "text": [
      "[{'age': 10, 'name': 'jill'}, {'age': 20, 'name': 'bob'}, {'age': 30, 'name': 'jim'}]\n"
     ]
    }
   ],
   "source": [
    "# or, use a lambda function\n",
    "print sorted(some_objects, key=lambda obj: obj['age'] )"
   ]
  },
  {
   "cell_type": "markdown",
   "metadata": {},
   "source": [
    "Notice how the lambda version doesn't have a return statement.  The right-hand-side of a lambda expression is what gets returned.\n",
    "\n",
    "Lambda functions are great for writing succinct code.  Keep in mind that succinct != readable.  \n",
    "\n",
    "If you want others (or your future self!) to be able to understand your code, err on the side of readibility."
   ]
  }
 ],
 "metadata": {
  "kernelspec": {
   "display_name": "Python 2",
   "language": "python",
   "name": "python2"
  },
  "language_info": {
   "codemirror_mode": {
    "name": "ipython",
    "version": 2
   },
   "file_extension": ".py",
   "mimetype": "text/x-python",
   "name": "python",
   "nbconvert_exporter": "python",
   "pygments_lexer": "ipython2",
   "version": "2.7.10"
  }
 },
 "nbformat": 4,
 "nbformat_minor": 0
}
