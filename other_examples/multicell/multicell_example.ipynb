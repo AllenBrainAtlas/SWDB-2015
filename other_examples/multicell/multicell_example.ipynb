{
 "cells": [
  {
   "cell_type": "markdown",
   "metadata": {},
   "source": [
    "# Multicell example\n",
    "\n",
    "This example shows how to run a model set up with the AllenSDK that contains multiple neurons with synaptic connections between them.\n",
    "\n",
    "This notebook walks through running an already constructed model. Please see other files (`config.json`, `utils.py`, etc.) for details on how the model is implemented.\n",
    "\n",
    "First we will import the libraries we need along with the SDK."
   ]
  },
  {
   "cell_type": "code",
   "execution_count": 1,
   "metadata": {
    "collapsed": true
   },
   "outputs": [],
   "source": [
    "%matplotlib inline\n",
    "import matplotlib.pyplot as plt\n",
    "import visual as vis\n",
    "\n",
    "from allensdk.model.biophys_sim.config import Config\n",
    "from utils import Utils"
   ]
  },
  {
   "cell_type": "markdown",
   "metadata": {},
   "source": [
    "Next, we'll load in our base configuration file that tells us how to generate the neurons in the circuit."
   ]
  },
  {
   "cell_type": "code",
   "execution_count": 2,
   "metadata": {
    "collapsed": false
   },
   "outputs": [
    {
     "ename": "ImportError",
     "evalue": "No module named neuron",
     "output_type": "error",
     "traceback": [
      "\u001b[0;31m---------------------------------------------------------------------------\u001b[0m",
      "\u001b[0;31mImportError\u001b[0m                               Traceback (most recent call last)",
      "\u001b[0;32m<ipython-input-2-c6a6f88da063>\u001b[0m in \u001b[0;36m<module>\u001b[0;34m()\u001b[0m\n\u001b[1;32m      1\u001b[0m \u001b[0mconfig\u001b[0m \u001b[0;34m=\u001b[0m \u001b[0mConfig\u001b[0m\u001b[0;34m(\u001b[0m\u001b[0;34m)\u001b[0m\u001b[0;34m.\u001b[0m\u001b[0mload\u001b[0m\u001b[0;34m(\u001b[0m\u001b[0;34m'config.json'\u001b[0m\u001b[0;34m)\u001b[0m   \u001b[0;31m# read configuration for the model\u001b[0m\u001b[0;34m\u001b[0m\u001b[0m\n\u001b[1;32m      2\u001b[0m \u001b[0;34m\u001b[0m\u001b[0m\n\u001b[0;32m----> 3\u001b[0;31m \u001b[0mutils\u001b[0m \u001b[0;34m=\u001b[0m \u001b[0mUtils\u001b[0m\u001b[0;34m(\u001b[0m\u001b[0mconfig\u001b[0m\u001b[0;34m)\u001b[0m   \u001b[0;31m# instantiate an object of a class Utils which configures NEURONand provides the interface to the necessary functions to set up the simuation\u001b[0m\u001b[0;34m\u001b[0m\u001b[0m\n\u001b[0m\u001b[1;32m      4\u001b[0m \u001b[0mh\u001b[0m \u001b[0;34m=\u001b[0m \u001b[0mutils\u001b[0m\u001b[0;34m.\u001b[0m\u001b[0mh\u001b[0m\u001b[0;34m\u001b[0m\u001b[0m\n",
      "\u001b[0;32m/Users/antona/Desktop/SWDB-2015/other_examples/multicell/utils.py\u001b[0m in \u001b[0;36m__init__\u001b[0;34m(self, description)\u001b[0m\n\u001b[1;32m     16\u001b[0m \u001b[0;34m\u001b[0m\u001b[0m\n\u001b[1;32m     17\u001b[0m     \u001b[0;32mdef\u001b[0m \u001b[0m__init__\u001b[0m\u001b[0;34m(\u001b[0m\u001b[0mself\u001b[0m\u001b[0;34m,\u001b[0m \u001b[0mdescription\u001b[0m\u001b[0;34m)\u001b[0m\u001b[0;34m:\u001b[0m\u001b[0;34m\u001b[0m\u001b[0m\n\u001b[0;32m---> 18\u001b[0;31m         \u001b[0msuper\u001b[0m\u001b[0;34m(\u001b[0m\u001b[0mUtils\u001b[0m\u001b[0;34m,\u001b[0m \u001b[0mself\u001b[0m\u001b[0;34m)\u001b[0m\u001b[0;34m.\u001b[0m\u001b[0m__init__\u001b[0m\u001b[0;34m(\u001b[0m\u001b[0mdescription\u001b[0m\u001b[0;34m)\u001b[0m\u001b[0;34m\u001b[0m\u001b[0m\n\u001b[0m\u001b[1;32m     19\u001b[0m         \u001b[0mself\u001b[0m\u001b[0;34m.\u001b[0m\u001b[0mstim\u001b[0m \u001b[0;34m=\u001b[0m \u001b[0mNone\u001b[0m\u001b[0;34m\u001b[0m\u001b[0m\n\u001b[1;32m     20\u001b[0m         \u001b[0mself\u001b[0m\u001b[0;34m.\u001b[0m\u001b[0mstim_curr\u001b[0m \u001b[0;34m=\u001b[0m \u001b[0mNone\u001b[0m\u001b[0;34m\u001b[0m\u001b[0m\n",
      "\u001b[0;32m/Users/antona/anaconda/lib/python2.7/site-packages/allensdk/model/biophys_sim/neuron/hoc_utils.pyc\u001b[0m in \u001b[0;36m__init__\u001b[0;34m(self, description)\u001b[0m\n\u001b[1;32m     36\u001b[0m \u001b[0;34m\u001b[0m\u001b[0m\n\u001b[1;32m     37\u001b[0m     \u001b[0;32mdef\u001b[0m \u001b[0m__init__\u001b[0m\u001b[0;34m(\u001b[0m\u001b[0mself\u001b[0m\u001b[0;34m,\u001b[0m \u001b[0mdescription\u001b[0m\u001b[0;34m)\u001b[0m\u001b[0;34m:\u001b[0m\u001b[0;34m\u001b[0m\u001b[0m\n\u001b[0;32m---> 38\u001b[0;31m         \u001b[0;32mimport\u001b[0m \u001b[0mneuron\u001b[0m\u001b[0;34m\u001b[0m\u001b[0m\n\u001b[0m\u001b[1;32m     39\u001b[0m         \u001b[0;32mimport\u001b[0m \u001b[0mnrn\u001b[0m\u001b[0;34m\u001b[0m\u001b[0m\n\u001b[1;32m     40\u001b[0m \u001b[0;34m\u001b[0m\u001b[0m\n",
      "\u001b[0;31mImportError\u001b[0m: No module named neuron"
     ]
    }
   ],
   "source": [
    "config = Config().load('config.json')   # read configuration for the model\n",
    "\n",
    "utils = Utils(config)   # instantiate an object of a class Utils which configures NEURONand provides the interface to the necessary functions to set up the simuation\n",
    "h = utils.h"
   ]
  },
  {
   "cell_type": "markdown",
   "metadata": {},
   "source": [
    "We next call `utils.load_cell_db()` to get our cell database (telling us which neurons are of which type) and then pass that to `utils.generate_cells()` to actually instantiate the neurons in the simulation environment."
   ]
  },
  {
   "cell_type": "code",
   "execution_count": 3,
   "metadata": {
    "collapsed": false
   },
   "outputs": [
    {
     "name": "stdout",
     "output_type": "stream",
     "text": [
      "gid: 0   nr5a1\n",
      "gid: 1   nr5a1\n",
      "gid: 2   nr5a1\n",
      "gid: 3   nr5a1\n",
      "gid: 4   nr5a1\n",
      "gid: 5   nr5a1\n",
      "gid: 6   nr5a1\n",
      "gid: 7   nr5a1\n",
      "gid: 8   pvalb\n",
      "gid: 9   pvalb\n"
     ]
    }
   ],
   "source": [
    "db = utils.load_cell_db()\n",
    "cells = utils.generate_cells(db)\t# read cell information from csv file"
   ]
  },
  {
   "cell_type": "markdown",
   "metadata": {},
   "source": [
    "At this point, we can stimulate the cells with various current clamps at the soma to see how they respond while still unconnected."
   ]
  },
  {
   "cell_type": "code",
   "execution_count": 4,
   "metadata": {
    "collapsed": false
   },
   "outputs": [
    {
     "name": "stdout",
     "output_type": "stream",
     "text": [
      "{u'delay': 200.0, u'amps': {u'1': 0.045, u'0': -0.04, u'3': 0.055, u'2': 0.05, u'5': 0.065, u'4': 0.06, u'7': 0.075, u'6': 0.07, u'9': 0.18, u'8': 0.17}, u'dur': 1500.0}\n",
      "Running the model for 2500.0 (ms) with time step of 0.025 (ms):\n"
     ]
    },
    {
     "data": {
      "text/plain": [
       "0.0"
      ]
     },
     "execution_count": 4,
     "metadata": {},
     "output_type": "execute_result"
    }
   ],
   "source": [
    "utils.set_run_params()  # set h.dt and h.tsop\n",
    "stims = utils.setIClamps(cells)\n",
    "rec_vecs = utils.record_values(cells)\n",
    "\n",
    "print \"Running the model for %.1f (ms) with time step of %.3f (ms):\" % (h.tstop, h.dt)\n",
    "h.finitialize()\n",
    "h.run()"
   ]
  },
  {
   "cell_type": "markdown",
   "metadata": {},
   "source": [
    "We use a couple of convenience routines to plot the membrane voltage from the different cells (excitatory in red, inhibitory in blue). "
   ]
  },
  {
   "cell_type": "code",
   "execution_count": 5,
   "metadata": {
    "collapsed": false
   },
   "outputs": [
    {
     "data": {
      "image/png": "[encoded data removed]",
      "text/plain": [
       "<matplotlib.figure.Figure at 0x7ffa6c652e10>"
      ]
     },
     "metadata": {},
     "output_type": "display_data"
    }
   ],
   "source": [
    "vis.Vm_traces(rec_vecs,db)\n",
    "plt.show()"
   ]
  },
  {
   "cell_type": "markdown",
   "metadata": {},
   "source": [
    "The cells respond with different numbers of spikes because they are stimulated with different current strengths.\n",
    "\n",
    "Now, we will connect the cells to see how the activity pattern changes. We just need to load in our connectivity matrix that tells us which cells are connected with which partners."
   ]
  },
  {
   "cell_type": "code",
   "execution_count": 6,
   "metadata": {
    "collapsed": false
   },
   "outputs": [
    {
     "name": "stdout",
     "output_type": "stream",
     "text": [
      "tar_gid: 0  src_gids: [3 8] nsyn: [4 4]\n",
      "tar_gid: 1  src_gids: [0 2 6 9] nsyn: [3 3 2 2]\n",
      "tar_gid: 2  src_gids: [7] nsyn: [4]\n",
      "tar_gid: 3  src_gids: [8] nsyn: [5]\n",
      "tar_gid: 4  src_gids: [1 7 8] nsyn: [2 3 5]\n",
      "tar_gid: 5  src_gids: [0 2 7] nsyn: [3 5 2]\n",
      "tar_gid: 6  src_gids: [0 4 8 9] nsyn: [4 2 6 3]\n",
      "tar_gid: 7  src_gids: [5] nsyn: [3]\n",
      "tar_gid: 8  src_gids: [0 3 4 9] nsyn: [3 2 3 3]\n",
      "tar_gid: 9  src_gids: [0 2 8] nsyn: [3 5 5]\n",
      "# of netcons, syns:  89 89\n"
     ]
    }
   ],
   "source": [
    "con = utils.load_connectivity()\n",
    "[netcons,syns]= utils.connect_cell(cells,db,con)\n",
    "print '# of netcons, syns: ',len(netcons), len(syns)"
   ]
  },
  {
   "cell_type": "markdown",
   "metadata": {},
   "source": [
    "Since our current clamp stimuli are already set up, we can just run the model again and plot the results."
   ]
  },
  {
   "cell_type": "code",
   "execution_count": 7,
   "metadata": {
    "collapsed": false
   },
   "outputs": [
    {
     "name": "stdout",
     "output_type": "stream",
     "text": [
      "Running the model for 2500.0 (ms) with time step of 0.025 (ms):\n"
     ]
    },
    {
     "data": {
      "image/png": "[encoded data removed]",
      "text/plain": [
       "<matplotlib.figure.Figure at 0x7ffa68744450>"
      ]
     },
     "metadata": {},
     "output_type": "display_data"
    }
   ],
   "source": [
    "print \"Running the model for %.1f (ms) with time step of %.3f (ms):\" % (h.tstop, h.dt)\n",
    "h.finitialize()\n",
    "h.run()\n",
    "\n",
    "vis.Vm_traces(rec_vecs,db)\n",
    "plt.show()"
   ]
  },
  {
   "cell_type": "markdown",
   "metadata": {},
   "source": [
    "You can see that the pattern of spikes have changed - some cells that did not fire before are now active, and the activity in the excitatory cells occurs more simultaneously. You can also see some subthreshold potentials due to synaptic input in the voltage traces."
   ]
  },
  {
   "cell_type": "code",
   "execution_count": null,
   "metadata": {
    "collapsed": true
   },
   "outputs": [],
   "source": []
  }
 ],
 "metadata": {
  "kernelspec": {
   "display_name": "Python 2",
   "language": "python",
   "name": "python2"
  },
  "language_info": {
   "codemirror_mode": {
    "name": "ipython",
    "version": 2
   },
   "file_extension": ".py",
   "mimetype": "text/x-python",
   "name": "python",
   "nbconvert_exporter": "python",
   "pygments_lexer": "ipython2",
   "version": "2.7.9"
  }
 },
 "nbformat": 4,
 "nbformat_minor": 0
}
