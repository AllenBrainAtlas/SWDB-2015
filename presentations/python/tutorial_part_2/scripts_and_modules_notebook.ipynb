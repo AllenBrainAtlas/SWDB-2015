{
 "cells": [
  {
   "cell_type": "markdown",
   "metadata": {},
   "source": [
    "# Python Scripting\n",
    "\n",
    "Python scripts are .py files with Python code in them.\n",
    "\n",
    "Check out f1_scripts.py to see what a script looks like.\n",
    "\n",
    "Run this from the command line:\n",
    "    \n",
    "    $ python f1_scripts.py"
   ]
  },
  {
   "cell_type": "markdown",
   "metadata": {},
   "source": [
    "# Importing Functions from Files \n",
    "\n",
    "Having everything in one giant file can be tough.  As you build libraries of functions, it's nice to keep them in separate files and import them when you need them.  Let's give it a shot."
   ]
  },
  {
   "cell_type": "code",
   "execution_count": 1,
   "metadata": {
    "collapsed": false
   },
   "outputs": [
    {
     "name": "stdout",
     "output_type": "stream",
     "text": [
      "2.82842712475\n",
      "2.82842712475\n"
     ]
    }
   ],
   "source": [
    "# This will search your PYTHONPATH for f1_scripts.py.  \n",
    "# More on PYTHONPATH later.\n",
    "import f1_scripts "
   ]
  },
  {
   "cell_type": "markdown",
   "metadata": {},
   "source": [
    "Why did this just print out some numbers twice?\n",
    "\n",
    "The 'import' statement executes every statement in f1_scripts.py in order. Let's take a look back at f1_scripts.py."
   ]
  },
  {
   "cell_type": "code",
   "execution_count": 2,
   "metadata": {
    "collapsed": false
   },
   "outputs": [],
   "source": [
    "# let's import it again for fun\n",
    "import f1_scripts "
   ]
  },
  {
   "cell_type": "markdown",
   "metadata": {},
   "source": [
    "Why didn't this print out those statements again?  Python is clever about imports -- it only re-imports if you change the file.  \n",
    "\n",
    "Now let's figure out how to avoid those statements in the first place.  Check out f2_modules.py."
   ]
  },
  {
   "cell_type": "code",
   "execution_count": 3,
   "metadata": {
    "collapsed": true
   },
   "outputs": [],
   "source": [
    "import f2_modules"
   ]
  },
  {
   "cell_type": "markdown",
   "metadata": {},
   "source": [
    "That's better.  Now let's call our function."
   ]
  },
  {
   "cell_type": "code",
   "execution_count": 4,
   "metadata": {
    "collapsed": false
   },
   "outputs": [
    {
     "data": {
      "text/plain": [
       "2.8284271247461903"
      ]
     },
     "execution_count": 4,
     "metadata": {},
     "output_type": "execute_result"
    }
   ],
   "source": [
    "p1 = (1,2)\n",
    "p2 = (3,4)\n",
    "\n",
    "# this is rather verbose\n",
    "f2_modules.distance_between_points_2d(p1,p2)"
   ]
  },
  {
   "cell_type": "markdown",
   "metadata": {},
   "source": [
    "Notice how I called that function?  When you import a module/file by name, everything that was created gets put into its own scope, which is named however you imported it.  What if a file has the same name as a variable you want to use?"
   ]
  },
  {
   "cell_type": "code",
   "execution_count": 5,
   "metadata": {
    "collapsed": false
   },
   "outputs": [
    {
     "data": {
      "text/plain": [
       "2.8284271247461903"
      ]
     },
     "execution_count": 5,
     "metadata": {},
     "output_type": "execute_result"
    }
   ],
   "source": [
    "import f2_modules as f2_modules_ex\n",
    "\n",
    "f2_modules_ex.distance_between_points_2d(p1,p2)"
   ]
  },
  {
   "cell_type": "markdown",
   "metadata": {},
   "source": [
    "But really, this is a good way to get confused.  If you can, just rename your variable."
   ]
  },
  {
   "cell_type": "code",
   "execution_count": 6,
   "metadata": {
    "collapsed": false
   },
   "outputs": [
    {
     "data": {
      "text/plain": [
       "2.8284271247461903"
      ]
     },
     "execution_count": 6,
     "metadata": {},
     "output_type": "execute_result"
    }
   ],
   "source": [
    "from f2_modules import distance_between_points_2d\n",
    "\n",
    "# a little shorter\n",
    "distance_between_points_2d(p1,p2)"
   ]
  },
  {
   "cell_type": "code",
   "execution_count": 7,
   "metadata": {
    "collapsed": false
   },
   "outputs": [
    {
     "data": {
      "text/plain": [
       "2.8284271247461903"
      ]
     },
     "execution_count": 7,
     "metadata": {},
     "output_type": "execute_result"
    }
   ],
   "source": [
    "from f2_modules import distance_between_points_2d as d2d\n",
    "\n",
    "# careful! this is probably too short.\n",
    "d2d(p1, p2)"
   ]
  },
  {
   "cell_type": "markdown",
   "metadata": {},
   "source": [
    "# from m import \\*\n",
    "\n",
    "AKA: how to lose days of your life to strange bugs.\n",
    "\n",
    "When you 'import \\*' from a module, it will import everything in that file into your module's scope.  If there's something in that module that has the same name as something in your module, it will *overwrite it without warning you*.  \n",
    "\n",
    "Best practice is never to 'import \\*'. ever. really!"
   ]
  },
  {
   "cell_type": "code",
   "execution_count": 8,
   "metadata": {
    "collapsed": false
   },
   "outputs": [
    {
     "name": "stdout",
     "output_type": "stream",
     "text": [
      "neuron variable is: <function neuron at 0x7f996017c938>\n",
      "inside neuron function!\n",
      "now neuron variable is: pretend we just did some hard math that took forever\n",
      "<function neuron at 0x7f996017c938>\n"
     ]
    }
   ],
   "source": [
    "# this will import a function called 'neuron'\n",
    "from f2_modules import *\n",
    "\n",
    "print \"neuron variable is:\", neuron\n",
    "\n",
    "neuron()\n",
    "\n",
    "# we just overwrite the function we imported, oops\n",
    "neuron = \"pretend we just did some hard math that took forever\"\n",
    "\n",
    "print \"now neuron variable is:\", neuron\n",
    "\n",
    "# this will overwrite all of the hard math we just did!\n",
    "from f2_modules import *\n",
    "\n",
    "print neuron # yep, this is a function again"
   ]
  },
  {
   "cell_type": "markdown",
   "metadata": {},
   "source": [
    "But wait, you ask, isn't Python smart about re-importing stuff?  When you 'import \\*', you're telling python that you want to reimport everything into global scope.  So it does!"
   ]
  },
  {
   "cell_type": "markdown",
   "metadata": {},
   "source": [
    "# Submodules\n",
    "\n",
    "Congratulations!  You have written so many modules that you're having trouble keeping track of them.  Python will let you put them into submodules by putting them in subdirectories.  The only trick is that the subdirectories need a '\\_\\_init\\_\\_.py' file inside them.  \n",
    "\n",
    "Take a look in the \"submodule\" folder."
   ]
  },
  {
   "cell_type": "code",
   "execution_count": 9,
   "metadata": {
    "collapsed": false
   },
   "outputs": [
    {
     "name": "stdout",
     "output_type": "stream",
     "text": [
      "testing a submodule function!\n"
     ]
    }
   ],
   "source": [
    "from submodule.submodule_test import submodule_test_function\n",
    "submodule_test_function()"
   ]
  },
  {
   "cell_type": "markdown",
   "metadata": {},
   "source": [
    "# PYTHONPATH\n",
    "\n",
    "The PYTHONPATH is where Python looks when you try to import things.  By default it looks in:\n",
    "\n",
    "    - <python_install>/lib/python2.7/site-packages\n",
    "    - <home_directory>/.local\n",
    "    - <current_working_directory>\n",
    "    \n",
    "You can add directories to your PYTHONPATH.  In linux and OS X this looks like:\n",
    "\n",
    "    $ export PYTHONPATH=/some/directory/:$PYTHONPATH"
   ]
  }
 ],
 "metadata": {
  "kernelspec": {
   "display_name": "Python 2",
   "language": "python",
   "name": "python2"
  },
  "language_info": {
   "codemirror_mode": {
    "name": "ipython",
    "version": 2
   },
   "file_extension": ".py",
   "mimetype": "text/x-python",
   "name": "python",
   "nbconvert_exporter": "python",
   "pygments_lexer": "ipython2",
   "version": "2.7.10"
  }
 },
 "nbformat": 4,
 "nbformat_minor": 0
}
