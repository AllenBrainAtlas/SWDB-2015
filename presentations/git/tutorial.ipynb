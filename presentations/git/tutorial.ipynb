{
 "cells": [
  {
   "cell_type": "markdown",
   "metadata": {},
   "source": [
    "# Git and Github Tutorial\n",
    "*This tutorial will walk you through some of the basics of git (repos, comitting, stashing, branches) before applying some of these concepts in a social coding context (i.e., Github). *\n",
    "\n",
    "IMPORTANT: You must either use a bash shell or rewrite these commands in a terminal. This is not python code.\n",
    "\n",
    "IMPORTANT: If you're on Windows, you need to download a git bash terminal (by going [here](https://git-scm.com/downloads) for instance). Avoid using the graphical user interface (GUI) because it'll be harder to grasp the concepts in the long run. Also, many of the help guides use the terminal instead of the GUI.\n",
    "\n",
    "*Reasons to use Git\n",
    "1. Version control with branches\n",
    "2. Free and open source\n",
    "3. Lends itself well to collaborative coding tools (like Github)*\n",
    "\n",
    "*Reasons to use Github\n",
    "1. Greatly facilitated collaborative coding through repositories (or \"repos\")\n",
    "2. Issue tracking (both code bugs and suggested enhancements)\n",
    "3. Ease of reviewing code changes\n",
    "4. Continuous integration (CI) for automatic code checking\n",
    "5. Octocat*"
   ]
  },
  {
   "cell_type": "markdown",
   "metadata": {},
   "source": [
    "# The basics\n",
    "`git` *is just a piece of software that you can download.*\n",
    "\n",
    "*If you don't already have it, you can get it by following [these instructions](https://git-scm.com/book/en/v2/Getting-Started-Installing-Git).*"
   ]
  },
  {
   "cell_type": "code",
   "execution_count": 1,
   "metadata": {
    "collapsed": false,
    "scrolled": true
   },
   "outputs": [
    {
     "name": "stdout",
     "output_type": "stream",
     "text": []
    }
   ],
   "source": [
    "mkdir my_project"
   ]
  },
  {
   "cell_type": "code",
   "execution_count": 2,
   "metadata": {
    "collapsed": false,
    "scrolled": true
   },
   "outputs": [
    {
     "name": "stdout",
     "output_type": "stream",
     "text": [
      "\u001b[1m\u001b[34m.\u001b[39;49m\u001b[0m  \u001b[1m\u001b[34m..\u001b[39;49m\u001b[0m\r\n"
     ]
    }
   ],
   "source": [
    "cd my_project\n",
    "ls -a"
   ]
  },
  {
   "cell_type": "code",
   "execution_count": 3,
   "metadata": {
    "collapsed": false,
    "scrolled": true
   },
   "outputs": [
    {
     "name": "stdout",
     "output_type": "stream",
     "text": [
      "Initialized empty Git repository in /Users/rkp/Dropbox/Repositories/dbw_2015/tutorial_git/my_project/.git/\r\n"
     ]
    }
   ],
   "source": [
    "git init"
   ]
  },
  {
   "cell_type": "markdown",
   "metadata": {},
   "source": [
    "*When you initialize a repository, git creates a hidden directory called .git, which is where your project history will be stored.*\n",
    "\n",
    "*At this point your project is entirely local, so even though all the versions will be stored, if you delete the repository you will lose all of your work. We will learn how to use GitHub in a little bit.*"
   ]
  },
  {
   "cell_type": "code",
   "execution_count": 4,
   "metadata": {
    "collapsed": false,
    "scrolled": true
   },
   "outputs": [
    {
     "name": "stdout",
     "output_type": "stream",
     "text": [
      "\u001b[1m\u001b[34m.\u001b[39;49m\u001b[0m    \u001b[1m\u001b[34m..\u001b[39;49m\u001b[0m   \u001b[1m\u001b[34m.git\u001b[39;49m\u001b[0m\r\n"
     ]
    }
   ],
   "source": [
    "ls -a"
   ]
  },
  {
   "cell_type": "markdown",
   "metadata": {},
   "source": [
    "`git status` *allows you to look at the current state of your working directory.*"
   ]
  },
  {
   "cell_type": "code",
   "execution_count": 5,
   "metadata": {
    "collapsed": false,
    "scrolled": false
   },
   "outputs": [
    {
     "name": "stdout",
     "output_type": "stream",
     "text": [
      "# On branch master\r\n",
      "#\r\n",
      "# Initial commit\r\n",
      "#\r\n",
      "nothing to commit (create/copy files and use \"git add\" to track)\r\n"
     ]
    }
   ],
   "source": [
    "git status"
   ]
  },
  {
   "cell_type": "markdown",
   "metadata": {},
   "source": [
    "### *Creating a new file and committing it.*\n",
    "*Make a file called \"my_code.py\" inside the \"my_project\" directory and add the following lines:*\n",
    "```\n",
    "from __future__ import division\n",
    "import numpy as np\n",
    "import matplotlib.pyplot as plt\n",
    "```"
   ]
  },
  {
   "cell_type": "code",
   "execution_count": 6,
   "metadata": {
    "collapsed": false,
    "scrolled": false
   },
   "outputs": [
    {
     "name": "stdout",
     "output_type": "stream",
     "text": [
      "# On branch master\r\n",
      "#\r\n",
      "# Initial commit\r\n",
      "#\r\n",
      "# Untracked files:\r\n",
      "#   (use \"git add <file>...\" to include in what will be committed)\r\n",
      "#\r\n",
      "#\t\u001b[31mmy_code.py\u001b[m\r\n",
      "nothing added to commit but untracked files present (use \"git add\" to track)\r\n"
     ]
    }
   ],
   "source": [
    "git status"
   ]
  },
  {
   "cell_type": "markdown",
   "metadata": {},
   "source": [
    "*The command *`git add <file>`* moves a modified file to the staging area.*"
   ]
  },
  {
   "cell_type": "code",
   "execution_count": 7,
   "metadata": {
    "collapsed": false,
    "scrolled": true
   },
   "outputs": [
    {
     "name": "stdout",
     "output_type": "stream",
     "text": []
    }
   ],
   "source": [
    "git add my_code.py"
   ]
  },
  {
   "cell_type": "code",
   "execution_count": 8,
   "metadata": {
    "collapsed": false,
    "scrolled": true
   },
   "outputs": [
    {
     "name": "stdout",
     "output_type": "stream",
     "text": [
      "# On branch master\r\n",
      "#\r\n",
      "# Initial commit\r\n",
      "#\r\n",
      "# Changes to be committed:\r\n",
      "#   (use \"git rm --cached <file>...\" to unstage)\r\n",
      "#\r\n",
      "#\t\u001b[32mnew file:   my_code.py\u001b[m\r\n",
      "#\r\n"
     ]
    }
   ],
   "source": [
    "git status"
   ]
  },
  {
   "cell_type": "markdown",
   "metadata": {},
   "source": [
    "*Note: files can be removed from the staging area using * `git reset`."
   ]
  },
  {
   "cell_type": "markdown",
   "metadata": {},
   "source": [
    "*The command *`git commit -m <message>`* saves the changes in the staging area to your project history.*"
   ]
  },
  {
   "cell_type": "code",
   "execution_count": 9,
   "metadata": {
    "collapsed": false,
    "scrolled": true
   },
   "outputs": [
    {
     "name": "stdout",
     "output_type": "stream",
     "text": [
      "[master (root-commit) 19f5f66] Add imports to code.\r\n",
      " 1 file changed, 3 insertions(+)\r\n",
      " create mode 100644 my_code.py\r\n"
     ]
    }
   ],
   "source": [
    "git commit -m \"Add imports to code.\""
   ]
  },
  {
   "cell_type": "code",
   "execution_count": 10,
   "metadata": {
    "collapsed": false,
    "scrolled": true
   },
   "outputs": [
    {
     "name": "stdout",
     "output_type": "stream",
     "text": [
      "# On branch master\r\n",
      "nothing to commit (working directory clean)\r\n"
     ]
    }
   ],
   "source": [
    "git status"
   ]
  },
  {
   "cell_type": "markdown",
   "metadata": {},
   "source": [
    "### *Committing modifications to a file.*\n",
    "*Add the following lines to my_code.py:*\n",
    "```\n",
    "def print_hi():\n",
    "    print 'hi'\n",
    "```"
   ]
  },
  {
   "cell_type": "code",
   "execution_count": 11,
   "metadata": {
    "collapsed": false,
    "scrolled": true
   },
   "outputs": [
    {
     "name": "stdout",
     "output_type": "stream",
     "text": [
      "[master a9f7b16] Add print_hi function.\r\n",
      " 1 file changed, 4 insertions(+)\r\n"
     ]
    }
   ],
   "source": [
    "git add my_code.py\n",
    "git commit -m \"Add print_hi function.\""
   ]
  },
  {
   "cell_type": "markdown",
   "metadata": {},
   "source": [
    "*You can use *`git log`* (with various options) to view your project history. (Note that this will look nicer in your terminal window.)*\n",
    "\n",
    "`HEAD` *tells you what commit you're currently looking at.*"
   ]
  },
  {
   "cell_type": "code",
   "execution_count": 12,
   "metadata": {
    "collapsed": false,
    "scrolled": true
   },
   "outputs": [
    {
     "name": "stdout",
     "output_type": "stream",
     "text": [
      "\u001b[?1h\u001b=\u001b[33ma9f7b16 (\u001b[1;36mHEAD\u001b[m\u001b[33m, \u001b[1;32mmaster\u001b[m\u001b[33m)\u001b[m Add print_hi function.\u001b[m\r\n",
      "\u001b[33m19f5f66\u001b[m Add imports to code.\u001b[m\r\n",
      "\r",
      "\u001b[K\u001b[?1l\u001b>"
     ]
    }
   ],
   "source": [
    "git log --oneline --decorate --all"
   ]
  },
  {
   "cell_type": "markdown",
   "metadata": {
    "collapsed": true
   },
   "source": [
    "### *Looking at past commits*\n",
    "*You can view a previous commit using:* `git checkout <commit>` \n",
    "\n",
    "*(Note that commit hashes are essentially random and will be specific to each repository.)*"
   ]
  },
  {
   "cell_type": "code",
   "execution_count": 14,
   "metadata": {
    "collapsed": false,
    "scrolled": true
   },
   "outputs": [
    {
     "name": "stdout",
     "output_type": "stream",
     "text": [
      "Note: checking out '19f5f66'.\r\n",
      "\r\n",
      "You are in 'detached HEAD' state. You can look around, make experimental\r\n",
      "changes and commit them, and you can discard any commits you make in this\r\n",
      "state without impacting any branches by performing another checkout.\r\n",
      "\r\n",
      "If you want to create a new branch to retain commits you create, you may\r\n",
      "do so (now or later) by using -b with the checkout command again. Example:\r\n",
      "\r\n",
      "  git checkout -b new_branch_name\r\n",
      "\r\n",
      "HEAD is now at 19f5f66... Add imports to code.\r\n"
     ]
    }
   ],
   "source": [
    "git checkout 19f5f66"
   ]
  },
  {
   "cell_type": "markdown",
   "metadata": {},
   "source": [
    "*Now go take a look at *`my_code.py`*. You won't see your recent changes there. Why not?*"
   ]
  },
  {
   "cell_type": "code",
   "execution_count": 15,
   "metadata": {
    "collapsed": false,
    "scrolled": true
   },
   "outputs": [
    {
     "name": "stdout",
     "output_type": "stream",
     "text": [
      "\u001b[?1h\u001b=\u001b[33ma9f7b16 (\u001b[1;32mmaster\u001b[m\u001b[33m)\u001b[m Add print_hi function.\u001b[m\r\n",
      "\u001b[33m19f5f66 (\u001b[1;36mHEAD\u001b[m\u001b[33m)\u001b[m Add imports to code.\u001b[m\r\n",
      "\r",
      "\u001b[K\u001b[?1l\u001b>"
     ]
    }
   ],
   "source": [
    "git log --oneline --decorate --all"
   ]
  },
  {
   "cell_type": "markdown",
   "metadata": {},
   "source": [
    "*If you wanted to modify this code you would make a new branch from this commit, which we'll talk about later.*"
   ]
  },
  {
   "cell_type": "markdown",
   "metadata": {},
   "source": [
    "*To return the *`HEAD`* to the most recent commit, use:*  `git checkout master`"
   ]
  },
  {
   "cell_type": "code",
   "execution_count": 16,
   "metadata": {
    "collapsed": false,
    "scrolled": true
   },
   "outputs": [
    {
     "name": "stdout",
     "output_type": "stream",
     "text": [
      "Previous HEAD position was 19f5f66... Add imports to code.\r\n",
      "Switched to branch 'master'\r\n"
     ]
    }
   ],
   "source": [
    "git checkout master"
   ]
  },
  {
   "cell_type": "markdown",
   "metadata": {},
   "source": [
    "*If you want to make sure this worked correctly and took you back to your most recent commit, look at *`my_code.py`."
   ]
  },
  {
   "cell_type": "code",
   "execution_count": 17,
   "metadata": {
    "collapsed": false,
    "scrolled": true
   },
   "outputs": [
    {
     "name": "stdout",
     "output_type": "stream",
     "text": [
      "\u001b[?1h\u001b=\u001b[33ma9f7b16 (\u001b[1;36mHEAD\u001b[m\u001b[33m, \u001b[1;32mmaster\u001b[m\u001b[33m)\u001b[m Add print_hi function.\u001b[m\r\n",
      "\u001b[33m19f5f66\u001b[m Add imports to code.\u001b[m\r\n",
      "\r",
      "\u001b[K\u001b[?1l\u001b>"
     ]
    }
   ],
   "source": [
    "git log --oneline --decorate --all"
   ]
  },
  {
   "cell_type": "markdown",
   "metadata": {},
   "source": [
    "*To undo a commit use:* `git revert HEAD` *(or* `git revert HEAD~3..HEAD` *to undo the last three commits, for example).*\n",
    "\n",
    "*Note that below we've used the *`--no-edit`* option, since Jupyter won't open a text editor. If you run this in the command line without the *`--no-edit`* option, you'll be taken to a text editor (most likely vim) that allows you to add more detail to your commit message. To enter text press \"i\", which will take you to insert mode. To exit insert mode press \"esc\". To close the text editor and save the commit type \":q\" and hit \"return\".*"
   ]
  },
  {
   "cell_type": "code",
   "execution_count": 18,
   "metadata": {
    "collapsed": false,
    "scrolled": true
   },
   "outputs": [
    {
     "name": "stdout",
     "output_type": "stream",
     "text": [
      "[master 9daa507] Revert \"Add print_hi function.\"\r\n",
      " 1 file changed, 4 deletions(-)\r\n"
     ]
    }
   ],
   "source": [
    "git revert HEAD --no-edit"
   ]
  },
  {
   "cell_type": "code",
   "execution_count": 19,
   "metadata": {
    "collapsed": false,
    "scrolled": true
   },
   "outputs": [
    {
     "name": "stdout",
     "output_type": "stream",
     "text": [
      "\u001b[?1h\u001b=\u001b[33m9daa507 (\u001b[1;36mHEAD\u001b[m\u001b[33m, \u001b[1;32mmaster\u001b[m\u001b[33m)\u001b[m Revert \"Add print_hi function.\"\u001b[m\r\n",
      "\u001b[33ma9f7b16\u001b[m Add print_hi function.\u001b[m\r\n",
      "\u001b[33m19f5f66\u001b[m Add imports to code.\u001b[m\r\n",
      "\r",
      "\u001b[K\u001b[?1l\u001b>"
     ]
    }
   ],
   "source": [
    "git log --oneline --decorate --all"
   ]
  },
  {
   "cell_type": "markdown",
   "metadata": {},
   "source": [
    "*Now take a look at * `my_code.py`. *You should see that your changes have been undone.*\n",
    "\n",
    "*Note that *`git revert`* does not actually erase anything from your project history. Instead it makes a new commit in which previous changes have been undone (this means that you can undo this revert as if it were any other commit.*"
   ]
  },
  {
   "cell_type": "markdown",
   "metadata": {},
   "source": [
    "*Now add the change that you actually wanted:*\n",
    "```\n",
    "def print_bye():\n",
    "    print 'bye'\n",
    "```"
   ]
  },
  {
   "cell_type": "code",
   "execution_count": 20,
   "metadata": {
    "collapsed": false,
    "scrolled": true
   },
   "outputs": [
    {
     "name": "stdout",
     "output_type": "stream",
     "text": [
      "[master db94f78] Add print_bye function.\r\n",
      " 1 file changed, 4 insertions(+)\r\n"
     ]
    }
   ],
   "source": [
    "git add my_code.py\n",
    "git commit -m \"Add print_bye function.\""
   ]
  },
  {
   "cell_type": "code",
   "execution_count": 21,
   "metadata": {
    "collapsed": false,
    "scrolled": true
   },
   "outputs": [
    {
     "name": "stdout",
     "output_type": "stream",
     "text": [
      "\u001b[?1h\u001b=\u001b[33mdb94f78 (\u001b[1;36mHEAD\u001b[m\u001b[33m, \u001b[1;32mmaster\u001b[m\u001b[33m)\u001b[m Add print_bye function.\u001b[m\r\n",
      "\u001b[33m9daa507\u001b[m Revert \"Add print_hi function.\"\u001b[m\r\n",
      "\u001b[33ma9f7b16\u001b[m Add print_hi function.\u001b[m\r\n",
      "\u001b[33m19f5f66\u001b[m Add imports to code.\u001b[m\r\n",
      "\r",
      "\u001b[K\u001b[?1l\u001b>"
     ]
    }
   ],
   "source": [
    "git log --oneline --decorate --all"
   ]
  },
  {
   "cell_type": "markdown",
   "metadata": {},
   "source": [
    "### *Stashing*\n",
    "*Git will not let you checkout a previous a commit if you have modified files in your working directory since your last commit.*\n",
    "\n",
    "*For example, say that you've made another modification to your *`my_code.py`* by appending the line:*\n",
    "```\n",
    "def print_bye():\n",
    "    pass\n",
    "    # TODO: Fill in this later\n",
    "```\n",
    "*Now try to checkout one of your earlier commits and note that git won't let you do it.*"
   ]
  },
  {
   "cell_type": "code",
   "execution_count": 22,
   "metadata": {
    "collapsed": false,
    "scrolled": true
   },
   "outputs": [
    {
     "name": "stdout",
     "output_type": "stream",
     "text": [
      "error: Your local changes to the following files would be overwritten by checkout:\r\n",
      "\tmy_code.py\r\n",
      "Please, commit your changes or stash them before you can switch branches.\r\n",
      "Aborting\r\n"
     ]
    }
   ],
   "source": [
    "git checkout 19f5f66"
   ]
  },
  {
   "cell_type": "markdown",
   "metadata": {},
   "source": [
    "*To save these changes for later but without committing them, use * `git stash`."
   ]
  },
  {
   "cell_type": "code",
   "execution_count": 23,
   "metadata": {
    "collapsed": false,
    "scrolled": true
   },
   "outputs": [
    {
     "name": "stdout",
     "output_type": "stream",
     "text": [
      "Saved working directory and index state WIP on master: db94f78 Add print_bye function.\r\n",
      "HEAD is now at db94f78 Add print_bye function.\r\n"
     ]
    }
   ],
   "source": [
    "git stash"
   ]
  },
  {
   "cell_type": "markdown",
   "metadata": {},
   "source": [
    "*You can view all your stashes with *`git stash list` *:*"
   ]
  },
  {
   "cell_type": "code",
   "execution_count": 24,
   "metadata": {
    "collapsed": false,
    "scrolled": true
   },
   "outputs": [
    {
     "name": "stdout",
     "output_type": "stream",
     "text": [
      "\u001b[?1h\u001b=stash@{0}: WIP on master: db94f78 Add print_bye function.\u001b[m\r\n",
      "\r",
      "\u001b[K\u001b[?1l\u001b>"
     ]
    }
   ],
   "source": [
    "git stash list"
   ]
  },
  {
   "cell_type": "markdown",
   "metadata": {},
   "source": [
    "*Now since you've stashed our changes you can move your *`HEAD`* to a different commit.*"
   ]
  },
  {
   "cell_type": "code",
   "execution_count": 26,
   "metadata": {
    "collapsed": false,
    "scrolled": true
   },
   "outputs": [
    {
     "name": "stdout",
     "output_type": "stream",
     "text": [
      "Note: checking out '19f5f66'.\r\n",
      "\r\n",
      "You are in 'detached HEAD' state. You can look around, make experimental\r\n",
      "changes and commit them, and you can discard any commits you make in this\r\n",
      "state without impacting any branches by performing another checkout.\r\n",
      "\r\n",
      "If you want to create a new branch to retain commits you create, you may\r\n",
      "do so (now or later) by using -b with the checkout command again. Example:\r\n",
      "\r\n",
      "  git checkout -b new_branch_name\r\n",
      "\r\n",
      "HEAD is now at 19f5f66... Add imports to code.\r\n"
     ]
    }
   ],
   "source": [
    "git checkout 19f5f66"
   ]
  },
  {
   "cell_type": "markdown",
   "metadata": {},
   "source": [
    "*Once you're done looking around go back to the most recent commit.*"
   ]
  },
  {
   "cell_type": "code",
   "execution_count": 27,
   "metadata": {
    "collapsed": false,
    "scrolled": true
   },
   "outputs": [
    {
     "name": "stdout",
     "output_type": "stream",
     "text": [
      "Previous HEAD position was 19f5f66... Add imports to code.\r\n",
      "Switched to branch 'master'\r\n"
     ]
    }
   ],
   "source": [
    "git checkout master"
   ]
  },
  {
   "cell_type": "markdown",
   "metadata": {},
   "source": [
    "*If you look around after having returned to the most recent commit, you'll notice that the changes you stashed are no longer there. To get them back, we need to reapply the stashed changes by using the following command:*"
   ]
  },
  {
   "cell_type": "code",
   "execution_count": 28,
   "metadata": {
    "collapsed": false,
    "scrolled": true
   },
   "outputs": [
    {
     "name": "stdout",
     "output_type": "stream",
     "text": [
      "# On branch master\r\n",
      "# Changes not staged for commit:\r\n",
      "#   (use \"git add <file>...\" to update what will be committed)\r\n",
      "#   (use \"git checkout -- <file>...\" to discard changes in working directory)\r\n",
      "#\r\n",
      "#\t\u001b[31mmodified:   my_code.py\u001b[m\r\n",
      "#\r\n",
      "no changes added to commit (use \"git add\" and/or \"git commit -a\")\r\n",
      "Dropped stash@{0} (eb2c4433b9aa62b5550eafff64bc06c1fb9f1005)\r\n"
     ]
    }
   ],
   "source": [
    "git stash pop stash@{0}"
   ]
  },
  {
   "cell_type": "markdown",
   "metadata": {},
   "source": [
    "*Finish up your edits to *`my_code.py`* and commit before moving on to the next section.*\n",
    "```\n",
    "def print_why():\n",
    "    print 'why'\n",
    "```"
   ]
  },
  {
   "cell_type": "code",
   "execution_count": 29,
   "metadata": {
    "collapsed": false,
    "scrolled": true
   },
   "outputs": [
    {
     "name": "stdout",
     "output_type": "stream",
     "text": [
      "[master 4902e37] Add print_why function.\r\n",
      " 1 file changed, 4 insertions(+)\r\n"
     ]
    }
   ],
   "source": [
    "git add my_code.py\n",
    "git commit -m \"Add print_why function.\""
   ]
  },
  {
   "cell_type": "markdown",
   "metadata": {},
   "source": [
    "# Branches"
   ]
  },
  {
   "cell_type": "markdown",
   "metadata": {},
   "source": [
    "*Branches allow you to test out features, bug fixes, etc., before integrating them into your main project.*\n",
    "\n",
    "*For example, say you want to add a new function to *`my_code.py`*. To do this create a branch called *`feature0`* that you can work on without messing up your main project.*\n",
    "\n",
    "*IMPORTANT: The new branch inherits whatever changes are on the current branch. Most of the time, you'll want to be on *`master`* when you create a new branch to avoid inheriting changes from other branches.*"
   ]
  },
  {
   "cell_type": "markdown",
   "metadata": {},
   "source": [
    "*Running *`git branch`* on its own shows you all the branches and indicates which one you're on.*"
   ]
  },
  {
   "cell_type": "code",
   "execution_count": 30,
   "metadata": {
    "collapsed": false
   },
   "outputs": [
    {
     "name": "stdout",
     "output_type": "stream",
     "text": [
      "* \u001b[32mmaster\u001b[m\r\n"
     ]
    }
   ],
   "source": [
    "git branch"
   ]
  },
  {
   "cell_type": "markdown",
   "metadata": {},
   "source": [
    "*Running* `git branch` *with an argument creates a new branch.*"
   ]
  },
  {
   "cell_type": "code",
   "execution_count": 31,
   "metadata": {
    "collapsed": false,
    "scrolled": true
   },
   "outputs": [
    {
     "name": "stdout",
     "output_type": "stream",
     "text": []
    }
   ],
   "source": [
    "git branch feature0"
   ]
  },
  {
   "cell_type": "code",
   "execution_count": 32,
   "metadata": {
    "collapsed": false,
    "scrolled": true
   },
   "outputs": [
    {
     "name": "stdout",
     "output_type": "stream",
     "text": [
      "  feature0\u001b[m\r\n",
      "* \u001b[32mmaster\u001b[m\r\n"
     ]
    }
   ],
   "source": [
    "git branch"
   ]
  },
  {
   "cell_type": "markdown",
   "metadata": {},
   "source": [
    "*The following shows you all your commits, with the branches and *`HEAD`* labeled.*"
   ]
  },
  {
   "cell_type": "code",
   "execution_count": 33,
   "metadata": {
    "collapsed": false,
    "scrolled": true
   },
   "outputs": [
    {
     "name": "stdout",
     "output_type": "stream",
     "text": [
      "\u001b[?1h\u001b=\u001b[33m4902e37 (\u001b[1;36mHEAD\u001b[m\u001b[33m, \u001b[1;32mmaster\u001b[m\u001b[33m, \u001b[1;32mfeature0\u001b[m\u001b[33m)\u001b[m Add print_why function.\u001b[m\r\n",
      "\u001b[33mdb94f78\u001b[m Add print_bye function.\u001b[m\r\n",
      "\u001b[33m9daa507\u001b[m Revert \"Add print_hi function.\"\u001b[m\r\n",
      "\u001b[33ma9f7b16\u001b[m Add print_hi function.\u001b[m\r\n",
      "\u001b[33m19f5f66\u001b[m Add imports to code.\u001b[m\r\n",
      "\r",
      "\u001b[K\u001b[?1l\u001b>"
     ]
    }
   ],
   "source": [
    "git log --oneline --all --decorate"
   ]
  },
  {
   "cell_type": "markdown",
   "metadata": {},
   "source": [
    "*Important note: a branch is just a pointer to specific commit. While it is often intuitively related to the tree structure of your project, this is not always the case.*\n",
    "\n",
    "*If *`git checkout`* is followed by a branch name, it will move your *`HEAD`* to that branch.*"
   ]
  },
  {
   "cell_type": "code",
   "execution_count": 34,
   "metadata": {
    "collapsed": false,
    "scrolled": true
   },
   "outputs": [
    {
     "name": "stdout",
     "output_type": "stream",
     "text": [
      "Switched to branch 'feature0'\r\n"
     ]
    }
   ],
   "source": [
    "git checkout feature0"
   ]
  },
  {
   "cell_type": "code",
   "execution_count": 35,
   "metadata": {
    "collapsed": false,
    "scrolled": true
   },
   "outputs": [
    {
     "name": "stdout",
     "output_type": "stream",
     "text": [
      "* \u001b[32mfeature0\u001b[m\r\n",
      "  master\u001b[m\r\n"
     ]
    }
   ],
   "source": [
    "git branch"
   ]
  },
  {
   "cell_type": "markdown",
   "metadata": {},
   "source": [
    "*Now add the following function (your new feature) to my_code.py and commit your changes:*\n",
    "```\n",
    "def print_hello():\n",
    "    print 'hello'\n",
    "```"
   ]
  },
  {
   "cell_type": "code",
   "execution_count": 36,
   "metadata": {
    "collapsed": false,
    "scrolled": true
   },
   "outputs": [
    {
     "name": "stdout",
     "output_type": "stream",
     "text": [
      "[feature0 93278e3] Add print_hello function.\r\n",
      " 1 file changed, 4 insertions(+)\r\n"
     ]
    }
   ],
   "source": [
    "git add my_code.py\n",
    "git commit -m \"Add print_hello function.\""
   ]
  },
  {
   "cell_type": "code",
   "execution_count": 37,
   "metadata": {
    "collapsed": false
   },
   "outputs": [
    {
     "name": "stdout",
     "output_type": "stream",
     "text": [
      "\u001b[?1h\u001b=\u001b[33m93278e3 (\u001b[1;36mHEAD\u001b[m\u001b[33m, \u001b[1;32mfeature0\u001b[m\u001b[33m)\u001b[m Add print_hello function.\u001b[m\r\n",
      "\u001b[33m4902e37 (\u001b[1;32mmaster\u001b[m\u001b[33m)\u001b[m Add print_why function.\u001b[m\r\n",
      "\u001b[33mdb94f78\u001b[m Add print_bye function.\u001b[m\r\n",
      "\u001b[33m9daa507\u001b[m Revert \"Add print_hi function.\"\u001b[m\r\n",
      "\u001b[33ma9f7b16\u001b[m Add print_hi function.\u001b[m\r\n",
      "\u001b[33m19f5f66\u001b[m Add imports to code.\u001b[m\r\n",
      "\r",
      "\u001b[K\u001b[?1l\u001b>"
     ]
    }
   ],
   "source": [
    "git log --oneline --decorate --all"
   ]
  },
  {
   "cell_type": "markdown",
   "metadata": {},
   "source": [
    "*Now go back to your *`master`* branch.*"
   ]
  },
  {
   "cell_type": "code",
   "execution_count": 38,
   "metadata": {
    "collapsed": false,
    "scrolled": true
   },
   "outputs": [
    {
     "name": "stdout",
     "output_type": "stream",
     "text": [
      "Switched to branch 'master'\r\n"
     ]
    }
   ],
   "source": [
    "git checkout master"
   ]
  },
  {
   "cell_type": "code",
   "execution_count": 39,
   "metadata": {
    "collapsed": false,
    "scrolled": true
   },
   "outputs": [
    {
     "name": "stdout",
     "output_type": "stream",
     "text": [
      "  feature0\u001b[m\r\n",
      "* \u001b[32mmaster\u001b[m\r\n"
     ]
    }
   ],
   "source": [
    "git branch"
   ]
  },
  {
   "cell_type": "code",
   "execution_count": 40,
   "metadata": {
    "collapsed": false
   },
   "outputs": [
    {
     "name": "stdout",
     "output_type": "stream",
     "text": [
      "\u001b[?1h\u001b=\u001b[33m93278e3 (\u001b[1;32mfeature0\u001b[m\u001b[33m)\u001b[m Add print_hello function.\u001b[m\r\n",
      "\u001b[33m4902e37 (\u001b[1;36mHEAD\u001b[m\u001b[33m, \u001b[1;32mmaster\u001b[m\u001b[33m)\u001b[m Add print_why function.\u001b[m\r\n",
      "\u001b[33mdb94f78\u001b[m Add print_bye function.\u001b[m\r\n",
      "\u001b[33m9daa507\u001b[m Revert \"Add print_hi function.\"\u001b[m\r\n",
      "\u001b[33ma9f7b16\u001b[m Add print_hi function.\u001b[m\r\n",
      "\u001b[33m19f5f66\u001b[m Add imports to code.\u001b[m\r\n",
      "\r",
      "\u001b[K\u001b[?1l\u001b>"
     ]
    }
   ],
   "source": [
    "git log --oneline --decorate --all"
   ]
  },
  {
   "cell_type": "markdown",
   "metadata": {},
   "source": [
    "*Take a look at *`my_code.py`*. You can see that the changes you made in the *`feature0`* branch haven't affected the *`master`* branch.*"
   ]
  },
  {
   "cell_type": "markdown",
   "metadata": {},
   "source": [
    "*If you are satisfied with your new feature, you can incorporate it into the main project by merging the feature0 branch into the master branch:*"
   ]
  },
  {
   "cell_type": "code",
   "execution_count": 41,
   "metadata": {
    "collapsed": false,
    "scrolled": true
   },
   "outputs": [
    {
     "name": "stdout",
     "output_type": "stream",
     "text": [
      "Updating 4902e37..93278e3\r\n",
      "Fast-forward\r\n",
      " my_code.py | 4 \u001b[32m++++\u001b[m\r\n",
      " 1 file changed, 4 insertions(+)\r\n"
     ]
    }
   ],
   "source": [
    "git merge feature0"
   ]
  },
  {
   "cell_type": "code",
   "execution_count": 42,
   "metadata": {
    "collapsed": false
   },
   "outputs": [
    {
     "name": "stdout",
     "output_type": "stream",
     "text": [
      "\u001b[?1h\u001b=\u001b[33m93278e3 (\u001b[1;36mHEAD\u001b[m\u001b[33m, \u001b[1;32mmaster\u001b[m\u001b[33m, \u001b[1;32mfeature0\u001b[m\u001b[33m)\u001b[m Add print_hello function.\u001b[m\r\n",
      "\u001b[33m4902e37\u001b[m Add print_why function.\u001b[m\r\n",
      "\u001b[33mdb94f78\u001b[m Add print_bye function.\u001b[m\r\n",
      "\u001b[33m9daa507\u001b[m Revert \"Add print_hi function.\"\u001b[m\r\n",
      "\u001b[33ma9f7b16\u001b[m Add print_hi function.\u001b[m\r\n",
      "\u001b[33m19f5f66\u001b[m Add imports to code.\u001b[m\r\n",
      "\r",
      "\u001b[K\u001b[?1l\u001b>"
     ]
    }
   ],
   "source": [
    "git log --oneline --decorate --all"
   ]
  },
  {
   "cell_type": "markdown",
   "metadata": {},
   "source": [
    "*With *`git merge`*, the specified branch is merged into the branch you're on.*\n",
    "\n",
    "*Once you have merged *`feature0`* you can delete it, since it is no longer needed.*"
   ]
  },
  {
   "cell_type": "code",
   "execution_count": 43,
   "metadata": {
    "collapsed": false,
    "scrolled": true
   },
   "outputs": [
    {
     "name": "stdout",
     "output_type": "stream",
     "text": [
      "Deleted branch feature0 (was 93278e3).\r\n"
     ]
    }
   ],
   "source": [
    "git branch -d feature0"
   ]
  },
  {
   "cell_type": "code",
   "execution_count": 44,
   "metadata": {
    "collapsed": false
   },
   "outputs": [
    {
     "name": "stdout",
     "output_type": "stream",
     "text": [
      "* \u001b[32mmaster\u001b[m\r\n"
     ]
    }
   ],
   "source": [
    "git branch"
   ]
  },
  {
   "cell_type": "code",
   "execution_count": 45,
   "metadata": {
    "collapsed": false
   },
   "outputs": [
    {
     "name": "stdout",
     "output_type": "stream",
     "text": [
      "\u001b[?1h\u001b=\u001b[33m93278e3 (\u001b[1;36mHEAD\u001b[m\u001b[33m, \u001b[1;32mmaster\u001b[m\u001b[33m)\u001b[m Add print_hello function.\u001b[m\r\n",
      "\u001b[33m4902e37\u001b[m Add print_why function.\u001b[m\r\n",
      "\u001b[33mdb94f78\u001b[m Add print_bye function.\u001b[m\r\n",
      "\u001b[33m9daa507\u001b[m Revert \"Add print_hi function.\"\u001b[m\r\n",
      "\u001b[33ma9f7b16\u001b[m Add print_hi function.\u001b[m\r\n",
      "\u001b[33m19f5f66\u001b[m Add imports to code.\u001b[m\r\n",
      "\r",
      "\u001b[K\u001b[?1l\u001b>"
     ]
    }
   ],
   "source": [
    "git log --oneline --decorate --all"
   ]
  },
  {
   "cell_type": "markdown",
   "metadata": {},
   "source": [
    "### Handling merge conflicts\n",
    "*Sometimes two branches will have made conflicting modifications to the same file.*\n",
    "\n",
    "*The below is a shortcut for making and checking out a new branch. I.e., it is equivalent to:*\n",
    "```\n",
    "git branch feature1\n",
    "git checkout feature1\n",
    "```"
   ]
  },
  {
   "cell_type": "code",
   "execution_count": 46,
   "metadata": {
    "collapsed": false,
    "scrolled": true
   },
   "outputs": [
    {
     "name": "stdout",
     "output_type": "stream",
     "text": [
      "Switched to a new branch 'feature1'\r\n"
     ]
    }
   ],
   "source": [
    "git checkout -b feature1"
   ]
  },
  {
   "cell_type": "markdown",
   "metadata": {},
   "source": [
    "*Add the following function to *`my_code.py:`\n",
    "```\n",
    "def print_circle():\n",
    "    print 'circle'\n",
    "```"
   ]
  },
  {
   "cell_type": "code",
   "execution_count": 47,
   "metadata": {
    "collapsed": false,
    "scrolled": true
   },
   "outputs": [
    {
     "name": "stdout",
     "output_type": "stream",
     "text": [
      "[feature1 3979799] Add print_circle function.\r\n",
      " 1 file changed, 4 insertions(+)\r\n"
     ]
    }
   ],
   "source": [
    "git add my_code.py\n",
    "git commit -m \"Add print_circle function.\""
   ]
  },
  {
   "cell_type": "markdown",
   "metadata": {},
   "source": [
    "*Now go back to your *`master`* branch*"
   ]
  },
  {
   "cell_type": "code",
   "execution_count": 48,
   "metadata": {
    "collapsed": false,
    "scrolled": true
   },
   "outputs": [
    {
     "name": "stdout",
     "output_type": "stream",
     "text": [
      "Switched to branch 'master'\r\n"
     ]
    }
   ],
   "source": [
    "git checkout master"
   ]
  },
  {
   "cell_type": "markdown",
   "metadata": {},
   "source": [
    "*And add the following function to my_code.py:*\n",
    "```\n",
    "def print_square():\n",
    "    print 'square'\n",
    "```"
   ]
  },
  {
   "cell_type": "code",
   "execution_count": 49,
   "metadata": {
    "collapsed": false,
    "scrolled": true
   },
   "outputs": [
    {
     "name": "stdout",
     "output_type": "stream",
     "text": [
      "[master b9aa1fb] Add print_square function.\r\n",
      " 1 file changed, 4 insertions(+)\r\n"
     ]
    }
   ],
   "source": [
    "git add my_code.py\n",
    "git commit -m \"Add print_square function.\""
   ]
  },
  {
   "cell_type": "markdown",
   "metadata": {},
   "source": [
    "*If you now look at your project tree (using the --graph option), you can see that *`feature1`* has diverged from *`master`."
   ]
  },
  {
   "cell_type": "code",
   "execution_count": 50,
   "metadata": {
    "collapsed": false,
    "scrolled": true
   },
   "outputs": [
    {
     "name": "stdout",
     "output_type": "stream",
     "text": [
      "\u001b[?1h\u001b=* \u001b[33mb9aa1fb (\u001b[1;36mHEAD\u001b[m\u001b[33m, \u001b[1;32mmaster\u001b[m\u001b[33m)\u001b[m Add print_square function.\u001b[m\r\n",
      "\u001b[31m|\u001b[m * \u001b[33m3979799 (\u001b[1;32mfeature1\u001b[m\u001b[33m)\u001b[m Add print_circle function.\u001b[m\r\n",
      "\u001b[31m|\u001b[m\u001b[31m/\u001b[m  \u001b[m\r\n",
      "* \u001b[33m93278e3\u001b[m Add print_hello function.\u001b[m\r\n",
      "* \u001b[33m4902e37\u001b[m Add print_why function.\u001b[m\r\n",
      "* \u001b[33mdb94f78\u001b[m Add print_bye function.\u001b[m\r\n",
      "* \u001b[33m9daa507\u001b[m Revert \"Add print_hi function.\"\u001b[m\r\n",
      "* \u001b[33ma9f7b16\u001b[m Add print_hi function.\u001b[m\r\n",
      "* \u001b[33m19f5f66\u001b[m Add imports to code.\u001b[m\r\n",
      "\r",
      "\u001b[K\u001b[?1l\u001b>"
     ]
    }
   ],
   "source": [
    "git log --oneline --all --decorate --graph"
   ]
  },
  {
   "cell_type": "markdown",
   "metadata": {},
   "source": [
    "*Now a merge attempt will fail since the same file has been modified differently in the two branches.*"
   ]
  },
  {
   "cell_type": "code",
   "execution_count": 51,
   "metadata": {
    "collapsed": false,
    "scrolled": true
   },
   "outputs": [
    {
     "name": "stdout",
     "output_type": "stream",
     "text": [
      "Auto-merging my_code.py\r\n",
      "CONFLICT (content): Merge conflict in my_code.py\r\n",
      "Automatic merge failed; fix conflicts and then commit the result.\r\n"
     ]
    }
   ],
   "source": [
    "git checkout master\n",
    "git merge feature1"
   ]
  },
  {
   "cell_type": "markdown",
   "metadata": {},
   "source": [
    "*Your friend *`git status`* can tell you where the conflicts are.*"
   ]
  },
  {
   "cell_type": "code",
   "execution_count": 52,
   "metadata": {
    "collapsed": false,
    "scrolled": true
   },
   "outputs": [
    {
     "name": "stdout",
     "output_type": "stream",
     "text": [
      "# On branch master\r\n",
      "# You have unmerged paths.\r\n",
      "#   (fix conflicts and run \"git commit\")\r\n",
      "#\r\n",
      "# Unmerged paths:\r\n",
      "#   (use \"git add <file>...\" to mark resolution)\r\n",
      "#\r\n",
      "#\t\u001b[31mboth modified:      my_code.py\u001b[m\r\n",
      "#\r\n",
      "no changes added to commit (use \"git add\" and/or \"git commit -a\")\r\n"
     ]
    }
   ],
   "source": [
    "git status"
   ]
  },
  {
   "cell_type": "markdown",
   "metadata": {},
   "source": [
    "*Now go look at the conflict in *`my_code.py`*. It will have the following syntax:*\n",
    "```\n",
    "...\n",
    "\n",
    "<<<<<<< HEAD\n",
    "def print_square():\n",
    "    print 'square'\n",
    "=======\n",
    "def print_circle():\n",
    "    print 'circle'\n",
    ">>>>>>> feature1\n",
    "```\n",
    "*This indicates what changes were made on your current branch and what changes were made on *`feature1`. *It is up to you to figure whether you want one modification, both, or some combination of the two. Suppose that you decide to keep both functions. In that case, change the code in *`my_code.py`* to look like:*\n",
    "```\n",
    "...\n",
    "\n",
    "def print_square():\n",
    "    print 'square'\n",
    "\n",
    "\n",
    "def print_circle():\n",
    "    print 'circle'\n",
    "```"
   ]
  },
  {
   "cell_type": "markdown",
   "metadata": {},
   "source": [
    "*Now add your \"fix\" and commit it.*"
   ]
  },
  {
   "cell_type": "code",
   "execution_count": 53,
   "metadata": {
    "collapsed": false,
    "scrolled": true
   },
   "outputs": [
    {
     "name": "stdout",
     "output_type": "stream",
     "text": [
      "[master e7e766a] merge\r\n"
     ]
    }
   ],
   "source": [
    "git add my_code.py\n",
    "git commit -m \"merge\""
   ]
  },
  {
   "cell_type": "markdown",
   "metadata": {},
   "source": [
    "*Now if you look at your project tree you'll see that the two arms of the tree have come back together (note, however, that the *`feature1`* branch is not at the same commit as *`master`*).*"
   ]
  },
  {
   "cell_type": "code",
   "execution_count": 54,
   "metadata": {
    "collapsed": false,
    "scrolled": true
   },
   "outputs": [
    {
     "name": "stdout",
     "output_type": "stream",
     "text": [
      "\u001b[?1h\u001b=*   \u001b[33me7e766a (\u001b[1;36mHEAD\u001b[m\u001b[33m, \u001b[1;32mmaster\u001b[m\u001b[33m)\u001b[m merge\u001b[m\r\n",
      "\u001b[31m|\u001b[m\u001b[32m\\\u001b[m  \u001b[m\r\n",
      "\u001b[31m|\u001b[m * \u001b[33m3979799 (\u001b[1;32mfeature1\u001b[m\u001b[33m)\u001b[m Add print_circle function.\u001b[m\r\n",
      "* \u001b[32m|\u001b[m \u001b[33mb9aa1fb\u001b[m Add print_square function.\u001b[m\r\n",
      "\u001b[32m|\u001b[m\u001b[32m/\u001b[m  \u001b[m\r\n",
      "* \u001b[33m93278e3\u001b[m Add print_hello function.\u001b[m\r\n",
      "* \u001b[33m4902e37\u001b[m Add print_why function.\u001b[m\r\n",
      "* \u001b[33mdb94f78\u001b[m Add print_bye function.\u001b[m\r\n",
      "* \u001b[33m9daa507\u001b[m Revert \"Add print_hi function.\"\u001b[m\r\n",
      "* \u001b[33ma9f7b16\u001b[m Add print_hi function.\u001b[m\r\n",
      "* \u001b[33m19f5f66\u001b[m Add imports to code.\u001b[m\r\n",
      "\r",
      "\u001b[K\u001b[?1l\u001b>"
     ]
    }
   ],
   "source": [
    "git log --oneline --all --decorate --graph"
   ]
  },
  {
   "cell_type": "code",
   "execution_count": 55,
   "metadata": {
    "collapsed": false,
    "scrolled": true
   },
   "outputs": [
    {
     "name": "stdout",
     "output_type": "stream",
     "text": [
      "# On branch master\r\n",
      "nothing to commit (working directory clean)\r\n"
     ]
    }
   ],
   "source": [
    "git status"
   ]
  },
  {
   "cell_type": "markdown",
   "metadata": {},
   "source": [
    "*Now you can delete *`feature1`* since you've incorporated all of the changes you want into *`master`."
   ]
  },
  {
   "cell_type": "code",
   "execution_count": 56,
   "metadata": {
    "collapsed": false,
    "scrolled": true
   },
   "outputs": [
    {
     "name": "stdout",
     "output_type": "stream",
     "text": [
      "Deleted branch feature1 (was 3979799).\r\n"
     ]
    }
   ],
   "source": [
    "git branch -d feature1"
   ]
  },
  {
   "cell_type": "markdown",
   "metadata": {},
   "source": [
    "*Note, however, even though the branch *`feature1`* has been deleted, the tree structure of the project before the merge does not change. We have only actually removed a pointer.*"
   ]
  },
  {
   "cell_type": "code",
   "execution_count": 57,
   "metadata": {
    "collapsed": false,
    "scrolled": true
   },
   "outputs": [
    {
     "name": "stdout",
     "output_type": "stream",
     "text": [
      "\u001b[?1h\u001b=*   \u001b[33me7e766a (\u001b[1;36mHEAD\u001b[m\u001b[33m, \u001b[1;32mmaster\u001b[m\u001b[33m)\u001b[m merge\u001b[m\r\n",
      "\u001b[31m|\u001b[m\u001b[32m\\\u001b[m  \u001b[m\r\n",
      "\u001b[31m|\u001b[m * \u001b[33m3979799\u001b[m Add print_circle function.\u001b[m\r\n",
      "* \u001b[32m|\u001b[m \u001b[33mb9aa1fb\u001b[m Add print_square function.\u001b[m\r\n",
      "\u001b[32m|\u001b[m\u001b[32m/\u001b[m  \u001b[m\r\n",
      "* \u001b[33m93278e3\u001b[m Add print_hello function.\u001b[m\r\n",
      "* \u001b[33m4902e37\u001b[m Add print_why function.\u001b[m\r\n",
      "* \u001b[33mdb94f78\u001b[m Add print_bye function.\u001b[m\r\n",
      "* \u001b[33m9daa507\u001b[m Revert \"Add print_hi function.\"\u001b[m\r\n",
      "* \u001b[33ma9f7b16\u001b[m Add print_hi function.\u001b[m\r\n",
      "* \u001b[33m19f5f66\u001b[m Add imports to code.\u001b[m\r\n",
      "\r",
      "\u001b[K\u001b[?1l\u001b>"
     ]
    }
   ],
   "source": [
    "git log --oneline --all --decorate --graph"
   ]
  },
  {
   "cell_type": "markdown",
   "metadata": {},
   "source": [
    "### Examples of merge conflicts:\n",
    "* *A file was modified in two different branches in different ways.*\n",
    "* *A file was modified in one branch and deleted in another.*\n",
    "* *A file was renamed in one branch and deleted in another.*\n",
    "* *And more!*\n",
    "\n",
    "### Examples of nonconflicts:\n",
    "* *A file was modified in only one branch.*\n",
    "* *A file was deleted in only one branch.*\n",
    "* *And more!*"
   ]
  },
  {
   "cell_type": "markdown",
   "metadata": {},
   "source": [
    "# GitHub"
   ]
  },
  {
   "cell_type": "markdown",
   "metadata": {},
   "source": [
    "### Pushing a repo to Github\n",
    "\n",
    "*You have a git repository on your local machine that we want to put into a remote repo (on the internet) to back up your code. First create a repo on Github called *`my_project`."
   ]
  },
  {
   "cell_type": "markdown",
   "metadata": {},
   "source": [
    "*Now, we first need to see what remote directories your git repo knows about (if any):*"
   ]
  },
  {
   "cell_type": "code",
   "execution_count": 58,
   "metadata": {
    "collapsed": false,
    "scrolled": true
   },
   "outputs": [
    {
     "name": "stdout",
     "output_type": "stream",
     "text": []
    }
   ],
   "source": [
    "git remote -v"
   ]
  },
  {
   "cell_type": "markdown",
   "metadata": {},
   "source": [
    "*The below command creates a link named *`origin`* that points at our remote repository. Technically, you can name your remote links anything you want, but *`origin`* is a convention for a remote repo that you own (i.e., a repo on Github that you own).*"
   ]
  },
  {
   "cell_type": "code",
   "execution_count": 59,
   "metadata": {
    "collapsed": false,
    "scrolled": true
   },
   "outputs": [
    {
     "name": "stdout",
     "output_type": "stream",
     "text": []
    }
   ],
   "source": [
    "git remote add origin https://github.com/your_account/my_project.git"
   ]
  },
  {
   "cell_type": "code",
   "execution_count": 60,
   "metadata": {
    "collapsed": false
   },
   "outputs": [
    {
     "name": "stdout",
     "output_type": "stream",
     "text": [
      "origin\thttps://github.com/rkp8000/my_project.git (fetch)\r\n",
      "origin\thttps://github.com/rkp8000/my_project.git (push)\r\n"
     ]
    }
   ],
   "source": [
    "git remote -v"
   ]
  },
  {
   "cell_type": "markdown",
   "metadata": {},
   "source": [
    "*You can now *`push`* any branches to your remote repo on Github. This will copy any code differences from your local machine to the remote version on the internet. To accomplish this, use the command *`git push <remote destination> <local branch>`\n",
    "\n",
    "*Note that unless your GitHub username and password have already been stored, you'll have to run the command below in your terminal, not in the notebook (because it will ask you for your username and password).*"
   ]
  },
  {
   "cell_type": "code",
   "execution_count": 61,
   "metadata": {
    "collapsed": false,
    "scrolled": true
   },
   "outputs": [
    {
     "name": "stdout",
     "output_type": "stream",
     "text": [
      "Counting objects: 25, done.\r\n",
      "Delta compression using up to 4 threads.\r\n",
      "Compressing objects:   5% (1/17)   \r",
      "Compressing objects:  11% (2/17)   \r",
      "Compressing objects:  17% (3/17)   \r",
      "Compressing objects:  23% (4/17)   \r",
      "Compressing objects:  29% (5/17)   \r",
      "Compressing objects:  35% (6/17)   \r",
      "Compressing objects:  41% (7/17)   \r",
      "Compressing objects:  47% (8/17)   \r",
      "Compressing objects:  52% (9/17)   \r",
      "Compressing objects:  58% (10/17)   \r",
      "Compressing objects:  64% (11/17)   \r",
      "Compressing objects:  70% (12/17)   \r",
      "Compressing objects:  76% (13/17)   \r",
      "Compressing objects:  82% (14/17)   \r",
      "Compressing objects:  88% (15/17)   \r",
      "Compressing objects:  94% (16/17)   \r",
      "Compressing objects: 100% (17/17)   \r",
      "Compressing objects: 100% (17/17), done.\r\n",
      "Writing objects:   4% (1/25)   \r",
      "Writing objects:   8% (2/25)   \r",
      "Writing objects:  12% (3/25)   \r",
      "Writing objects:  16% (4/25)   \r",
      "Writing objects:  20% (5/25)   \r",
      "Writing objects:  24% (6/25)   \r",
      "Writing objects:  28% (7/25)   \r",
      "Writing objects:  32% (8/25)   \r",
      "Writing objects:  36% (9/25)   \r",
      "Writing objects:  40% (10/25)   \r",
      "Writing objects:  44% (11/25)   \r",
      "Writing objects:  48% (12/25)   \r",
      "Writing objects:  52% (13/25)   \r",
      "Writing objects:  56% (14/25)   \r",
      "Writing objects:  60% (15/25)   \r",
      "Writing objects:  64% (16/25)   \r",
      "Writing objects:  68% (17/25)   \r",
      "Writing objects:  72% (18/25)   \r",
      "Writing objects:  76% (19/25)   \r",
      "Writing objects:  80% (20/25)   \r",
      "Writing objects:  84% (21/25)   \r",
      "Writing objects:  88% (22/25)   \r",
      "Writing objects:  92% (23/25)   \r",
      "Writing objects:  96% (24/25)   \r",
      "Writing objects: 100% (25/25)   \r",
      "Writing objects: 100% (25/25), 2.02 KiB, done.\r\n",
      "Total 25 (delta 9), reused 0 (delta 0)\r\n",
      "To https://github.com/rkp8000/my_project.git\r\n",
      " * [new branch]      master -> master\r\n"
     ]
    }
   ],
   "source": [
    "git push origin master"
   ]
  },
  {
   "cell_type": "markdown",
   "metadata": {},
   "source": [
    "*Now if we go back to our GitHub site we'll see our master branch.*"
   ]
  },
  {
   "cell_type": "markdown",
   "metadata": {},
   "source": [
    "# Collaborating on Github\n",
    "*Now imagine that you want to work on a code base with one or more other people. There are [two main repository models](https://help.github.com/articles/using-pull-requests/) that are frequently used:*\n",
    "\n",
    "1. Shared repository model\n",
    "\n",
    " *Here, everyone has write access to the same repository. In github, this is called \"collaborator\" access -- an unfortunate word choice for us scientists. This is more common for small, rapidly-developed code bases.* <br><br>\n",
    "2. Fork & pull repository model\n",
    "\n",
    "  *Here, a few supernerds have write access. Anyone can propose a change to the code (through a \"pull request\"), but one of the collaborators (with high privileges) must approve it. This is common for large projects involving more than a handful of coders.*"
   ]
  },
  {
   "cell_type": "markdown",
   "metadata": {},
   "source": [
    "### Shared repository model\n",
    "\n",
    "*If everyone has write access, there are only two repositories you have to worry about: your local repo and the *`origin`* repo. __Once you have committed your changes__, pushing your local changes to the remote repository is as easy as:*"
   ]
  },
  {
   "cell_type": "code",
   "execution_count": null,
   "metadata": {
    "collapsed": false,
    "scrolled": true
   },
   "outputs": [],
   "source": [
    "git push origin master"
   ]
  },
  {
   "cell_type": "markdown",
   "metadata": {},
   "source": [
    "### Forked repository model"
   ]
  },
  {
   "cell_type": "markdown",
   "metadata": {},
   "source": [
    "*If you are using forked repos, there is one extra level of complexity. Now we'll have 3 repos to think about:*\n",
    " 1. your local repo that lives on your computer\n",
    " 2. your remote copy (or \"fork\") of (3) that belongs to your Github account on the internet\n",
    " 3. the big collaborative repo*"
   ]
  },
  {
   "cell_type": "markdown",
   "metadata": {
    "collapsed": true,
    "scrolled": true
   },
   "source": [
    "*Let's start by forking an any dude/dudette's interesting and collaborative repo online (3). Click \"Fork\" on someone's Github repo page to make a copy of their collaborative repo (3) and put it in your remote repository (2) that you own. Then you download this repo (2) to your local computer (1) using *`git clone`:"
   ]
  },
  {
   "cell_type": "code",
   "execution_count": null,
   "metadata": {
    "collapsed": true
   },
   "outputs": [],
   "source": [
    "git clone https://github.com/wronk/dbw_2015.git"
   ]
  },
  {
   "cell_type": "markdown",
   "metadata": {},
   "source": [
    "*Now you have a copy of this tutorial in the current directory (wherever our terminal is). Start by creating/checkout out a new branch that will contain your changes. Check that you're on the new branch with* `git status`."
   ]
  },
  {
   "cell_type": "code",
   "execution_count": null,
   "metadata": {
    "collapsed": true
   },
   "outputs": [],
   "source": [
    "git checkout -b my_new_text_branch\n",
    "git status"
   ]
  },
  {
   "cell_type": "markdown",
   "metadata": {},
   "source": [
    "*Now add a new file (just a simple text file) to your local repo (1). Then use the following commands to check the status, add the file, and commit it:*"
   ]
  },
  {
   "cell_type": "code",
   "execution_count": null,
   "metadata": {
    "collapsed": true
   },
   "outputs": [],
   "source": [
    "git add tumultuous_text.txt\n",
    "git commit -m 'Add a new text file' tumultuous_text.txt"
   ]
  },
  {
   "cell_type": "markdown",
   "metadata": {},
   "source": [
    "*Now push the changes to your remote repo (2).* "
   ]
  },
  {
   "cell_type": "code",
   "execution_count": null,
   "metadata": {
    "collapsed": true
   },
   "outputs": [],
   "source": [
    "git push origin my_new_text_branch"
   ]
  },
  {
   "cell_type": "markdown",
   "metadata": {},
   "source": [
    "*You can see the results of pushing by going to your Github account page. On that page, there will be a green button to \"Compare & Create Pull Request\" (PR). This is how we take our changes and make a request to merge them into the big collaborative repo (3).*\n",
    "\n",
    "*Think of the PR as a way to start a conversation about the proposed changes. After some review and conversation, the code may be merged, be rejected, or require some improvements before the repo owner(s) will merge it.*\n",
    "\n",
    "*Any additional changes to the PR (like suggested improvements) will be included just by pushing to that same branch that's currently acting as the open PR.*"
   ]
  },
  {
   "cell_type": "markdown",
   "metadata": {},
   "source": [
    "### Syncing your repo\n",
    "*If there were changes to your remote repo (e.g., by other coders), you'll probably want to update your local code base to reflect those additions before making your own changes. To do this we use the *`git fetch`* command.*\n",
    "\n",
    "*Calling *`git fetch`* tells git to get all the branches of a remote repository (including any changes). Call it like this:*"
   ]
  },
  {
   "cell_type": "code",
   "execution_count": null,
   "metadata": {
    "collapsed": false,
    "scrolled": true
   },
   "outputs": [],
   "source": [
    "git fetch origin"
   ]
  },
  {
   "cell_type": "markdown",
   "metadata": {},
   "source": [
    "*You can then attempt to merge the remote-tracking branch *`origin/master`* into your own master branch. Just like before, if there were merge conflicts, you'll have to handle them and then commit the modified files. Merge the branches by calling:*"
   ]
  },
  {
   "cell_type": "code",
   "execution_count": null,
   "metadata": {
    "collapsed": true,
    "scrolled": true
   },
   "outputs": [],
   "source": [
    "git merge origin/master"
   ]
  }
 ],
 "metadata": {
  "kernelspec": {
   "display_name": "Bash",
   "language": "bash",
   "name": "bash"
  },
  "language_info": {
   "codemirror_mode": "shell",
   "file_extension": ".sh",
   "mimetype": "text/x-sh",
   "name": "bash"
  }
 },
 "nbformat": 4,
 "nbformat_minor": 0
}
