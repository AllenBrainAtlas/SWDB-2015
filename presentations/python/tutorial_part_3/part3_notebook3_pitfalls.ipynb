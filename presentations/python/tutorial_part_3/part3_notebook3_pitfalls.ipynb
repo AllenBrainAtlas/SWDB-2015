{
 "cells": [
  {
   "cell_type": "markdown",
   "metadata": {
    "collapsed": true
   },
   "source": [
    "# Introduction to Python Programming\n",
    "## Python Pitfalls\n",
    "\n",
    "Mark Wronkiewicz <br>\n",
    "UW Neuroscience <br>\n",
    "\n",
    "These examples should help you avoid early Python pitfalls. These catch most Python programmers at least once."
   ]
  },
  {
   "cell_type": "markdown",
   "metadata": {},
   "source": [
    "### 1. Indenting\n",
    "\n",
    "You must indent in:\n",
    "* Loops (**`for`** or **`while`**)\n",
    "* Conditional statements (**`if`**, **`elif`**, **`else`**)\n",
    "* Function definitions (**`def my_fun_func:`**)\n",
    "* Class definitions (**`class MyCoolClass:`**)"
   ]
  },
  {
   "cell_type": "markdown",
   "metadata": {},
   "source": [
    "### 2. Integer vs. Float division"
   ]
  },
  {
   "cell_type": "code",
   "execution_count": 12,
   "metadata": {
    "collapsed": false
   },
   "outputs": [
    {
     "name": "stdout",
     "output_type": "stream",
     "text": [
      "5 / 2 is: 2.5\n",
      "5. / 2 is: 2.5\n"
     ]
    }
   ],
   "source": [
    "print '5 / 2 is: ' + str(5 / 2)\n",
    "print '5. / 2 is: ' + str(5. / 2)"
   ]
  },
  {
   "cell_type": "code",
   "execution_count": 13,
   "metadata": {
    "collapsed": false
   },
   "outputs": [
    {
     "name": "stdout",
     "output_type": "stream",
     "text": [
      "5 / 2 is: 2.5\n",
      "5. / 2 is: 2.5\n"
     ]
    }
   ],
   "source": [
    "# Solution: One way to avoid this problem by importing Python 3's division.\n",
    "from __future__ import division\n",
    "\n",
    "print '5 / 2 is: ' + str(5 / 2)\n",
    "print '5. / 2 is: ' + str(5. / 2)"
   ]
  },
  {
   "cell_type": "markdown",
   "metadata": {},
   "source": [
    "### 3.1 Mutables act like references\n",
    "\n",
    "When assigning one object to another, you need to be aware of the object types. If they are mutable (i.e., objects that can be modified), then be careful because any changes to one object will also be reflected in the other."
   ]
  },
  {
   "cell_type": "code",
   "execution_count": 9,
   "metadata": {
    "collapsed": false
   },
   "outputs": [
    {
     "name": "stdout",
     "output_type": "stream",
     "text": [
      "b was: 1\n",
      "b is: 1\n"
     ]
    }
   ],
   "source": [
    "# Numerical types (and tuples, strings) are not mutable\n",
    "# This code block doesn't do anything unexpected\n",
    "a = 1\n",
    "b = a\n",
    "print 'b was: ' + str(b)\n",
    "\n",
    "a = 0\n",
    "print 'b is: ' + str(b)"
   ]
  },
  {
   "cell_type": "code",
   "execution_count": 15,
   "metadata": {
    "collapsed": false
   },
   "outputs": [
    {
     "name": "stdout",
     "output_type": "stream",
     "text": [
      "b was: [1]\n",
      "b is: [0]\n"
     ]
    }
   ],
   "source": [
    "# Lists, dicts, and sets are mutable! Assigning b to a here copies the location of a's memory to b.\n",
    "\n",
    "# This IS unexpected for many early Python coders.\n",
    "\n",
    "a = [1]  # 'a' is a (mutable) list\n",
    "b = a\n",
    "print 'b was: ' + str(b)\n",
    "\n",
    "a[0] = 0\n",
    "print 'b is: ' + str(b)"
   ]
  },
  {
   "cell_type": "code",
   "execution_count": 16,
   "metadata": {
    "collapsed": false
   },
   "outputs": [
    {
     "name": "stdout",
     "output_type": "stream",
     "text": [
      "a's (unique) id: 4371025864\n",
      "b's (unique) id: 4371025864\n",
      "a is b: True\n"
     ]
    }
   ],
   "source": [
    "# Solution: You can always check this by using `id(x)` or `is`\n",
    "# `id(x)` gives you a unique memory ID number for the given object\n",
    "# `a is b` will tell you if these objects are actually the same object in memory\n",
    "\n",
    "print 'a\\'s (unique) id: ' + str(id(a))\n",
    "print 'b\\'s (unique) id: ' + str(id(b))\n",
    "\n",
    "print 'a is b: ' + str(a is b)"
   ]
  },
  {
   "cell_type": "markdown",
   "metadata": {},
   "source": [
    "### 3.2 Mutable solution: use **`copy`** to avoid mutable pitfall\n",
    "\n",
    "You can copy mutable objects into a new location in memory to avoid the mutable object pitfall. There are two functions to do this: **`copy`** and **`deepcopy`**. They both copy an object in memory to break the reference link that causes the problems in the above examples. \n",
    "\n",
    "**`copy`** only copies the first layer of an object. Use **`deepcopy`** if you have an object with multiple layers (like a list of lists, for example).\n",
    "\n",
    "Compare the results here with the corresponding example above."
   ]
  },
  {
   "cell_type": "code",
   "execution_count": 19,
   "metadata": {
    "collapsed": false
   },
   "outputs": [
    {
     "name": "stdout",
     "output_type": "stream",
     "text": [
      "b was: [1]\n",
      "b is: [1]\n"
     ]
    }
   ],
   "source": [
    "from copy import copy\n",
    "\n",
    "a = [1]  # 'a' is a (mutable) list\n",
    "b = copy(a)  # Create a new copy of `a` in memory to circumvent the mutable object link.\n",
    "print 'b was: ' + str(b)\n",
    "\n",
    "a[0] = 0\n",
    "print 'b is: ' + str(b)"
   ]
  },
  {
   "cell_type": "markdown",
   "metadata": {},
   "source": [
    "### 4. Mutable default argument\n",
    "\n",
    "Always avoid mutable default arguments in your functions!"
   ]
  },
  {
   "cell_type": "code",
   "execution_count": 7,
   "metadata": {
    "collapsed": false
   },
   "outputs": [
    {
     "name": "stdout",
     "output_type": "stream",
     "text": [
      "My list: ['anemone']\n",
      "My other list: ['anemone', 'shark']\n"
     ]
    }
   ],
   "source": [
    "def append_to(element, in_list=[]):\n",
    "    \"\"\"Poorly function to add 'element' object to a list\"\"\"\n",
    "    in_list.append(element)\n",
    "    return in_list\n",
    "\n",
    "my_list = append_to('anemone')\n",
    "print 'My list: ' + str(my_list)\n",
    "\n",
    "# The code below produces unexpected results.\n",
    "# The string from the previous function call is still present in our default argument.\n",
    "my_other_list = append_to('shark')\n",
    "print 'My other list: '+ str(my_other_list)\n",
    "\n"
   ]
  },
  {
   "cell_type": "markdown",
   "metadata": {},
   "source": [
    "### 5. **`is`** vs. **`==`**\n",
    "**`is`** tests for reference equality (same location in your computer's physical memory) <br>\n",
    "**`==`** tests for equality (same value)\n",
    "\n",
    "Beware of this (especially in **`if`** and **`else`** statements)"
   ]
  },
  {
   "cell_type": "code",
   "execution_count": 8,
   "metadata": {
    "collapsed": false
   },
   "outputs": [
    {
     "name": "stdout",
     "output_type": "stream",
     "text": [
      "a == b: True\n",
      "a is b: False\n"
     ]
    }
   ],
   "source": [
    "a = ['bear']\n",
    "b = ['bear']\n",
    "\n",
    "print 'a == b: ' + str(a == b)  # Equal value?\n",
    "print 'a is b: ' + str(a is b)  # Equal memory location?"
   ]
  },
  {
   "cell_type": "code",
   "execution_count": null,
   "metadata": {
    "collapsed": true
   },
   "outputs": [],
   "source": []
  }
 ],
 "metadata": {
  "kernelspec": {
   "display_name": "Python 2",
   "language": "python",
   "name": "python2"
  },
  "language_info": {
   "codemirror_mode": {
    "name": "ipython",
    "version": 2
   },
   "file_extension": ".py",
   "mimetype": "text/x-python",
   "name": "python",
   "nbconvert_exporter": "python",
   "pygments_lexer": "ipython2",
   "version": "2.7.10"
  }
 },
 "nbformat": 4,
 "nbformat_minor": 0
}
