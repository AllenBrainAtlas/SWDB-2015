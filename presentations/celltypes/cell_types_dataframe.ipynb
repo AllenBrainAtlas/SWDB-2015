{
 "cells": [
  {
   "cell_type": "markdown",
   "metadata": {},
   "source": [
    "##  Getting started with Cell Types Database\n",
    "\n",
    "Using data from the Allen Cell Types Database requires downloading multiple files and metadata from the API. \n",
    "\n",
    "Use the [CellTypesCache](http://alleninstitute.github.io/AllenSDK/allensdk.core.html#allensdk.core.cell_types_cache.CellTypesCache) class to fetch data from the API and to help organized the metadata and the downloaded files"
   ]
  },
  {
   "cell_type": "code",
   "execution_count": 2,
   "metadata": {
    "collapsed": false
   },
   "outputs": [
    {
     "name": "stdout",
     "output_type": "stream",
     "text": [
      "There are 248 cells in the cache\n"
     ]
    }
   ],
   "source": [
    "from allensdk.core.cell_types_cache import CellTypesCache\n",
    "\n",
    "# !! update this path so that it points to your external hard drive !!\n",
    "ctc = CellTypesCache(manifest_file='D:/cell_types/manifest.json')\n",
    "\n",
    "# get metadata for all the cells\n",
    "cells_sdk = ctc.get_cells()\n",
    "print \"There are %d cells in the cache\" % len(cells_sdk)"
   ]
  },
  {
   "cell_type": "markdown",
   "metadata": {},
   "source": [
    "## Munge and process data to create a pandas dataframe for downstream analysis\n",
    "\n",
    "\n",
    "\n"
   ]
  },
  {
   "cell_type": "code",
   "execution_count": 3,
   "metadata": {
    "collapsed": false
   },
   "outputs": [
    {
     "name": "stdout",
     "output_type": "stream",
     "text": [
      "{'region': u'VISp', 'layer': u'4'}\n"
     ]
    }
   ],
   "source": [
    "import re\n",
    "\n",
    "# helper function to break up structure into regions and layer\n",
    "def split_region_layer(cell) :\n",
    "    a = cell['structure']['acronym']\n",
    "    si = 0\n",
    "    for idx,x in enumerate(a) :\n",
    "        if x.isdigit() :\n",
    "            si = idx\n",
    "            break\n",
    "    return {'region': a[:si], 'layer': a[si:]}\n",
    "    \n",
    "print split_region_layer(cells_sdk[0])"
   ]
  },
  {
   "cell_type": "code",
   "execution_count": 4,
   "metadata": {
    "collapsed": false
   },
   "outputs": [
    {
     "name": "stdout",
     "output_type": "stream",
     "text": [
      "{'mouse_line': 'Sst-IRES-Cre'}\n"
     ]
    }
   ],
   "source": [
    "# helper function to get the mouse line\n",
    "def transgenic_drivers( cell ) :\n",
    "    tlist = cell['donor']['transgenic_lines']\n",
    "    dlist = [str(x['name']) for x in tlist if x['transgenic_line_type_name'] == 'driver' ]\n",
    "    return {'mouse_line':\";\".join( dlist )}\n",
    "\n",
    "print transgenic_drivers(cells_sdk[0])"
   ]
  },
  {
   "cell_type": "code",
   "execution_count": 5,
   "metadata": {
    "collapsed": false
   },
   "outputs": [],
   "source": [
    "# create temporary record dictionary with the metadata we want to keep\n",
    "\n",
    "index_key = ['id']\n",
    "sample_keys = ['mouse_line','region','layer','hemisphere']\n",
    "annotation_keys = ['dendrite_type','apical']\n",
    "modality_keys = ['has_morphology', 'has_reconstruction']\n",
    "\n",
    "def filter_list(keys,exclude_keys) : \n",
    "    return [ x for x in keys if x not in exclude_keys ]\n",
    "\n",
    "def clean_keys(keys) :\n",
    "    return [ str(x) for x in keys ]\n",
    "\n",
    "# cell soma location keys\n",
    "csl_keys = cells_sdk[0]['cell_soma_locations'][0].keys()\n",
    "exclude_csl_keys = ['id','specimen_id']\n",
    "csl_keys = clean_keys(filter_list( csl_keys, exclude_csl_keys))\n",
    "\n",
    "# ephys feature keys\n",
    "ef_keys = cells_sdk[0]['ephys_features'][0].keys()\n",
    "exclude_ef_keys = ['id','specimen_id']\n",
    "ef_keys = clean_keys(filter_list( ef_keys, exclude_ef_keys ))\n",
    "\n",
    "# neuron reconstruction keys\n",
    "c = [ x for x in cells_sdk if x['has_reconstruction']][0]\n",
    "nr_keys = c['neuron_reconstructions'][0].keys()\n",
    "exclude_nr_keys = ['id','specimen_id','tags']\n",
    "nr_keys = clean_keys(filter_list( nr_keys, exclude_nr_keys ))\n",
    "\n",
    "columns = index_key + sample_keys + annotation_keys + modality_keys + csl_keys + ef_keys + nr_keys\n"
   ]
  },
  {
   "cell_type": "code",
   "execution_count": 6,
   "metadata": {
    "collapsed": false
   },
   "outputs": [
    {
     "name": "stdout",
     "output_type": "stream",
     "text": [
      "Sst-IRES-Cre\n"
     ]
    }
   ],
   "source": [
    "def filter_dictonary_by_keys( d, k ) :\n",
    "     return { x: d[x] for x in k }\n",
    "    \n",
    "def fetch_data( c ) :\n",
    "    d = filter_dictonary_by_keys( c, (index_key + annotation_keys + modality_keys + ['hemisphere']) )\n",
    "    d.update( split_region_layer(c) )\n",
    "    d.update( transgenic_drivers(c) )\n",
    "    d.update( filter_dictonary_by_keys( c['cell_soma_locations'][0], csl_keys) )\n",
    "    d.update( filter_dictonary_by_keys( c['ephys_features'][0], ef_keys) )\n",
    "    if c['has_reconstruction'] :\n",
    "        d.update( filter_dictonary_by_keys( c['neuron_reconstructions'][0], nr_keys ) )\n",
    "    return d\n",
    "\n",
    "cells_records = [fetch_data(c) for c in cells_sdk]\n",
    "    \n",
    "print cells_records[0]['mouse_line']"
   ]
  },
  {
   "cell_type": "code",
   "execution_count": 7,
   "metadata": {
    "collapsed": false
   },
   "outputs": [
    {
     "data": {
      "text/html": [
       "<div>\n",
       "<table border=\"1\" class=\"dataframe\">\n",
       "  <thead>\n",
       "    <tr style=\"text-align: right;\">\n",
       "      <th></th>\n",
       "      <th>mouse_line</th>\n",
       "      <th>region</th>\n",
       "      <th>layer</th>\n",
       "      <th>hemisphere</th>\n",
       "      <th>dendrite_type</th>\n",
       "      <th>apical</th>\n",
       "      <th>has_morphology</th>\n",
       "      <th>has_reconstruction</th>\n",
       "      <th>normalized_depth</th>\n",
       "      <th>reference_space_id</th>\n",
       "      <th>...</th>\n",
       "      <th>number_stems</th>\n",
       "      <th>number_branches</th>\n",
       "      <th>average_fragmentation</th>\n",
       "      <th>average_contraction</th>\n",
       "      <th>average_bifurcation_angle_remote</th>\n",
       "      <th>hausdorff_dimension</th>\n",
       "      <th>total_surface</th>\n",
       "      <th>max_branch_order</th>\n",
       "      <th>soma_surface</th>\n",
       "      <th>overall_height</th>\n",
       "    </tr>\n",
       "    <tr>\n",
       "      <th>id</th>\n",
       "      <th></th>\n",
       "      <th></th>\n",
       "      <th></th>\n",
       "      <th></th>\n",
       "      <th></th>\n",
       "      <th></th>\n",
       "      <th></th>\n",
       "      <th></th>\n",
       "      <th></th>\n",
       "      <th></th>\n",
       "      <th></th>\n",
       "      <th></th>\n",
       "      <th></th>\n",
       "      <th></th>\n",
       "      <th></th>\n",
       "      <th></th>\n",
       "      <th></th>\n",
       "      <th></th>\n",
       "      <th></th>\n",
       "      <th></th>\n",
       "      <th></th>\n",
       "    </tr>\n",
       "  </thead>\n",
       "  <tbody>\n",
       "    <tr>\n",
       "      <th>324257146</th>\n",
       "      <td>Sst-IRES-Cre</td>\n",
       "      <td>VISp</td>\n",
       "      <td>4</td>\n",
       "      <td>left</td>\n",
       "      <td>aspiny</td>\n",
       "      <td>NA</td>\n",
       "      <td>True</td>\n",
       "      <td>True</td>\n",
       "      <td>0.410398</td>\n",
       "      <td>9</td>\n",
       "      <td>...</td>\n",
       "      <td>6</td>\n",
       "      <td>30</td>\n",
       "      <td>34.2333</td>\n",
       "      <td>0.776329</td>\n",
       "      <td>77.4101</td>\n",
       "      <td>1.12107</td>\n",
       "      <td>1416.64</td>\n",
       "      <td>6</td>\n",
       "      <td>111.175</td>\n",
       "      <td>215.758</td>\n",
       "    </tr>\n",
       "    <tr>\n",
       "      <th>469622566</th>\n",
       "      <td>Scnn1a-Tg3-Cre</td>\n",
       "      <td>VISp</td>\n",
       "      <td>5</td>\n",
       "      <td>right</td>\n",
       "      <td>spiny</td>\n",
       "      <td>truncated</td>\n",
       "      <td>True</td>\n",
       "      <td>False</td>\n",
       "      <td>0.423992</td>\n",
       "      <td>9</td>\n",
       "      <td>...</td>\n",
       "      <td>NaN</td>\n",
       "      <td>NaN</td>\n",
       "      <td>NaN</td>\n",
       "      <td>NaN</td>\n",
       "      <td>NaN</td>\n",
       "      <td>NaN</td>\n",
       "      <td>NaN</td>\n",
       "      <td>NaN</td>\n",
       "      <td>NaN</td>\n",
       "      <td>NaN</td>\n",
       "    </tr>\n",
       "    <tr>\n",
       "      <th>328876201</th>\n",
       "      <td>Sst-IRES-Cre</td>\n",
       "      <td>VISp</td>\n",
       "      <td>5</td>\n",
       "      <td>left</td>\n",
       "      <td>aspiny</td>\n",
       "      <td>NA</td>\n",
       "      <td>False</td>\n",
       "      <td>False</td>\n",
       "      <td>0.510874</td>\n",
       "      <td>9</td>\n",
       "      <td>...</td>\n",
       "      <td>NaN</td>\n",
       "      <td>NaN</td>\n",
       "      <td>NaN</td>\n",
       "      <td>NaN</td>\n",
       "      <td>NaN</td>\n",
       "      <td>NaN</td>\n",
       "      <td>NaN</td>\n",
       "      <td>NaN</td>\n",
       "      <td>NaN</td>\n",
       "      <td>NaN</td>\n",
       "    </tr>\n",
       "    <tr>\n",
       "      <th>466431949</th>\n",
       "      <td>Scnn1a-Tg3-Cre</td>\n",
       "      <td>VISl</td>\n",
       "      <td>4</td>\n",
       "      <td>left</td>\n",
       "      <td>spiny</td>\n",
       "      <td>truncated</td>\n",
       "      <td>True</td>\n",
       "      <td>False</td>\n",
       "      <td>0.464470</td>\n",
       "      <td>9</td>\n",
       "      <td>...</td>\n",
       "      <td>NaN</td>\n",
       "      <td>NaN</td>\n",
       "      <td>NaN</td>\n",
       "      <td>NaN</td>\n",
       "      <td>NaN</td>\n",
       "      <td>NaN</td>\n",
       "      <td>NaN</td>\n",
       "      <td>NaN</td>\n",
       "      <td>NaN</td>\n",
       "      <td>NaN</td>\n",
       "    </tr>\n",
       "    <tr>\n",
       "      <th>396903227</th>\n",
       "      <td>Scnn1a-Tg3-Cre</td>\n",
       "      <td>VISp</td>\n",
       "      <td>5</td>\n",
       "      <td>right</td>\n",
       "      <td>spiny</td>\n",
       "      <td>truncated</td>\n",
       "      <td>False</td>\n",
       "      <td>False</td>\n",
       "      <td>0.497223</td>\n",
       "      <td>9</td>\n",
       "      <td>...</td>\n",
       "      <td>NaN</td>\n",
       "      <td>NaN</td>\n",
       "      <td>NaN</td>\n",
       "      <td>NaN</td>\n",
       "      <td>NaN</td>\n",
       "      <td>NaN</td>\n",
       "      <td>NaN</td>\n",
       "      <td>NaN</td>\n",
       "      <td>NaN</td>\n",
       "      <td>NaN</td>\n",
       "    </tr>\n",
       "  </tbody>\n",
       "</table>\n",
       "<p>5 rows × 93 columns</p>\n",
       "</div>"
      ],
      "text/plain": [
       "               mouse_line region layer hemisphere dendrite_type     apical  \\\n",
       "id                                                                           \n",
       "324257146    Sst-IRES-Cre   VISp     4       left        aspiny         NA   \n",
       "469622566  Scnn1a-Tg3-Cre   VISp     5      right         spiny  truncated   \n",
       "328876201    Sst-IRES-Cre   VISp     5       left        aspiny         NA   \n",
       "466431949  Scnn1a-Tg3-Cre   VISl     4       left         spiny  truncated   \n",
       "396903227  Scnn1a-Tg3-Cre   VISp     5      right         spiny  truncated   \n",
       "\n",
       "          has_morphology has_reconstruction  normalized_depth  \\\n",
       "id                                                              \n",
       "324257146           True               True          0.410398   \n",
       "469622566           True              False          0.423992   \n",
       "328876201          False              False          0.510874   \n",
       "466431949           True              False          0.464470   \n",
       "396903227          False              False          0.497223   \n",
       "\n",
       "           reference_space_id       ...        number_stems  number_branches  \\\n",
       "id                                  ...                                        \n",
       "324257146                   9       ...                   6               30   \n",
       "469622566                   9       ...                 NaN              NaN   \n",
       "328876201                   9       ...                 NaN              NaN   \n",
       "466431949                   9       ...                 NaN              NaN   \n",
       "396903227                   9       ...                 NaN              NaN   \n",
       "\n",
       "           average_fragmentation  average_contraction  \\\n",
       "id                                                      \n",
       "324257146                34.2333             0.776329   \n",
       "469622566                    NaN                  NaN   \n",
       "328876201                    NaN                  NaN   \n",
       "466431949                    NaN                  NaN   \n",
       "396903227                    NaN                  NaN   \n",
       "\n",
       "           average_bifurcation_angle_remote  hausdorff_dimension  \\\n",
       "id                                                                 \n",
       "324257146                           77.4101              1.12107   \n",
       "469622566                               NaN                  NaN   \n",
       "328876201                               NaN                  NaN   \n",
       "466431949                               NaN                  NaN   \n",
       "396903227                               NaN                  NaN   \n",
       "\n",
       "          total_surface  max_branch_order  soma_surface  overall_height  \n",
       "id                                                                       \n",
       "324257146       1416.64                 6       111.175         215.758  \n",
       "469622566           NaN               NaN           NaN             NaN  \n",
       "328876201           NaN               NaN           NaN             NaN  \n",
       "466431949           NaN               NaN           NaN             NaN  \n",
       "396903227           NaN               NaN           NaN             NaN  \n",
       "\n",
       "[5 rows x 93 columns]"
      ]
     },
     "execution_count": 7,
     "metadata": {},
     "output_type": "execute_result"
    }
   ],
   "source": [
    "# create pandas dataframe\n",
    "import pandas as pd\n",
    "\n",
    "cells_df = pd.DataFrame.from_records( cells_records, index = 'id', columns=columns )\n",
    "cells_df.head()"
   ]
  },
  {
   "cell_type": "code",
   "execution_count": 49,
   "metadata": {
    "collapsed": false
   },
   "outputs": [
    {
     "data": {
      "text/plain": [
       "array(['mouse_line', 'region', 'layer', 'hemisphere', 'dendrite_type',\n",
       "       'apical', 'has_morphology', 'has_reconstruction',\n",
       "       'normalized_depth', 'reference_space_id', 'y', 'x', 'z', 'tau',\n",
       "       'upstroke_downstroke_ratio_short_square', 'thumbnail_sweep_id',\n",
       "       'has_delay', 'threshold_v_ramp', 'peak_v_short_square', 'avg_isi',\n",
       "       'sag', 'blowout_voltage', 'trough_t_ramp', 'slow_trough_v_ramp',\n",
       "       'slow_trough_v_long_square', 'has_pause', 'electrode_0_pa',\n",
       "       'trough_v_long_square', 'input_resistance_mohm', 'latency',\n",
       "       'fast_trough_v_ramp', 'trough_t_long_square',\n",
       "       'threshold_t_long_square', 'rheobase_sweep_id', 'peak_t_ramp',\n",
       "       'threshold_t_short_square', 'has_burst',\n",
       "       'slow_trough_t_long_square', 'fast_trough_t_long_square', 'ri',\n",
       "       'threshold_v_short_square', 'upstroke_downstroke_ratio_ramp',\n",
       "       'vm_for_sag', 'threshold_i_long_square',\n",
       "       'initial_access_resistance', 'peak_t_long_square',\n",
       "       'threshold_i_short_square', 'threshold_v_long_square',\n",
       "       'peak_v_ramp', 'fast_trough_t_short_square', 'fast_trough_t_ramp',\n",
       "       'vrest', 'threshold_i_ramp', 'slow_trough_v_short_square',\n",
       "       'peak_t_short_square', 'slow_trough_t_short_square',\n",
       "       'trough_v_short_square', 'slow_trough_t_ramp', 'f_i_curve_slope',\n",
       "       'trough_t_short_square', 'threshold_t_ramp', 'seal_gohm',\n",
       "       'fast_trough_v_long_square',\n",
       "       'upstroke_downstroke_ratio_long_square', 'trough_v_ramp',\n",
       "       'peak_v_long_square', 'fast_trough_v_short_square', 'adaptation',\n",
       "       'max_euclidean_distance', 'number_tips', 'max_path_distance',\n",
       "       'overall_depth', 'number_bifurcations', 'total_volume',\n",
       "       'scale_factor_z', 'scale_factor_y', 'scale_factor_x',\n",
       "       'number_nodes', 'average_bifurcation_angle_local',\n",
       "       'average_parent_daughter_ratio', 'average_diameter', 'total_length',\n",
       "       'overall_width', 'number_stems', 'number_branches',\n",
       "       'average_fragmentation', 'average_contraction',\n",
       "       'average_bifurcation_angle_remote', 'hausdorff_dimension',\n",
       "       'total_surface', 'max_branch_order', 'soma_surface',\n",
       "       'overall_height'], dtype=object)"
      ]
     },
     "execution_count": 49,
     "metadata": {},
     "output_type": "execute_result"
    }
   ],
   "source": [
    "cells_df.columns.values"
   ]
  },
  {
   "cell_type": "markdown",
   "metadata": {},
   "source": [
    "## Take a look at some dataset statistics using the dataframe"
   ]
  },
  {
   "cell_type": "code",
   "execution_count": 21,
   "metadata": {
    "collapsed": true
   },
   "outputs": [],
   "source": [
    "import numpy as np\n",
    "import matplotlib.pyplot as plt\n",
    "%matplotlib inline"
   ]
  },
  {
   "cell_type": "code",
   "execution_count": 89,
   "metadata": {
    "collapsed": false
   },
   "outputs": [
    {
     "data": {
      "text/plain": [
       "mouse_line\n",
       "Gad2-IRES-Cre      12\n",
       "Htr3a-Cre_NO152    15\n",
       "Nr5a1-Cre          30\n",
       "Ntsr1-Cre           8\n",
       "Pvalb-IRES-Cre     51\n",
       "Rbp4-Cre_KL100     12\n",
       "Rorb-IRES2-Cre     31\n",
       "Scnn1a-Tg2-Cre     17\n",
       "Scnn1a-Tg3-Cre     36\n",
       "Sst-IRES-Cre       36\n",
       "dtype: int64"
      ]
     },
     "execution_count": 89,
     "metadata": {},
     "output_type": "execute_result"
    }
   ],
   "source": [
    "# count number of cells by mouse_line\n",
    "mouse_line_groups = cells_df.groupby(['mouse_line'])\n",
    "mouse_line_groups.size()"
   ]
  },
  {
   "cell_type": "code",
   "execution_count": 95,
   "metadata": {
    "collapsed": false
   },
   "outputs": [
    {
     "data": {
      "text/plain": [
       "mouse_line          \n",
       "Gad2-IRES-Cre    5       8\n",
       "                 4       3\n",
       "                 6a      1\n",
       "Htr3a-Cre_NO152  2/3     9\n",
       "                 4       4\n",
       "                 5       2\n",
       "Nr5a1-Cre        4      24\n",
       "                 2/3     3\n",
       "                 5       2\n",
       "                 6a      1\n",
       "Ntsr1-Cre        6a      7\n",
       "                 5       1\n",
       "Pvalb-IRES-Cre   5      31\n",
       "                 4      10\n",
       "                 2/3     5\n",
       "                 6a      5\n",
       "Rbp4-Cre_KL100   5       9\n",
       "                 6a      2\n",
       "                 4       1\n",
       "Rorb-IRES2-Cre   4      17\n",
       "                 5      10\n",
       "                 2/3     2\n",
       "                 6a      2\n",
       "Scnn1a-Tg2-Cre   4       9\n",
       "                 5       8\n",
       "Scnn1a-Tg3-Cre   4      25\n",
       "                 5      11\n",
       "Sst-IRES-Cre     5      22\n",
       "                 6a      7\n",
       "                 2/3     5\n",
       "                 4       2\n",
       "dtype: int64"
      ]
     },
     "execution_count": 95,
     "metadata": {},
     "output_type": "execute_result"
    }
   ],
   "source": [
    "# count layer by mouse_line\n",
    "mouse_line_groups['layer'].value_counts()"
   ]
  },
  {
   "cell_type": "code",
   "execution_count": 119,
   "metadata": {
    "collapsed": false,
    "scrolled": true
   },
   "outputs": [
    {
     "data": {
      "text/plain": [
       "mouse_line                     \n",
       "Gad2-IRES-Cre    aspiny            12\n",
       "Htr3a-Cre_NO152  aspiny            15\n",
       "Nr5a1-Cre        spiny             28\n",
       "                 aspiny             2\n",
       "Ntsr1-Cre        spiny              8\n",
       "Pvalb-IRES-Cre   aspiny            51\n",
       "Rbp4-Cre_KL100   spiny             12\n",
       "Rorb-IRES2-Cre   spiny             30\n",
       "                 aspiny             1\n",
       "Scnn1a-Tg2-Cre   spiny             16\n",
       "                 aspiny             1\n",
       "Scnn1a-Tg3-Cre   spiny             35\n",
       "                 aspiny             1\n",
       "Sst-IRES-Cre     aspiny            33\n",
       "                 sparsely spiny     2\n",
       "                 spiny              1\n",
       "dtype: int64"
      ]
     },
     "execution_count": 119,
     "metadata": {},
     "output_type": "execute_result"
    }
   ],
   "source": [
    "# count dendrite_type by mouse_line\n",
    "mouse_line_groups['dendrite_type'].value_counts()"
   ]
  },
  {
   "cell_type": "code",
   "execution_count": 115,
   "metadata": {
    "collapsed": false
   },
   "outputs": [
    {
     "data": {
      "text/html": [
       "<div>\n",
       "<table border=\"1\" class=\"dataframe\">\n",
       "  <thead>\n",
       "    <tr style=\"text-align: right;\">\n",
       "      <th></th>\n",
       "      <th>upstroke_downstroke_ratio_short_square</th>\n",
       "    </tr>\n",
       "    <tr>\n",
       "      <th>mouse_line</th>\n",
       "      <th></th>\n",
       "    </tr>\n",
       "  </thead>\n",
       "  <tbody>\n",
       "    <tr>\n",
       "      <th>Gad2-IRES-Cre</th>\n",
       "      <td>1.594569</td>\n",
       "    </tr>\n",
       "    <tr>\n",
       "      <th>Htr3a-Cre_NO152</th>\n",
       "      <td>2.336137</td>\n",
       "    </tr>\n",
       "    <tr>\n",
       "      <th>Nr5a1-Cre</th>\n",
       "      <td>3.439860</td>\n",
       "    </tr>\n",
       "    <tr>\n",
       "      <th>Ntsr1-Cre</th>\n",
       "      <td>2.764741</td>\n",
       "    </tr>\n",
       "    <tr>\n",
       "      <th>Pvalb-IRES-Cre</th>\n",
       "      <td>1.433088</td>\n",
       "    </tr>\n",
       "    <tr>\n",
       "      <th>Rbp4-Cre_KL100</th>\n",
       "      <td>3.325245</td>\n",
       "    </tr>\n",
       "    <tr>\n",
       "      <th>Rorb-IRES2-Cre</th>\n",
       "      <td>3.501382</td>\n",
       "    </tr>\n",
       "    <tr>\n",
       "      <th>Scnn1a-Tg2-Cre</th>\n",
       "      <td>3.523081</td>\n",
       "    </tr>\n",
       "    <tr>\n",
       "      <th>Scnn1a-Tg3-Cre</th>\n",
       "      <td>3.529249</td>\n",
       "    </tr>\n",
       "    <tr>\n",
       "      <th>Sst-IRES-Cre</th>\n",
       "      <td>1.861222</td>\n",
       "    </tr>\n",
       "  </tbody>\n",
       "</table>\n",
       "</div>"
      ],
      "text/plain": [
       "                 upstroke_downstroke_ratio_short_square\n",
       "mouse_line                                             \n",
       "Gad2-IRES-Cre                                  1.594569\n",
       "Htr3a-Cre_NO152                                2.336137\n",
       "Nr5a1-Cre                                      3.439860\n",
       "Ntsr1-Cre                                      2.764741\n",
       "Pvalb-IRES-Cre                                 1.433088\n",
       "Rbp4-Cre_KL100                                 3.325245\n",
       "Rorb-IRES2-Cre                                 3.501382\n",
       "Scnn1a-Tg2-Cre                                 3.523081\n",
       "Scnn1a-Tg3-Cre                                 3.529249\n",
       "Sst-IRES-Cre                                   1.861222"
      ]
     },
     "execution_count": 115,
     "metadata": {},
     "output_type": "execute_result"
    }
   ],
   "source": [
    "# average upstroke/downstroke ratio by mouse_line\n",
    "mouse_line_groups[['upstroke_downstroke_ratio_short_square']].mean()"
   ]
  },
  {
   "cell_type": "code",
   "execution_count": 113,
   "metadata": {
    "collapsed": false,
    "scrolled": true
   },
   "outputs": [
    {
     "data": {
      "text/html": [
       "<div>\n",
       "<table border=\"1\" class=\"dataframe\">\n",
       "  <thead>\n",
       "    <tr style=\"text-align: right;\">\n",
       "      <th></th>\n",
       "      <th>max_euclidean_distance</th>\n",
       "    </tr>\n",
       "    <tr>\n",
       "      <th>mouse_line</th>\n",
       "      <th></th>\n",
       "    </tr>\n",
       "  </thead>\n",
       "  <tbody>\n",
       "    <tr>\n",
       "      <th>Gad2-IRES-Cre</th>\n",
       "      <td>229.198000</td>\n",
       "    </tr>\n",
       "    <tr>\n",
       "      <th>Htr3a-Cre_NO152</th>\n",
       "      <td>193.325000</td>\n",
       "    </tr>\n",
       "    <tr>\n",
       "      <th>Nr5a1-Cre</th>\n",
       "      <td>316.766917</td>\n",
       "    </tr>\n",
       "    <tr>\n",
       "      <th>Ntsr1-Cre</th>\n",
       "      <td>555.668667</td>\n",
       "    </tr>\n",
       "    <tr>\n",
       "      <th>Pvalb-IRES-Cre</th>\n",
       "      <td>238.118222</td>\n",
       "    </tr>\n",
       "    <tr>\n",
       "      <th>Rbp4-Cre_KL100</th>\n",
       "      <td>539.851500</td>\n",
       "    </tr>\n",
       "    <tr>\n",
       "      <th>Rorb-IRES2-Cre</th>\n",
       "      <td>415.419400</td>\n",
       "    </tr>\n",
       "    <tr>\n",
       "      <th>Scnn1a-Tg2-Cre</th>\n",
       "      <td>465.101833</td>\n",
       "    </tr>\n",
       "    <tr>\n",
       "      <th>Scnn1a-Tg3-Cre</th>\n",
       "      <td>439.672375</td>\n",
       "    </tr>\n",
       "    <tr>\n",
       "      <th>Sst-IRES-Cre</th>\n",
       "      <td>244.610545</td>\n",
       "    </tr>\n",
       "  </tbody>\n",
       "</table>\n",
       "</div>"
      ],
      "text/plain": [
       "                 max_euclidean_distance\n",
       "mouse_line                             \n",
       "Gad2-IRES-Cre                229.198000\n",
       "Htr3a-Cre_NO152              193.325000\n",
       "Nr5a1-Cre                    316.766917\n",
       "Ntsr1-Cre                    555.668667\n",
       "Pvalb-IRES-Cre               238.118222\n",
       "Rbp4-Cre_KL100               539.851500\n",
       "Rorb-IRES2-Cre               415.419400\n",
       "Scnn1a-Tg2-Cre               465.101833\n",
       "Scnn1a-Tg3-Cre               439.672375\n",
       "Sst-IRES-Cre                 244.610545"
      ]
     },
     "execution_count": 113,
     "metadata": {},
     "output_type": "execute_result"
    }
   ],
   "source": [
    "# average max_euclidean_distance by mouse_line\n",
    "mouse_line_groups[['max_euclidean_distance']].mean()"
   ]
  },
  {
   "cell_type": "code",
   "execution_count": 148,
   "metadata": {
    "collapsed": false
   },
   "outputs": [
    {
     "name": "stdout",
     "output_type": "stream",
     "text": [
      "['Pvalb-IRES-Cre', 'Gad2-IRES-Cre', 'Sst-IRES-Cre', 'Htr3a-Cre_NO152', 'Ntsr1-Cre', 'Rbp4-Cre_KL100', 'Nr5a1-Cre', 'Rorb-IRES2-Cre', 'Scnn1a-Tg2-Cre', 'Scnn1a-Tg3-Cre']\n"
     ]
    }
   ],
   "source": [
    "# sort mouse lines by averge upstroke/downstroke ratio\n",
    "param = 'upstroke_downstroke_ratio_short_square'\n",
    "sorted = cells_df.ix[mouse_line_groups[[param]].transform(np.mean).sort(param).index].groupby(['mouse_line'],sort=False)\n",
    "sorted[param].mean()\n",
    "sorted_lines = [k for k,gp in sorted]\n",
    "print sorted_lines"
   ]
  },
  {
   "cell_type": "markdown",
   "metadata": {},
   "source": [
    "## Use seaborn to see the distribution of upstroke/downstroke ratio by mouse line and layer"
   ]
  },
  {
   "cell_type": "code",
   "execution_count": 150,
   "metadata": {
    "collapsed": false,
    "scrolled": true
   },
   "outputs": [
    {
     "data": {
      "text/plain": [
       "<seaborn.axisgrid.FacetGrid at 0x83db4b70>"
      ]
     },
     "execution_count": 150,
     "metadata": {},
     "output_type": "execute_result"
    },
    {
     "data": {
      "image/png": "[encoded data removed]",
      "text/plain": [
       "<matplotlib.figure.Figure at 0x8523abe0>"
      ]
     },
     "metadata": {},
     "output_type": "display_data"
    }
   ],
   "source": [
    "import seaborn as sns\n",
    "import matplotlib.pyplot as plt\n",
    "import numpy as np\n",
    "import math\n",
    "\n",
    "max_value = math.ceil(cells_df['upstroke_downstroke_ratio_short_square'].max())\n",
    "bins = np.linspace(0,max_value,10)\n",
    "\n",
    "sns.set(style=\"darkgrid\")\n",
    "\n",
    "g = sns.FacetGrid(cells_df, row=\"mouse_line\", col=\"layer\", hue=\"dendrite_type\", \n",
    "                  col_order=['2/3','4','5','6a'], row_order=sorted_lines, margin_titles=True)\n",
    "\n",
    "g.map(plt.hist, \"upstroke_downstroke_ratio_short_square\", bins=bins, lw=0)"
   ]
  },
  {
   "cell_type": "code",
   "execution_count": null,
   "metadata": {
    "collapsed": true
   },
   "outputs": [],
   "source": []
  }
 ],
 "metadata": {
  "kernelspec": {
   "display_name": "Python 2",
   "language": "python",
   "name": "python2"
  },
  "language_info": {
   "codemirror_mode": {
    "name": "ipython",
    "version": 2
   },
   "file_extension": ".py",
   "mimetype": "text/x-python",
   "name": "python",
   "nbconvert_exporter": "python",
   "pygments_lexer": "ipython2",
   "version": "2.7.10"
  }
 },
 "nbformat": 4,
 "nbformat_minor": 0
}
