{
 "cells": [
  {
   "cell_type": "markdown",
   "metadata": {},
   "source": [
    "# NumPy\n",
    "\n",
    "Remember the numpy array? It's the basic data type used by numpy to do the things it does quickly."
   ]
  },
  {
   "cell_type": "code",
   "execution_count": null,
   "metadata": {
    "collapsed": false
   },
   "outputs": [],
   "source": [
    "import numpy as np # By convention we import it as \"np\"\n",
    "\n",
    "# Here's a list\n",
    "data_list = [2, 4, 6, 8, 10]\n",
    "print \"As list: \", data_list\n",
    "\n",
    "# Now it's an array\n",
    "data_array = np.array(data_list)\n",
    "print \"As array: \", data_array"
   ]
  },
  {
   "cell_type": "markdown",
   "metadata": {},
   "source": [
    "The `np.arange()` function is often a nice way to create an array, too."
   ]
  },
  {
   "cell_type": "code",
   "execution_count": null,
   "metadata": {
    "collapsed": false
   },
   "outputs": [],
   "source": [
    "print np.arange(12) # start from zero, go up to (but not including) argument\n",
    "print np.arange(2, 12) # start from first argument, go up to (but not including) second argument\n",
    "print np.arange(2, 12, 2) # start, end, step"
   ]
  },
  {
   "cell_type": "markdown",
   "metadata": {},
   "source": [
    "# matplotlib\n",
    "\n",
    "Made by people who thought MATLAB had a plotting system worth copying."
   ]
  },
  {
   "cell_type": "code",
   "execution_count": null,
   "metadata": {
    "collapsed": false
   },
   "outputs": [],
   "source": [
    "%matplotlib inline\n",
    "import matplotlib.pyplot as plt\n",
    "import matplotlib.image as mpimg\n",
    "\n",
    "reaction = mpimg.imread('picard.png')\n",
    "imgplot = plt.imshow(reaction)"
   ]
  },
  {
   "cell_type": "markdown",
   "metadata": {},
   "source": [
    "In matplotlib, an axis is not an axis. Well, an \"Axes\" isn't (aren't?) axes. An \"Axes\" is what most people would call a graph or plot."
   ]
  },
  {
   "cell_type": "code",
   "execution_count": null,
   "metadata": {
    "collapsed": false
   },
   "outputs": [],
   "source": [
    "x = np.arange(0, 10.1, 0.1)\n",
    "y = np.sin(x)\n",
    "\n",
    "plt.figure()\n",
    "axes = plt.axes()\n",
    "axes.plot(x, y)"
   ]
  },
  {
   "cell_type": "markdown",
   "metadata": {},
   "source": [
    "You can set up multiple plots in the same figure with the `subplots()` function."
   ]
  },
  {
   "cell_type": "code",
   "execution_count": null,
   "metadata": {
    "collapsed": false
   },
   "outputs": [],
   "source": [
    "y2 = x ** 2\n",
    "\n",
    "fig, axes = plt.subplots(2, 1) # 2 rows, 1 column - axes is a list of the plots (same dimensions as the figure)\n",
    "axes[0].plot(x, y)\n",
    "axes[1].plot(x, y2)"
   ]
  },
  {
   "cell_type": "markdown",
   "metadata": {},
   "source": [
    "Repeated `plot()` commands append things to the existing graph."
   ]
  },
  {
   "cell_type": "code",
   "execution_count": null,
   "metadata": {
    "collapsed": false
   },
   "outputs": [],
   "source": [
    "plt.figure()\n",
    "\n",
    "# Plot called directly puts things on the \"current\" axis\n",
    "# Be careful, it's easy to put them in the wrong place\n",
    "plt.plot(x, y)\n",
    "y3 = np.log(x[1:]) # skip zero for log()\n",
    "plt.plot(x[1:], y3)"
   ]
  },
  {
   "cell_type": "markdown",
   "metadata": {},
   "source": [
    "We can make our graphs look a bit less like MATLAB by setting the style with `style.use()`."
   ]
  },
  {
   "cell_type": "code",
   "execution_count": null,
   "metadata": {
    "collapsed": false
   },
   "outputs": [],
   "source": [
    "plt.style.use('ggplot')\n",
    "\n",
    "plt.figure()\n",
    "plt.plot(x, y)\n",
    "plt.plot(x[1:], y3)"
   ]
  },
  {
   "cell_type": "markdown",
   "metadata": {},
   "source": [
    "# Cell Types database\n",
    "\n",
    "Now we have some tools to start exploring the Cell Types database. The AllenSDK is a set of tools that make interacting with the Cell Types database programmatically easier to do.\n",
    "\n",
    "Let's start by looking at electrophysiology data from a recorded cell. We'll assume we have already downloaded the Neurodata Without Borders (.nwb) file with the cell's data."
   ]
  },
  {
   "cell_type": "code",
   "execution_count": null,
   "metadata": {
    "collapsed": true
   },
   "outputs": [],
   "source": [
    "from allensdk.core.nwb_data_set import NwbDataSet\n",
    "nwb_filename = \"464212181.nwb\" # Could use the API instead of already having it downloaded\n",
    "data_set = NwbDataSet(nwb_filename)"
   ]
  },
  {
   "cell_type": "markdown",
   "metadata": {},
   "source": [
    "Now we have our `data_set` object that has some functions we can use to access the injected current stimulus waveform and the voltage response waveform. We'll pull them out and plot them."
   ]
  },
  {
   "cell_type": "code",
   "execution_count": null,
   "metadata": {
    "collapsed": false
   },
   "outputs": [],
   "source": [
    "sweep_number = 30\n",
    "sweep_data = data_set.get_sweep(sweep_number)\n",
    "\n",
    "i = sweep_data[\"stimulus\"] # in A\n",
    "v = sweep_data[\"response\"] # in V\n",
    "i *= 1e12 # to pA\n",
    "v *= 1e3 # to mV\n",
    "\n",
    "sampling_rate = sweep_data[\"sampling_rate\"] # in Hz\n",
    "t = np.arange(0, len(v)) * (1.0 / sampling_rate)\n",
    "\n",
    "plt.style.use('ggplot')\n",
    "fig, axes = plt.subplots(2, 1, sharex=True)\n",
    "axes[0].plot(t, v, color='black')\n",
    "axes[1].plot(t, i, color='gray')\n",
    "axes[0].set_ylabel(\"mV\")\n",
    "axes[1].set_ylabel(\"pA\")\n",
    "axes[1].set_xlabel(\"seconds\")"
   ]
  },
  {
   "cell_type": "markdown",
   "metadata": {},
   "source": [
    "Getting that information out is something we'll want to do a lot, so let's make a function that will do it for whatever sweep we give it, and try it out on some new sweeps."
   ]
  },
  {
   "cell_type": "code",
   "execution_count": null,
   "metadata": {
    "collapsed": false
   },
   "outputs": [],
   "source": [
    "def get_sweep_v_i_t_from_set(data_set, sweep_number):\n",
    "    sweep_data = data_set.get_sweep(sweep_number)\n",
    "    i = sweep_data[\"stimulus\"] # in A\n",
    "    v = sweep_data[\"response\"] # in V\n",
    "    i *= 1e12 # to pA\n",
    "    v *= 1e3 # to mV\n",
    "    sampling_rate = sweep_data[\"sampling_rate\"] # in Hz\n",
    "    t = np.arange(0, len(v)) * (1.0 / sampling_rate)\n",
    "    return v, i, t\n",
    "\n",
    "sweep_numbers = [38, 40]\n",
    "fig, axes = plt.subplots(2, 1, sharex=True)\n",
    "\n",
    "for s in sweep_numbers:\n",
    "    v, i, t = get_sweep_v_i_t_from_set(data_set, s)\n",
    "    axes[0].plot(t, v)\n",
    "    axes[1].plot(t, i, color='gray')\n",
    "\n",
    "axes[1].set_ylabel(\"pA\")\n",
    "axes[1].set_xlabel(\"seconds\")"
   ]
  },
  {
   "cell_type": "markdown",
   "metadata": {},
   "source": [
    "The cell types database also contains 3D reconstructions of neuronal morphologies. The data are presented in the SWC format. We'll download a particular cell's reconstrution here."
   ]
  },
  {
   "cell_type": "code",
   "execution_count": 1,
   "metadata": {
    "collapsed": false
   },
   "outputs": [
    {
     "name": "stdout",
     "output_type": "stream",
     "text": [
      "Cells with reconstructions:  73\n"
     ]
    }
   ],
   "source": [
    "# Quick look at the cell's morphology\n",
    "\n",
    "from allensdk.api.queries.cell_types_api import CellTypesApi\n",
    "\n",
    "ct = CellTypesApi()\n",
    "\n",
    "cells = ct.list_cells(require_reconstruction=True)\n",
    "print \"Cells with reconstructions: \", len(cells)\n",
    "\n",
    "cell_id = 464212183\n",
    "swc_filename = \"example.swc\"\n",
    "ct.save_reconstruction(cell_id, swc_filename)"
   ]
  },
  {
   "cell_type": "markdown",
   "metadata": {},
   "source": [
    "The AllenSDK contains a module that makes it easier to work with the SWC files. We'll see how the data is contained in the file by looking at the first node."
   ]
  },
  {
   "cell_type": "code",
   "execution_count": 2,
   "metadata": {
    "collapsed": false
   },
   "outputs": [
    {
     "name": "stdout",
     "output_type": "stream",
     "text": [
      "<allensdk.core.swc.Morphology object at 0x7f2158177350>\n",
      "{'parent': '-1', 'children': ['2', '1827', '1037', '2637'], 'radius': 5.9088, 'y': 343.3144, 'x': 444.3296, 'z': 48.72, 'type': 1, 'id': '1'}\n"
     ]
    }
   ],
   "source": [
    "import allensdk.core.swc as swc\n",
    "\n",
    "morphology = swc.read_swc(swc_filename)\n",
    "print morphology\n",
    "compartment_list = morphology.compartment_list\n",
    "print compartment_list[0]"
   ]
  },
  {
   "cell_type": "markdown",
   "metadata": {},
   "source": [
    "Note that the `type` field refers to the type of neuronal compartment. The values can be `1` for the soma, `2` for the axon, `3` for dendrites, and `4` for apical dendrites (if present).\n",
    "\n",
    "We can use this data to draw lines between each node and all its children to get a drawing of the cell. We'll do it looking at it from the front and from the side."
   ]
  },
  {
   "cell_type": "code",
   "execution_count": null,
   "metadata": {
    "collapsed": false
   },
   "outputs": [],
   "source": [
    "fig, axes = plt.subplots(1, 2, sharey=True, sharex=True)\n",
    "axes[0].set_aspect('equal', 'box-forced')\n",
    "axes[1].set_aspect('equal', 'box-forced')\n",
    "\n",
    "# Make a line drawing of x-y and y-z views\n",
    "for n in morphology.compartment_list:\n",
    "    child_nodes = [c for c in morphology.compartment_list if c['id'] in n['children']] \n",
    "    for c in child_nodes:\n",
    "        axes[0].plot([n['x'], c['x']], [n['y'], c['y']], color='black')\n",
    "        axes[1].plot([n['z'], c['z']], [n['y'], c['y']], color='black')\n",
    "\n",
    "axes[0].set_ylabel('y')\n",
    "axes[0].set_xlabel('x')\n",
    "axes[1].set_xlabel('z')"
   ]
  },
  {
   "cell_type": "markdown",
   "metadata": {},
   "source": [
    "Plotting the data is great, but if we want to do some analysis on things like spike times, spike shapes, etc., we want to go through and extract these features from our raw data. This can be accomplished by using the feature extraction tools in the SDK."
   ]
  },
  {
   "cell_type": "code",
   "execution_count": null,
   "metadata": {
    "collapsed": false
   },
   "outputs": [],
   "source": [
    "from allensdk.ephys.feature_extractor import EphysFeatureExtractor\n",
    "\n",
    "sweep_number = 35\n",
    "\n",
    "v, i, t = get_sweep_v_i_t_from_set(data_set, sweep_number)\n",
    "\n",
    "fx = EphysFeatureExtractor()\n",
    "\n",
    "stim_start = 1.0\n",
    "stim_duration = 1.0\n",
    "\n",
    "fx.process_instance(\"\", v, i, t, stim_start, stim_duration, \"\")\n",
    "feature_data = fx.feature_list[0].mean\n",
    "print \"Avg spike width: {:.2f} ms\".format(feature_data['width'])\n",
    "print \"Avg spike threshold: {:.1f} mV\".format(feature_data[\"threshold\"])\n"
   ]
  },
  {
   "cell_type": "markdown",
   "metadata": {},
   "source": [
    "We can take a look at all the properties calculated for a given spike."
   ]
  },
  {
   "cell_type": "code",
   "execution_count": null,
   "metadata": {
    "collapsed": false
   },
   "outputs": [],
   "source": [
    "import pprint\n",
    "pp = pprint.PrettyPrinter(indent=2)\n",
    "pp.pprint(feature_data[\"spikes\"][0])"
   ]
  },
  {
   "cell_type": "markdown",
   "metadata": {},
   "source": [
    "A list comprehension is an easy way to pull out the spike times. "
   ]
  },
  {
   "cell_type": "code",
   "execution_count": null,
   "metadata": {
    "collapsed": false
   },
   "outputs": [],
   "source": [
    "spike_times = [s[\"t\"] for s in feature_data[\"spikes\"]]\n",
    "\n",
    "print spike_times[:5] "
   ]
  },
  {
   "cell_type": "code",
   "execution_count": null,
   "metadata": {
    "collapsed": false
   },
   "outputs": [],
   "source": [
    "plt.figure()\n",
    "plt.plot(t, v, color='black')\n",
    "\n",
    "min_v = v.min()\n",
    "\n",
    "min_v -= 5.0\n",
    "\n",
    "plt.scatter(spike_times, np.ones(len(spike_times)) * min_v, c='r')\n",
    "plt.xlim(0.9, 1.2)"
   ]
  },
  {
   "cell_type": "markdown",
   "metadata": {},
   "source": [
    "## GLIF models\n",
    "\n",
    "To use the models in the Cell Types database, we'll use another set of tools in the SDK. Here's how to download and run a particular GLIF model that we know the ID of."
   ]
  },
  {
   "cell_type": "code",
   "execution_count": null,
   "metadata": {
    "collapsed": true
   },
   "outputs": [],
   "source": [
    "from allensdk.api.queries.glif_api import GlifApi\n",
    "from allensdk.model.glif.glif_neuron import GlifNeuron\n",
    "import allensdk.core.json_utilities as json_utilities\n",
    "\n",
    "glif_model_id = 472299313 # Level 5 GLIF\n",
    "glif_api = GlifApi()\n",
    "glif_api.get_neuronal_model(glif_model_id)\n",
    "neuron_config = glif_api.get_neuron_config()\n",
    "neuron = GlifNeuron.from_dict(neuron_config)\n",
    "\n",
    "sweep_number = 30\n",
    "sweep_data = data_set.get_sweep(sweep_number)\n",
    "i = sweep_data[\"stimulus\"]\n",
    "sampling_rate = sweep_data[\"sampling_rate\"]\n",
    "neuron.dt = 1.0 / sampling_rate\n",
    "index_range = sweep_data[\"index_range\"]\n",
    "\n",
    "output = neuron.run(i[index_range[0]:index_range[1]])"
   ]
  },
  {
   "cell_type": "markdown",
   "metadata": {},
   "source": [
    "We can take a look at the different outputs from the model."
   ]
  },
  {
   "cell_type": "code",
   "execution_count": null,
   "metadata": {
    "collapsed": false
   },
   "outputs": [],
   "source": [
    "t = np.arange(0, len(output['voltage'])) * neuron.dt\n",
    "\n",
    "plt.figure()\n",
    "plt.plot(t, output['voltage'] * 1e3, label='voltage')\n",
    "plt.plot(t, output['threshold'] * 1e3, label='threshold')\n",
    "plt.legend()\n",
    "\n",
    "spike_times = output['interpolated_spike_times']\n",
    "plt.scatter(spike_times, np.ones(len(spike_times)) * 30.0, c='k')\n",
    "\n",
    "plt.ylabel(\"mV\")\n",
    "plt.xlabel(\"seconds\")"
   ]
  },
  {
   "cell_type": "markdown",
   "metadata": {
    "collapsed": false
   },
   "source": [
    "## Biophysical models\n",
    "\n",
    "A biophysical model can be downloaded and run in a similar way, assuming you have NEURON installed and configured correctly."
   ]
  },
  {
   "cell_type": "code",
   "execution_count": null,
   "metadata": {
    "collapsed": true
   },
   "outputs": [],
   "source": [
    "from allensdk.api.queries.biophysical_perisomatic_api import BiophysicalPerisomaticApi\n",
    "\n",
    "bp_api = BiophysicalPerisomaticApi()\n",
    "bp_api.cache_stimulus = False # don't download the stimulus waveforms (NWB file)\n",
    "neuronal_model_id = 473863035\n",
    "bp_api.cache_data(neuronal_model_id, working_directory='neuronal_model')"
   ]
  },
  {
   "cell_type": "markdown",
   "metadata": {},
   "source": [
    "We need to compile the .mod files that describe the biophysical mechanisms before using the model."
   ]
  },
  {
   "cell_type": "code",
   "execution_count": null,
   "metadata": {
    "collapsed": false
   },
   "outputs": [],
   "source": [
    "import os\n",
    "os.chdir('neuronal_model')\n",
    "!nrnivmodl modfiles"
   ]
  },
  {
   "cell_type": "markdown",
   "metadata": {},
   "source": [
    "Welcome back. Let's see what else is in the folder."
   ]
  },
  {
   "cell_type": "code",
   "execution_count": null,
   "metadata": {
    "collapsed": false
   },
   "outputs": [],
   "source": [
    "!ls"
   ]
  },
  {
   "cell_type": "markdown",
   "metadata": {},
   "source": [
    "Now that we have our files sorted, we'll configure the model."
   ]
  },
  {
   "cell_type": "code",
   "execution_count": null,
   "metadata": {
    "collapsed": true
   },
   "outputs": [],
   "source": [
    "from allensdk.model.biophys_sim.config import Config\n",
    "from allensdk.model.biophysical_perisomatic.utils import Utils\n",
    "\n",
    "description = Config().load(\"manifest.json\")\n",
    "utils = Utils(description) # object for setting up the model\n",
    "\n",
    "manifest = description.manifest\n",
    "morphology_path = manifest.get_path(\"MORPHOLOGY\")\n",
    "utils.generate_morphology(morphology_path)\n",
    "utils.load_cell_parameters()\n",
    "\n",
    "# Now let's set up the stimulus\n",
    "h = utils.h # get access to the NEURON environment through \"h\"\n",
    "stim = h.IClamp(h.soma[0](0.5)) # insert a current clamp stimulus in the middle of the soma\n",
    "stim.amp = 0.2 # nA\n",
    "stim.dur = 1000 # ms\n",
    "stim.delay = 1000 # ms\n",
    "\n",
    "# set up variable time step for faster execution\n",
    "h.cvode_active(1)\n",
    "h.cvode.atolscale(\"cai\", 1e-4)\n",
    "h.cvode.maxstep(10)\n",
    "\n",
    "vec = utils.record_values() # save the voltage and time values\n",
    "\n",
    "h.tstop = 3000 # run it for 3 sec"
   ]
  },
  {
   "cell_type": "markdown",
   "metadata": {},
   "source": [
    "Now let's run the model and see what we get."
   ]
  },
  {
   "cell_type": "code",
   "execution_count": null,
   "metadata": {
    "collapsed": false
   },
   "outputs": [],
   "source": [
    "h.finitialize()\n",
    "h.run()\n",
    "\n",
    "plt.figure()\n",
    "plt.plot(vec[\"t\"], vec[\"v\"], color='black')"
   ]
  },
  {
   "cell_type": "markdown",
   "metadata": {},
   "source": [
    "## Features in the database\n",
    "\n",
    "There is also a set of features in the database that have already been computed, which could serve as good starting points for further analysis. We can query the database using the SDK to get these features out using  `CellTypesApi`."
   ]
  },
  {
   "cell_type": "code",
   "execution_count": null,
   "metadata": {
    "collapsed": false
   },
   "outputs": [],
   "source": [
    "from allensdk.api.queries.cell_types_api import CellTypesApi\n",
    "\n",
    "cta = CellTypesApi()\n",
    "specimen_id = 464212183\n",
    "\n",
    "features = cta.get_ephys_features()\n",
    "cell_features = [f for f in features if f['specimen_id'] == specimen_id]\n",
    "print cell_features"
   ]
  },
  {
   "cell_type": "markdown",
   "metadata": {},
   "source": [
    "That's how to get all the ephys features for a given specimen - what if we want a particular feature for all cells?"
   ]
  },
  {
   "cell_type": "code",
   "execution_count": null,
   "metadata": {
    "collapsed": false
   },
   "outputs": [],
   "source": [
    "updown = np.array([f['upstroke_downstroke_ratio_short_square'] for f in features], dtype=float)\n",
    "fasttrough = np.array([f['fast_trough_v_long_square'] for f in features], dtype=float)\n",
    "\n",
    "plt.figure()\n",
    "plt.scatter(fasttrough, updown, color='#2ca25f')\n",
    "plt.ylabel(\"upstroke-downstroke ratio\")\n",
    "plt.xlabel(\"fast trough depth (mV)\")"
   ]
  },
  {
   "cell_type": "markdown",
   "metadata": {},
   "source": [
    "Note that the data arrives as Unicode strings, so we converted them to floating point numbers.\n",
    "\n",
    "Let's use numpy to fit a regression line to these data and plot it."
   ]
  },
  {
   "cell_type": "code",
   "execution_count": null,
   "metadata": {
    "collapsed": false
   },
   "outputs": [],
   "source": [
    "A = np.vstack([fasttrough, np.ones_like(updown)]).T\n",
    "print \"First 5 rows of A:\"\n",
    "print A[:5, :]\n",
    "\n",
    "m, c = np.linalg.lstsq(A, updown)[0]\n",
    "print \"m\", m, \"c\", c\n",
    "\n",
    "plt.figure()\n",
    "plt.scatter(fasttrough, updown, color='#2ca25f')\n",
    "plt.plot(fasttrough, m * fasttrough + c, c='gray')\n",
    "plt.ylabel(\"upstroke-downstroke ratio\")\n",
    "plt.xlabel(\"fast trough depth (mV)\")"
   ]
  },
  {
   "cell_type": "markdown",
   "metadata": {},
   "source": [
    "It looks like there may be roughly two clusters in the data above. Maybe they relate to whether the cells are presumably excitatory (spiny) cells or inhibitory (aspiny) cells. Let's query the data to split up the two sets to see."
   ]
  },
  {
   "cell_type": "code",
   "execution_count": null,
   "metadata": {
    "collapsed": false
   },
   "outputs": [],
   "source": [
    "cells = cta.get_cells()\n",
    "\n",
    "cell_index = { c['id']: c for c in cells}\n",
    "\n",
    "dendrite_types = ['spiny', 'aspiny']\n",
    "data = {}\n",
    "\n",
    "for dendrite_type in dendrite_types:\n",
    "    type_features = [f for f in features if cell_index[f['specimen_id']]['dendrite_type'] == dendrite_type]\n",
    "    data[dendrite_type] = {\n",
    "        \"fasttrough\": [f['fast_trough_v_long_square'] for f in type_features],\n",
    "        \"updown\": [f['upstroke_downstroke_ratio_short_square'] for f in type_features],\n",
    "    }\n",
    "    \n",
    "plt.figure()\n",
    "for a_type, color in zip(type_strings.keys(), [\"#d95f02\", \"#7570b3\"]):\n",
    "    plt.scatter(data[a_type]['fasttrough'], data[a_type]['updown'], color=color, label=a_type)\n",
    "plt.legend(loc='best')\n",
    "plt.ylabel(\"upstroke-downstroke ratio\")\n",
    "plt.xlabel(\"fast trough depth (mV)\")"
   ]
  },
  {
   "cell_type": "code",
   "execution_count": null,
   "metadata": {
    "collapsed": false
   },
   "outputs": [],
   "source": []
  }
 ],
 "metadata": {
  "kernelspec": {
   "display_name": "Python 2",
   "language": "python",
   "name": "python2"
  },
  "language_info": {
   "codemirror_mode": {
    "name": "ipython",
    "version": 2
   },
   "file_extension": ".py",
   "mimetype": "text/x-python",
   "name": "python",
   "nbconvert_exporter": "python",
   "pygments_lexer": "ipython2",
   "version": "2.7.10"
  }
 },
 "nbformat": 4,
 "nbformat_minor": 0
}
