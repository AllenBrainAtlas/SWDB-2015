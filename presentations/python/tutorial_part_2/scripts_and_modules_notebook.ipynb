{
 "cells": [
  {
   "cell_type": "markdown",
   "metadata": {},
   "source": [
    "# Python Scripting\n",
    "\n",
    "Python scripts are .py files with Python code in them.\n",
    "\n",
    "Check out f1_scripts.py to see what a script looks like.\n",
    "\n",
    "Run this from the command line:\n",
    "    \n",
    "    $ python f1_scripts.py"
   ]
  },
  {
   "cell_type": "markdown",
   "metadata": {},
   "source": [
    "# Importing Functions from Scripts \n",
    "\n",
    "Having everything in one giant file can be tough.  As you build libraries of functions, it's nice to keep them in separate files and import them when you need them.  Let's give it a shot."
   ]
  },
  {
   "cell_type": "code",
   "execution_count": 10,
   "metadata": {
    "collapsed": false
   },
   "outputs": [],
   "source": [
    "# This will search your PYTHONPATH for f1_scripts.py.  \n",
    "# More on PYTHONPATH later.\n",
    "import f1_scripts "
   ]
  },
  {
   "cell_type": "markdown",
   "metadata": {},
   "source": [
    "Why did this just print out some numbers twice?\n",
    "\n",
    "The 'import' statement executes every statement in f1_scripts.py in order. Let's take a look back at f1_scripts.py."
   ]
  },
  {
   "cell_type": "code",
   "execution_count": 11,
   "metadata": {
    "collapsed": true
   },
   "outputs": [],
   "source": [
    "# let's import it again for fun\n",
    "import f1_scripts "
   ]
  },
  {
   "cell_type": "markdown",
   "metadata": {},
   "source": [
    "Why didn't this print out those statements again?  Python is clever about imports -- it only re-imports if you change the file.  Now let's figure out how to avoid those statements in the first place.  \n",
    "\n",
    "Check out f2_modules.py."
   ]
  },
  {
   "cell_type": "code",
   "execution_count": 12,
   "metadata": {
    "collapsed": true
   },
   "outputs": [],
   "source": [
    "import f2_modules"
   ]
  },
  {
   "cell_type": "markdown",
   "metadata": {},
   "source": [
    "That's better.  Now let's call our function."
   ]
  },
  {
   "cell_type": "code",
   "execution_count": 13,
   "metadata": {
    "collapsed": false
   },
   "outputs": [
    {
     "data": {
      "text/plain": [
       "2.8284271247461903"
      ]
     },
     "execution_count": 13,
     "metadata": {},
     "output_type": "execute_result"
    }
   ],
   "source": [
    "p1 = (1,2)\n",
    "p2 = (3,4)\n",
    "\n",
    "# this is rather verbose\n",
    "f2_modules.distance_between_points_2d(p1,p2)"
   ]
  },
  {
   "cell_type": "code",
   "execution_count": 14,
   "metadata": {
    "collapsed": false
   },
   "outputs": [
    {
     "data": {
      "text/plain": [
       "2.8284271247461903"
      ]
     },
     "execution_count": 14,
     "metadata": {},
     "output_type": "execute_result"
    }
   ],
   "source": [
    "from f2_modules import distance_between_points_2d\n",
    "\n",
    "# a little shorter\n",
    "distance_between_points_2d(p1,p2)"
   ]
  },
  {
   "cell_type": "code",
   "execution_count": 15,
   "metadata": {
    "collapsed": false
   },
   "outputs": [
    {
     "data": {
      "text/plain": [
       "2.8284271247461903"
      ]
     },
     "execution_count": 15,
     "metadata": {},
     "output_type": "execute_result"
    }
   ],
   "source": [
    "from f2_modules import distance_between_points_2d as d2d\n",
    "\n",
    "# careful! this is probably too short.\n",
    "d2d(p1, p2)"
   ]
  },
  {
   "cell_type": "markdown",
   "metadata": {},
   "source": [
    "# from m import \\*\n",
    "\n",
    "AKA: how to lose days of your life to strange bugs.\n",
    "\n",
    "When your 'import \\*' from a module, it will import everything in that file into your module's scope.  If there's something in that module that has the same name as something in your module, it will *overwrite it without warning you*.  \n",
    "\n",
    "Best practice is never to 'import \\*'. ever. really!"
   ]
  },
  {
   "cell_type": "code",
   "execution_count": 16,
   "metadata": {
    "collapsed": false
   },
   "outputs": [
    {
     "name": "stdout",
     "output_type": "stream",
     "text": [
      "inside neuron function!\n",
      "pretend we just did some hard math that took forever\n",
      "<function neuron at 0x00000000040B6AC8>\n"
     ]
    }
   ],
   "source": [
    "# this will import a function called 'neuron'\n",
    "from f2_modules import *\n",
    "\n",
    "neuron()\n",
    "\n",
    "# we just overwrite the function we imported, oops\n",
    "neuron = \"pretend we just did some hard math that took forever\"\n",
    "\n",
    "print neuron\n",
    "\n",
    "# this will overwrite all of the hard math we just did!\n",
    "from f2_modules import *\n",
    "\n",
    "print neuron # yep, this is a function again"
   ]
  },
  {
   "cell_type": "markdown",
   "metadata": {},
   "source": [
    "# Submodules\n",
    "\n",
    "Congratulations!  You have written so many modules that you're having trouble keeping track of them.  Python will let you put them into submodules by putting them in subdirectories.  The only trick is that the subdirectories need a '\\_\\_init\\_\\_.py' file inside them.  \n",
    "\n",
    "Take a look in the \"submodule\" folder."
   ]
  },
  {
   "cell_type": "code",
   "execution_count": 17,
   "metadata": {
    "collapsed": false
   },
   "outputs": [
    {
     "name": "stdout",
     "output_type": "stream",
     "text": [
      "testing a submodule function!\n"
     ]
    }
   ],
   "source": [
    "from submodule.submodule_test import submodule_test_function\n",
    "submodule_test_function()"
   ]
  },
  {
   "cell_type": "markdown",
   "metadata": {},
   "source": [
    "# PYTHONPATH\n",
    "\n",
    "The PYTHONPATH is where Python looks when you try to import things.  By default it looks in:\n",
    "\n",
    "    - <python_install>/lib/python2.7/site-packages\n",
    "    - <home_directory>/.local\n",
    "    - <current_working_directory>\n",
    "    \n",
    "You can add directories to your PYTHONPATH.  In linux this looks like:\n",
    "\n",
    "    $ export PYTHONPATH=/some/directory/:PYTHONPATH"
   ]
  }
 ],
 "metadata": {
  "kernelspec": {
   "display_name": "Python 2",
   "language": "python",
   "name": "python2"
  },
  "language_info": {
   "codemirror_mode": {
    "name": "ipython",
    "version": 2
   },
   "file_extension": ".py",
   "mimetype": "text/x-python",
   "name": "python",
   "nbconvert_exporter": "python",
   "pygments_lexer": "ipython2",
   "version": "2.7.9"
  }
 },
 "nbformat": 4,
 "nbformat_minor": 0
}
