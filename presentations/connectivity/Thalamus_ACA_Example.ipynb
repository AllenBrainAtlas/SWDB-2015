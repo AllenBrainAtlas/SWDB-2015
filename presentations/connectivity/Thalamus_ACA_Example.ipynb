{
 "cells": [
  {
   "cell_type": "markdown",
   "metadata": {},
   "source": [
    "Use the SDK function/cache"
   ]
  },
  {
   "cell_type": "code",
   "execution_count": 1,
   "metadata": {
    "collapsed": true
   },
   "outputs": [],
   "source": [
    "from allensdk.core.mouse_connectivity_cache import MouseConnectivityCache\n",
    "\n",
    "# !! update this path so that it points to your external hard drive !!\n",
    "mcc = MouseConnectivityCache(manifest_file='D:/connectivity/manifest.json')\n",
    "\n",
    "ontology = mcc.get_ontology()\n"
   ]
  },
  {
   "cell_type": "markdown",
   "metadata": {},
   "source": [
    "#Experiment Filtering"
   ]
  },
  {
   "cell_type": "code",
   "execution_count": 2,
   "metadata": {
    "collapsed": false
   },
   "outputs": [
    {
     "name": "stdout",
     "output_type": "stream",
     "text": [
      "There are 169 experiments in my filtered experiment list\n"
     ]
    }
   ],
   "source": [
    "# Get experiments injected into thalamus\n",
    "\n",
    "thalamus_id = ontology['TH']['id']\n",
    "filtered_experiments = mcc.get_experiments(dataframe=True,cre=True,injection_structure_ids=thalamus_id)\n",
    "\n",
    "print \"There are %d experiments in my filtered experiment list\" % len(filtered_experiments)\n",
    "\n",
    "#order the experiments"
   ]
  },
  {
   "cell_type": "markdown",
   "metadata": {},
   "source": [
    "#Structure Filtering"
   ]
  },
  {
   "cell_type": "code",
   "execution_count": 3,
   "metadata": {
    "collapsed": false
   },
   "outputs": [
    {
     "name": "stdout",
     "output_type": "stream",
     "text": [
      "There are 1 structures in my filtered structure list\n"
     ]
    }
   ],
   "source": [
    "# Only report values for ACA\n",
    "\n",
    "from allensdk.api.queries.ontologies_api import OntologiesApi\n",
    "\n",
    "filtered_structures = ontology['ACA']\n",
    "print \"There are %d structures in my filtered structure list\" % len(filtered_structures)"
   ]
  },
  {
   "cell_type": "markdown",
   "metadata": {},
   "source": [
    "#Use helper function to make matrix"
   ]
  },
  {
   "cell_type": "code",
   "execution_count": 4,
   "metadata": {
    "collapsed": false
   },
   "outputs": [],
   "source": [
    "import connectivity_helper as chelp\n",
    "\n",
    "data = chelp.generate_matrix( mcc, filtered_experiments, filtered_structures, [2,1],\n",
    "                            is_injection=False, parameter='normalized_projection_volume')"
   ]
  },
  {
   "cell_type": "code",
   "execution_count": 6,
   "metadata": {
    "collapsed": false
   },
   "outputs": [
    {
     "data": {
      "text/html": [
       "<div>\n",
       "<table border=\"1\" class=\"dataframe\">\n",
       "  <thead>\n",
       "    <tr style=\"text-align: right;\">\n",
       "      <th></th>\n",
       "      <th>hemisphere_id</th>\n",
       "      <th>label</th>\n",
       "      <th>structure_id</th>\n",
       "    </tr>\n",
       "  </thead>\n",
       "  <tbody>\n",
       "    <tr>\n",
       "      <th>0</th>\n",
       "      <td>2</td>\n",
       "      <td>ACA-R</td>\n",
       "      <td>31</td>\n",
       "    </tr>\n",
       "    <tr>\n",
       "      <th>1</th>\n",
       "      <td>1</td>\n",
       "      <td>ACA-L</td>\n",
       "      <td>31</td>\n",
       "    </tr>\n",
       "  </tbody>\n",
       "</table>\n",
       "</div>"
      ],
      "text/plain": [
       "   hemisphere_id  label  structure_id\n",
       "0              2  ACA-R            31\n",
       "1              1  ACA-L            31"
      ]
     },
     "execution_count": 6,
     "metadata": {},
     "output_type": "execute_result"
    }
   ],
   "source": [
    "data['columns']"
   ]
  },
  {
   "cell_type": "code",
   "execution_count": 14,
   "metadata": {
    "collapsed": false
   },
   "outputs": [],
   "source": [
    "# make a copy of the filtered_experiments and add in data\n",
    "\n",
    "import pandas as pd\n",
    "\n",
    "my_df = filtered_experiments.copy()\n",
    "\n",
    "for row_index, row in data['columns'].iterrows():\n",
    "    my_df[data['columns']['label'][row_index]] = pd.Series(data['matrix'][:,row_index],index=my_df.index)\n"
   ]
  },
  {
   "cell_type": "code",
   "execution_count": 15,
   "metadata": {
    "collapsed": false
   },
   "outputs": [
    {
     "data": {
      "text/html": [
       "<div>\n",
       "<table border=\"1\" class=\"dataframe\">\n",
       "  <thead>\n",
       "    <tr style=\"text-align: right;\">\n",
       "      <th></th>\n",
       "      <th>gender</th>\n",
       "      <th>id</th>\n",
       "      <th>injection-coordinates</th>\n",
       "      <th>injection-structures</th>\n",
       "      <th>strain</th>\n",
       "      <th>structure-abbrev</th>\n",
       "      <th>structure-color</th>\n",
       "      <th>structure-id</th>\n",
       "      <th>structure-name</th>\n",
       "      <th>transgenic-line</th>\n",
       "      <th>ACA-R</th>\n",
       "      <th>ACA-L</th>\n",
       "    </tr>\n",
       "    <tr>\n",
       "      <th>id</th>\n",
       "      <th></th>\n",
       "      <th></th>\n",
       "      <th></th>\n",
       "      <th></th>\n",
       "      <th></th>\n",
       "      <th></th>\n",
       "      <th></th>\n",
       "      <th></th>\n",
       "      <th></th>\n",
       "      <th></th>\n",
       "      <th></th>\n",
       "      <th></th>\n",
       "    </tr>\n",
       "  </thead>\n",
       "  <tbody>\n",
       "    <tr>\n",
       "      <th>267959197</th>\n",
       "      <td>F</td>\n",
       "      <td>267959197</td>\n",
       "      <td>[7640, 3420, 5890]</td>\n",
       "      <td>[{u'abbreviation': u'PRC', u'color': u'FF90FF'...</td>\n",
       "      <td>unknown</td>\n",
       "      <td>PF</td>\n",
       "      <td>FF909F</td>\n",
       "      <td>930</td>\n",
       "      <td>Parafascicular nucleus</td>\n",
       "      <td>Vipr2-Cre_KE2</td>\n",
       "      <td>0.585393</td>\n",
       "      <td>0.000188</td>\n",
       "    </tr>\n",
       "    <tr>\n",
       "      <th>181895006</th>\n",
       "      <td>M</td>\n",
       "      <td>181895006</td>\n",
       "      <td>[6330, 3650, 5910]</td>\n",
       "      <td>[{u'abbreviation': u'AD', u'color': u'FF909F',...</td>\n",
       "      <td>B6.129</td>\n",
       "      <td>MD</td>\n",
       "      <td>FF909F</td>\n",
       "      <td>362</td>\n",
       "      <td>Mediodorsal nucleus of thalamus</td>\n",
       "      <td>Slc17a6-IRES-Cre</td>\n",
       "      <td>3.595320</td>\n",
       "      <td>0.000979</td>\n",
       "    </tr>\n",
       "    <tr>\n",
       "      <th>278510903</th>\n",
       "      <td>M</td>\n",
       "      <td>278510903</td>\n",
       "      <td>[5690, 4230, 5300]</td>\n",
       "      <td>[{u'abbreviation': u'PT', u'color': u'FF909F',...</td>\n",
       "      <td>FVB/N-Crl:CD1(ICR)</td>\n",
       "      <td>PVT</td>\n",
       "      <td>FF909F</td>\n",
       "      <td>149</td>\n",
       "      <td>Paraventricular nucleus of the thalamus</td>\n",
       "      <td>Ppp1r17-Cre_NL146</td>\n",
       "      <td>0.113541</td>\n",
       "      <td>0.081901</td>\n",
       "    </tr>\n",
       "    <tr>\n",
       "      <th>263785543</th>\n",
       "      <td>M</td>\n",
       "      <td>263785543</td>\n",
       "      <td>[7980, 4600, 5790]</td>\n",
       "      <td>[{u'abbreviation': u'MRN', u'color': u'FF90FF'...</td>\n",
       "      <td>B6.129</td>\n",
       "      <td>PF</td>\n",
       "      <td>FF909F</td>\n",
       "      <td>930</td>\n",
       "      <td>Parafascicular nucleus</td>\n",
       "      <td>Slc17a6-IRES-Cre</td>\n",
       "      <td>0.094078</td>\n",
       "      <td>0.000176</td>\n",
       "    </tr>\n",
       "    <tr>\n",
       "      <th>304617742</th>\n",
       "      <td>F</td>\n",
       "      <td>304617742</td>\n",
       "      <td>[6640, 5680, 5660]</td>\n",
       "      <td>[{u'abbreviation': u'PVH', u'color': u'FF5D50'...</td>\n",
       "      <td>B6.129</td>\n",
       "      <td>RE</td>\n",
       "      <td>FF909F</td>\n",
       "      <td>181</td>\n",
       "      <td>Nucleus of reunions</td>\n",
       "      <td>Slc17a6-IRES-Cre</td>\n",
       "      <td>0.300625</td>\n",
       "      <td>0.003826</td>\n",
       "    </tr>\n",
       "  </tbody>\n",
       "</table>\n",
       "</div>"
      ],
      "text/plain": [
       "          gender         id injection-coordinates  \\\n",
       "id                                                  \n",
       "267959197      F  267959197    [7640, 3420, 5890]   \n",
       "181895006      M  181895006    [6330, 3650, 5910]   \n",
       "278510903      M  278510903    [5690, 4230, 5300]   \n",
       "263785543      M  263785543    [7980, 4600, 5790]   \n",
       "304617742      F  304617742    [6640, 5680, 5660]   \n",
       "\n",
       "                                        injection-structures  \\\n",
       "id                                                             \n",
       "267959197  [{u'abbreviation': u'PRC', u'color': u'FF90FF'...   \n",
       "181895006  [{u'abbreviation': u'AD', u'color': u'FF909F',...   \n",
       "278510903  [{u'abbreviation': u'PT', u'color': u'FF909F',...   \n",
       "263785543  [{u'abbreviation': u'MRN', u'color': u'FF90FF'...   \n",
       "304617742  [{u'abbreviation': u'PVH', u'color': u'FF5D50'...   \n",
       "\n",
       "                       strain structure-abbrev structure-color  structure-id  \\\n",
       "id                                                                             \n",
       "267959197             unknown               PF          FF909F           930   \n",
       "181895006              B6.129               MD          FF909F           362   \n",
       "278510903  FVB/N-Crl:CD1(ICR)              PVT          FF909F           149   \n",
       "263785543              B6.129               PF          FF909F           930   \n",
       "304617742              B6.129               RE          FF909F           181   \n",
       "\n",
       "                                    structure-name    transgenic-line  \\\n",
       "id                                                                      \n",
       "267959197                   Parafascicular nucleus      Vipr2-Cre_KE2   \n",
       "181895006          Mediodorsal nucleus of thalamus   Slc17a6-IRES-Cre   \n",
       "278510903  Paraventricular nucleus of the thalamus  Ppp1r17-Cre_NL146   \n",
       "263785543                   Parafascicular nucleus   Slc17a6-IRES-Cre   \n",
       "304617742                      Nucleus of reunions   Slc17a6-IRES-Cre   \n",
       "\n",
       "              ACA-R     ACA-L  \n",
       "id                             \n",
       "267959197  0.585393  0.000188  \n",
       "181895006  3.595320  0.000979  \n",
       "278510903  0.113541  0.081901  \n",
       "263785543  0.094078  0.000176  \n",
       "304617742  0.300625  0.003826  "
      ]
     },
     "execution_count": 15,
     "metadata": {},
     "output_type": "execute_result"
    }
   ],
   "source": [
    "my_df.head()"
   ]
  },
  {
   "cell_type": "code",
   "execution_count": 23,
   "metadata": {
    "collapsed": true
   },
   "outputs": [],
   "source": [
    "grouped = my_df.groupby(['structure-abbrev','transgenic-line'])"
   ]
  },
  {
   "cell_type": "code",
   "execution_count": 27,
   "metadata": {
    "collapsed": false,
    "scrolled": false
   },
   "outputs": [
    {
     "data": {
      "text/plain": [
       "structure-abbrev  transgenic-line          \n",
       "AD                Slc6a5-Cre_KF109             0.189274\n",
       "AM                Cck-IRES-Cre                 3.007060\n",
       "                  Crh-IRES-Cre (ZJH)           0.025151\n",
       "                  Grik4-Cre                    4.026250\n",
       "                  Prkcd-GluCla-CFP-IRES-Cre    2.340270\n",
       "AMd               Gal-Cre_KI87                 2.305670\n",
       "AV                Gal-Cre_KI87                 0.736922\n",
       "                  Gpr26-Cre_KO250              0.319370\n",
       "                  Grp-Cre_KH288                0.419765\n",
       "                  Slc17a6-IRES-Cre             0.029525\n",
       "CL                Crh-IRES-Cre (BL)            0.256805\n",
       "                  Gal-Cre_KI87                 1.234630\n",
       "                  Grm2-Cre_MR90                0.853779\n",
       "                  Rbp4-Cre_KL100               0.205434\n",
       "CM                Calb2-IRES-Cre               0.003572\n",
       "                  Gal-Cre_KI87                 0.014218\n",
       "                  Grm2-Cre_MR90                0.350623\n",
       "                  Grp-Cre_KH288                0.676950\n",
       "                  Lypd6-Cre_KL156              0.573971\n",
       "                  Plxnd1-Cre_OG1               1.258809\n",
       "IAD               Crh-IRES-Cre (BL)            0.264900\n",
       "IGL               Gad2-IRES-Cre                0.001244\n",
       "                  Plxnd1-Cre_OG1               0.022402\n",
       "IMD               Grm2-Cre_MR90                0.088636\n",
       "                  Lypd6-Cre_KL156              0.014885\n",
       "                  Plxnd1-Cre_OG1               0.058862\n",
       "                  Syt17-Cre_NO14               0.009341\n",
       "                  Ucn3-Cre_KF43                0.007093\n",
       "LD                Calb2-IRES-Cre               0.020428\n",
       "                  Gal-Cre_KI87                 0.028843\n",
       "                                                 ...   \n",
       "RE                Prkcd-GluCla-CFP-IRES-Cre    0.606278\n",
       "                  Rasgrf2-2A-dCre              0.058644\n",
       "                  Slc17a6-IRES-Cre             0.300625\n",
       "                  Ucn3-Cre_KF43                0.004732\n",
       "RT                Gad2-IRES-Cre                0.000287\n",
       "                  Oxtr-Cre_ON66                0.000134\n",
       "                  Pvalb-IRES-Cre               0.016382\n",
       "                  Slc32a1-IRES-Cre             0.000780\n",
       "SGN               Slc18a2-Cre_OZ14             0.000400\n",
       "SMT               Vipr2-Cre_KE2                0.147478\n",
       "SPA               Calb2-IRES-Cre               0.027735\n",
       "SPFm              Pdzk1ip1-Cre_KD31            0.000053\n",
       "                  Ppp1r17-Cre_NL146            0.135248\n",
       "SPFp              Calb2-IRES-Cre               0.003373\n",
       "                  Th-Cre_FI172                 0.003366\n",
       "VAL               Gal-Cre_KI87                 0.438025\n",
       "                  Grik4-Cre                    0.491768\n",
       "                  Prkcd-GluCla-CFP-IRES-Cre    3.447370\n",
       "                  Slc17a6-IRES-Cre             0.038643\n",
       "VM                Cck-IRES-Cre                 0.336540\n",
       "                  Gabrr3-Cre_KC112             0.307136\n",
       "                  Ppp1r17-Cre_NL146            0.051510\n",
       "                  Prkcd-GluCla-CFP-IRES-Cre    0.131782\n",
       "VPL               Grik4-Cre                    0.077002\n",
       "                  Scnn1a-Tg2-Cre               0.003223\n",
       "VPM               Gal-Cre_KI87                 0.001472\n",
       "                  Ppp1r17-Cre_NL146            0.000509\n",
       "                  Scnn1a-Tg2-Cre               0.001803\n",
       "                  Slc17a6-IRES-Cre             0.001185\n",
       "VPMpc             Scnn1a-Tg2-Cre               0.003722\n",
       "Name: ACA-R, dtype: float64"
      ]
     },
     "execution_count": 27,
     "metadata": {},
     "output_type": "execute_result"
    }
   ],
   "source": [
    "grouped['ACA-R'].mean()"
   ]
  },
  {
   "cell_type": "code",
   "execution_count": 28,
   "metadata": {
    "collapsed": false
   },
   "outputs": [
    {
     "data": {
      "text/plain": [
       "structure-abbrev  transgenic-line          \n",
       "AD                Slc6a5-Cre_KF109             0.001096\n",
       "AM                Cck-IRES-Cre                 0.005599\n",
       "                  Crh-IRES-Cre (ZJH)           0.003741\n",
       "                  Grik4-Cre                    0.005684\n",
       "                  Prkcd-GluCla-CFP-IRES-Cre    0.000428\n",
       "AMd               Gal-Cre_KI87                 0.000797\n",
       "AV                Gal-Cre_KI87                 0.000152\n",
       "                  Gpr26-Cre_KO250              0.000156\n",
       "                  Grp-Cre_KH288                0.000510\n",
       "                  Slc17a6-IRES-Cre             0.000035\n",
       "CL                Crh-IRES-Cre (BL)            0.000127\n",
       "                  Gal-Cre_KI87                 0.000255\n",
       "                  Grm2-Cre_MR90                0.000661\n",
       "                  Rbp4-Cre_KL100               0.010606\n",
       "CM                Calb2-IRES-Cre               0.002462\n",
       "                  Gal-Cre_KI87                 0.000655\n",
       "                  Grm2-Cre_MR90                0.020530\n",
       "                  Grp-Cre_KH288                0.004287\n",
       "                  Lypd6-Cre_KL156              0.172416\n",
       "                  Plxnd1-Cre_OG1               0.201633\n",
       "IAD               Crh-IRES-Cre (BL)            0.002167\n",
       "IGL               Gad2-IRES-Cre                0.000998\n",
       "                  Plxnd1-Cre_OG1               0.000510\n",
       "IMD               Grm2-Cre_MR90                0.018590\n",
       "                  Lypd6-Cre_KL156              0.002137\n",
       "                  Plxnd1-Cre_OG1               0.050687\n",
       "                  Syt17-Cre_NO14               0.000748\n",
       "                  Ucn3-Cre_KF43                0.007738\n",
       "LD                Calb2-IRES-Cre               0.000247\n",
       "                  Gal-Cre_KI87                 0.000020\n",
       "                                                 ...   \n",
       "RE                Prkcd-GluCla-CFP-IRES-Cre    0.018187\n",
       "                  Rasgrf2-2A-dCre              0.000937\n",
       "                  Slc17a6-IRES-Cre             0.003826\n",
       "                  Ucn3-Cre_KF43                0.005802\n",
       "RT                Gad2-IRES-Cre                0.000144\n",
       "                  Oxtr-Cre_ON66                0.000308\n",
       "                  Pvalb-IRES-Cre               0.000191\n",
       "                  Slc32a1-IRES-Cre             0.000534\n",
       "SGN               Slc18a2-Cre_OZ14             0.000698\n",
       "SMT               Vipr2-Cre_KE2                0.020210\n",
       "SPA               Calb2-IRES-Cre               0.019516\n",
       "SPFm              Pdzk1ip1-Cre_KD31            0.001331\n",
       "                  Ppp1r17-Cre_NL146            0.000334\n",
       "SPFp              Calb2-IRES-Cre               0.002405\n",
       "                  Th-Cre_FI172                 0.001904\n",
       "VAL               Gal-Cre_KI87                 0.000140\n",
       "                  Grik4-Cre                    0.000019\n",
       "                  Prkcd-GluCla-CFP-IRES-Cre    0.023449\n",
       "                  Slc17a6-IRES-Cre             0.000008\n",
       "VM                Cck-IRES-Cre                 0.000025\n",
       "                  Gabrr3-Cre_KC112             0.000345\n",
       "                  Ppp1r17-Cre_NL146            0.000183\n",
       "                  Prkcd-GluCla-CFP-IRES-Cre    0.000026\n",
       "VPL               Grik4-Cre                    0.000199\n",
       "                  Scnn1a-Tg2-Cre               0.000225\n",
       "VPM               Gal-Cre_KI87                 0.001213\n",
       "                  Ppp1r17-Cre_NL146            0.000059\n",
       "                  Scnn1a-Tg2-Cre               0.001977\n",
       "                  Slc17a6-IRES-Cre             0.000000\n",
       "VPMpc             Scnn1a-Tg2-Cre               0.000235\n",
       "Name: ACA-L, dtype: float64"
      ]
     },
     "execution_count": 28,
     "metadata": {},
     "output_type": "execute_result"
    }
   ],
   "source": [
    "grouped['ACA-L'].mean()"
   ]
  },
  {
   "cell_type": "code",
   "execution_count": null,
   "metadata": {
    "collapsed": true
   },
   "outputs": [],
   "source": []
  }
 ],
 "metadata": {
  "kernelspec": {
   "display_name": "Python 2",
   "language": "python",
   "name": "python2"
  },
  "language_info": {
   "codemirror_mode": {
    "name": "ipython",
    "version": 2
   },
   "file_extension": ".py",
   "mimetype": "text/x-python",
   "name": "python",
   "nbconvert_exporter": "python",
   "pygments_lexer": "ipython2",
   "version": "2.7.10"
  }
 },
 "nbformat": 4,
 "nbformat_minor": 0
}
