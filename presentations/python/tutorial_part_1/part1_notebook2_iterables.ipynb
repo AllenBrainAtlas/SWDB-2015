{
 "cells": [
  {
   "cell_type": "markdown",
   "metadata": {},
   "source": [
    "# Iterables\n",
    "An iterable is an \"object capable of returning its members one at a time\".\n",
    "#### Examples:\n",
    "* lists\n",
    "* tuples\n",
    "* strings\n",
    "* csv readers\n",
    "* ..."
   ]
  },
  {
   "cell_type": "markdown",
   "metadata": {
    "collapsed": true
   },
   "source": [
    "# Lists"
   ]
  },
  {
   "cell_type": "code",
   "execution_count": 1,
   "metadata": {
    "collapsed": false
   },
   "outputs": [
    {
     "data": {
      "text/plain": [
       "5"
      ]
     },
     "execution_count": 1,
     "metadata": {},
     "output_type": "execute_result"
    }
   ],
   "source": [
    "# a list is a built-in type in Python\n",
    "# it is a sequence of objects\n",
    "my_list1 = [2, 3, 5, 7, 11]\n",
    "# use the \"len\" function to get the number of elements in a list\n",
    "len(my_list1)"
   ]
  },
  {
   "cell_type": "code",
   "execution_count": 2,
   "metadata": {
    "collapsed": false
   },
   "outputs": [
    {
     "name": "stdout",
     "output_type": "stream",
     "text": [
      "2\n",
      "5\n"
     ]
    }
   ],
   "source": [
    "# lists are addressable (note: indexing from 0!)\n",
    "print my_list1[0]\n",
    "print my_list1[2]"
   ]
  },
  {
   "cell_type": "code",
   "execution_count": 3,
   "metadata": {
    "collapsed": false
   },
   "outputs": [
    {
     "name": "stdout",
     "output_type": "stream",
     "text": [
      "11\n",
      "7\n"
     ]
    }
   ],
   "source": [
    "# negative indices index backwards from the end of the list\n",
    "print my_list1[-1]\n",
    "print my_list1[-2]"
   ]
  },
  {
   "cell_type": "code",
   "execution_count": 4,
   "metadata": {
    "collapsed": false
   },
   "outputs": [
    {
     "name": "stdout",
     "output_type": "stream",
     "text": [
      "[5, 7]\n"
     ]
    }
   ],
   "source": [
    "# lists can be sliced with the \":\" operator\n",
    "# note: lower index inclusive, upper index exclusive\n",
    "print my_list1[2:4]"
   ]
  },
  {
   "cell_type": "code",
   "execution_count": 5,
   "metadata": {
    "collapsed": false
   },
   "outputs": [
    {
     "name": "stdout",
     "output_type": "stream",
     "text": [
      "[2, 3, 5]\n",
      "[7, 11]\n",
      "[7, 11]\n"
     ]
    }
   ],
   "source": [
    "# you can leave out the start or end index\n",
    "print my_list1[:3]\n",
    "print my_list1[3:]\n",
    "print my_list1[-2:]"
   ]
  },
  {
   "cell_type": "code",
   "execution_count": 6,
   "metadata": {
    "collapsed": false
   },
   "outputs": [
    {
     "name": "stdout",
     "output_type": "stream",
     "text": [
      "[0, 1, 2, 3, 4, 5, 6, 7, 8, 9]\n"
     ]
    }
   ],
   "source": [
    "# a fast way to produce a list of integers\n",
    "list_of_ints = range(10)\n",
    "print list_of_ints"
   ]
  },
  {
   "cell_type": "markdown",
   "metadata": {},
   "source": [
    "### Mutability\n",
    "*Mutable objects can change in place.*"
   ]
  },
  {
   "cell_type": "code",
   "execution_count": 7,
   "metadata": {
    "collapsed": false
   },
   "outputs": [
    {
     "name": "stdout",
     "output_type": "stream",
     "text": [
      "[2, 3, 5, 'hamburger', 11]\n"
     ]
    }
   ],
   "source": [
    "# lists are mutable\n",
    "my_list1[3] = 'hamburger'\n",
    "# note: lists can contain any kind of python object\n",
    "print my_list1"
   ]
  },
  {
   "cell_type": "code",
   "execution_count": 8,
   "metadata": {
    "collapsed": false
   },
   "outputs": [
    {
     "data": {
      "text/plain": [
       "[1, 2, 3, 'a', 'b', 3]"
      ]
     },
     "execution_count": 8,
     "metadata": {},
     "output_type": "execute_result"
    }
   ],
   "source": [
    "# lists can be concatenated like strings\n",
    "list1 = [1, 2, 3]\n",
    "list2 = ['a', 'b', 3]\n",
    "list3 = list1 + list2   # note this is not \"element-wise\"\n",
    "list3"
   ]
  },
  {
   "cell_type": "markdown",
   "metadata": {},
   "source": [
    "# Other useful list methods"
   ]
  },
  {
   "cell_type": "code",
   "execution_count": 9,
   "metadata": {
    "collapsed": false
   },
   "outputs": [
    {
     "data": {
      "text/plain": [
       "[1, 2, 3, 'a', 'b', 3, 100]"
      ]
     },
     "execution_count": 9,
     "metadata": {},
     "output_type": "execute_result"
    }
   ],
   "source": [
    "# add additional elements with \"append\"\n",
    "list3.append(100)\n",
    "list3"
   ]
  },
  {
   "cell_type": "code",
   "execution_count": 10,
   "metadata": {
    "collapsed": false
   },
   "outputs": [
    {
     "data": {
      "text/plain": [
       "3"
      ]
     },
     "execution_count": 10,
     "metadata": {},
     "output_type": "execute_result"
    }
   ],
   "source": [
    "# identify list indices with \"index\"\n",
    "list3.index('a')"
   ]
  },
  {
   "cell_type": "code",
   "execution_count": 11,
   "metadata": {
    "collapsed": false
   },
   "outputs": [
    {
     "data": {
      "text/plain": [
       "[1, 2, 3, 'a', 'b', 'x', 3, 100]"
      ]
     },
     "execution_count": 11,
     "metadata": {},
     "output_type": "execute_result"
    }
   ],
   "source": [
    "# insert elements with \"insert\"\n",
    "list3.insert(5, 'x')\n",
    "list3"
   ]
  },
  {
   "cell_type": "code",
   "execution_count": 12,
   "metadata": {
    "collapsed": false
   },
   "outputs": [
    {
     "data": {
      "text/plain": [
       "[1, 2, 3, 'a', 'x', 3, 100]"
      ]
     },
     "execution_count": 12,
     "metadata": {},
     "output_type": "execute_result"
    }
   ],
   "source": [
    "# remove elements with \"remove\"\n",
    "list3.remove('b')\n",
    "list3"
   ]
  },
  {
   "cell_type": "code",
   "execution_count": 13,
   "metadata": {
    "collapsed": false
   },
   "outputs": [
    {
     "name": "stdout",
     "output_type": "stream",
     "text": [
      "original list: [1, 2, 3, 'a', 'x', 3, 100]\n",
      "removed element: 1\n",
      "changed list: [2, 3, 'a', 'x', 3, 100]\n"
     ]
    }
   ],
   "source": [
    "# Remove and return element at a given index\n",
    "print \"original list:\", list3\n",
    "removed_element = list3.pop(0)\n",
    "print \"removed element:\", removed_element\n",
    "print \"changed list:\", list3"
   ]
  },
  {
   "cell_type": "markdown",
   "metadata": {},
   "source": [
    "# List comprehensions"
   ]
  },
  {
   "cell_type": "code",
   "execution_count": 14,
   "metadata": {
    "collapsed": false
   },
   "outputs": [
    {
     "name": "stdout",
     "output_type": "stream",
     "text": [
      "[0, 1, 4, 9, 16, 25, 36, 49, 64, 81]\n",
      "[0, 16, 256, 1296, 4096]\n"
     ]
    }
   ],
   "source": [
    "# a \"pythonic\" technique for generating a list in a single line\n",
    "my_list1 = [x**2 for x in range(10)]\n",
    "print my_list1\n",
    "my_list2 = [x**2 for x in my_list1 if x % 2 == 0]\n",
    "print my_list2"
   ]
  },
  {
   "cell_type": "markdown",
   "metadata": {},
   "source": [
    "# Tuples"
   ]
  },
  {
   "cell_type": "code",
   "execution_count": 15,
   "metadata": {
    "collapsed": false
   },
   "outputs": [
    {
     "name": "stdout",
     "output_type": "stream",
     "text": [
      "(1, 1, 2, 3, 5, 8, 13)\n"
     ]
    }
   ],
   "source": [
    "# tuples are quite similar to lists, but they are not mutable\n",
    "my_tuple = (1, 1, 2, 3, 5, 8, 13)\n",
    "print my_tuple"
   ]
  },
  {
   "cell_type": "code",
   "execution_count": 16,
   "metadata": {
    "collapsed": false
   },
   "outputs": [
    {
     "ename": "TypeError",
     "evalue": "'tuple' object does not support item assignment",
     "output_type": "error",
     "traceback": [
      "\u001b[0;31m---------------------------------------------------------------------------\u001b[0m",
      "\u001b[0;31mTypeError\u001b[0m                                 Traceback (most recent call last)",
      "\u001b[0;32m<ipython-input-16-dbebaccdf2a5>\u001b[0m in \u001b[0;36m<module>\u001b[0;34m()\u001b[0m\n\u001b[0;32m----> 1\u001b[0;31m \u001b[0mmy_tuple\u001b[0m\u001b[0;34m[\u001b[0m\u001b[0;36m0\u001b[0m\u001b[0;34m]\u001b[0m \u001b[0;34m=\u001b[0m \u001b[0;34m'hamburger'\u001b[0m\u001b[0;34m\u001b[0m\u001b[0m\n\u001b[0m",
      "\u001b[0;31mTypeError\u001b[0m: 'tuple' object does not support item assignment"
     ]
    }
   ],
   "source": [
    "my_tuple[0] = 'hamburger'"
   ]
  },
  {
   "cell_type": "code",
   "execution_count": 17,
   "metadata": {
    "collapsed": false
   },
   "outputs": [
    {
     "name": "stdout",
     "output_type": "stream",
     "text": [
      "(1, 1, 2, 3)\n",
      "(8, 13)\n"
     ]
    }
   ],
   "source": [
    "# slice and concatenate tuples in the same way as lists\n",
    "print my_tuple[:4]\n",
    "print my_tuple[-2:]"
   ]
  },
  {
   "cell_type": "code",
   "execution_count": 18,
   "metadata": {
    "collapsed": false
   },
   "outputs": [
    {
     "name": "stdout",
     "output_type": "stream",
     "text": [
      "(1, 1, 2, 3, 5, 8, 13, -1, -2, -3)\n"
     ]
    }
   ],
   "source": [
    "tuple2 = (-1, -2, -3)\n",
    "tuple3 = my_tuple + tuple2\n",
    "print tuple3"
   ]
  },
  {
   "cell_type": "code",
   "execution_count": 19,
   "metadata": {
    "collapsed": false
   },
   "outputs": [
    {
     "data": {
      "text/plain": [
       "('hamburger',)"
      ]
     },
     "execution_count": 19,
     "metadata": {},
     "output_type": "execute_result"
    }
   ],
   "source": [
    "# note, define single element tuples as follows:\n",
    "tuple_with_one_element = ('hamburger', )\n",
    "tuple_with_one_element"
   ]
  },
  {
   "cell_type": "code",
   "execution_count": 20,
   "metadata": {
    "collapsed": false
   },
   "outputs": [
    {
     "name": "stdout",
     "output_type": "stream",
     "text": [
      "(1, 2, 3)\n",
      "(4, 5, 6)\n"
     ]
    }
   ],
   "source": [
    "# If tuples are immutable, why does this work?\n",
    "tuple1 = (1, 2, 3)\n",
    "print tuple1\n",
    "tuple1 = (4, 5, 6)\n",
    "print tuple1"
   ]
  },
  {
   "cell_type": "markdown",
   "metadata": {},
   "source": [
    "# Dictionaries"
   ]
  },
  {
   "cell_type": "code",
   "execution_count": 21,
   "metadata": {
    "collapsed": false
   },
   "outputs": [
    {
     "name": "stdout",
     "output_type": "stream",
     "text": [
      "{'a': 1, 'b': 2}\n"
     ]
    }
   ],
   "source": [
    "# dictionaries are unordered collections of \"values\" indexed by \"keys\"\n",
    "# they can be created all at once\n",
    "dict1 = {'a':1, 'b':2}\n",
    "print dict1"
   ]
  },
  {
   "cell_type": "code",
   "execution_count": 22,
   "metadata": {
    "collapsed": false
   },
   "outputs": [
    {
     "name": "stdout",
     "output_type": "stream",
     "text": [
      "{'a': 5, 'b': 6}\n"
     ]
    }
   ],
   "source": [
    "# or they can be created piece by piece\n",
    "dict2 = {}\n",
    "dict2['a'] = 5\n",
    "dict2['b'] = 6\n",
    "print dict2"
   ]
  },
  {
   "cell_type": "code",
   "execution_count": 23,
   "metadata": {
    "collapsed": false
   },
   "outputs": [
    {
     "name": "stdout",
     "output_type": "stream",
     "text": [
      "6\n"
     ]
    }
   ],
   "source": [
    "# dictionaries are addressed by their keys\n",
    "print dict2['b']"
   ]
  },
  {
   "cell_type": "code",
   "execution_count": 24,
   "metadata": {
    "collapsed": false
   },
   "outputs": [
    {
     "name": "stdout",
     "output_type": "stream",
     "text": [
      "{'a': 5, 'c': [3, 4, 5], 'b': 6, 'd': 'hello'}\n"
     ]
    }
   ],
   "source": [
    "# values can be any object\n",
    "dict2['c'] = [3, 4, 5]\n",
    "dict2['d'] = 'hello'\n",
    "print dict2"
   ]
  },
  {
   "cell_type": "code",
   "execution_count": 25,
   "metadata": {
    "collapsed": false
   },
   "outputs": [
    {
     "name": "stdout",
     "output_type": "stream",
     "text": [
      "{'a': 5, 3: 'apples', 'c': [3, 4, 5], 'b': 6, 'd': 'hello'}\n"
     ]
    }
   ],
   "source": [
    "# keys can be any hashable (immutable) type\n",
    "dict2[3] = 'apples'\n",
    "print dict2"
   ]
  },
  {
   "cell_type": "code",
   "execution_count": 26,
   "metadata": {
    "collapsed": false
   },
   "outputs": [
    {
     "name": "stdout",
     "output_type": "stream",
     "text": [
      "{'a': 5, 'c': [3, 4, 5], 3: 'apples', 'd': 'hello', ('LGN', 'V1'): 'connection present', 'b': 6}\n"
     ]
    }
   ],
   "source": [
    "# tuples can be useful keys\n",
    "dict2[('LGN','V1')] = 'connection present'\n",
    "print dict2"
   ]
  },
  {
   "cell_type": "code",
   "execution_count": 27,
   "metadata": {
    "collapsed": false
   },
   "outputs": [
    {
     "ename": "TypeError",
     "evalue": "unhashable type: 'list'",
     "output_type": "error",
     "traceback": [
      "\u001b[0;31m---------------------------------------------------------------------------\u001b[0m",
      "\u001b[0;31mTypeError\u001b[0m                                 Traceback (most recent call last)",
      "\u001b[0;32m<ipython-input-27-59d4ca246a88>\u001b[0m in \u001b[0;36m<module>\u001b[0;34m()\u001b[0m\n\u001b[1;32m      1\u001b[0m \u001b[0;31m# lists can't be keys since they're mutable\u001b[0m\u001b[0;34m\u001b[0m\u001b[0;34m\u001b[0m\u001b[0m\n\u001b[0;32m----> 2\u001b[0;31m \u001b[0mdict2\u001b[0m\u001b[0;34m[\u001b[0m\u001b[0;34m[\u001b[0m\u001b[0;36m3\u001b[0m\u001b[0;34m,\u001b[0m\u001b[0;36m8\u001b[0m\u001b[0;34m]\u001b[0m\u001b[0;34m]\u001b[0m \u001b[0;34m=\u001b[0m \u001b[0;36m900\u001b[0m\u001b[0;34m\u001b[0m\u001b[0m\n\u001b[0m",
      "\u001b[0;31mTypeError\u001b[0m: unhashable type: 'list'"
     ]
    }
   ],
   "source": [
    "# lists can't be keys since they're mutable\n",
    "dict2[[3,8]] = 900"
   ]
  },
  {
   "cell_type": "code",
   "execution_count": 28,
   "metadata": {
    "collapsed": false
   },
   "outputs": [
    {
     "name": "stdout",
     "output_type": "stream",
     "text": [
      "\"keys\" method: ['a', 'c', 3, 'd', ('LGN', 'V1'), 'b']\n",
      "\"values\" method: [5, [3, 4, 5], 'apples', 'hello', 'connection present', 6]\n",
      "\"items\" method: [('a', 5), ('c', [3, 4, 5]), (3, 'apples'), ('d', 'hello'), (('LGN', 'V1'), 'connection present'), ('b', 6)]\n"
     ]
    }
   ],
   "source": [
    "# some useful dictionary methods\n",
    "print '\"keys\" method:', dict2.keys()\n",
    "print '\"values\" method:', dict2.values()\n",
    "print '\"items\" method:', dict2.items()"
   ]
  },
  {
   "cell_type": "code",
   "execution_count": 29,
   "metadata": {
    "collapsed": false
   },
   "outputs": [
    {
     "name": "stdout",
     "output_type": "stream",
     "text": [
      "5\n",
      "default_return_string\n"
     ]
    }
   ],
   "source": [
    "# \"get\" returns a default string if the key isn't found\n",
    "print dict2.get('a', 'default_return_string')\n",
    "print dict2.get('q', 'default_return_string')"
   ]
  }
 ],
 "metadata": {
  "kernelspec": {
   "display_name": "Python 2",
   "language": "python",
   "name": "python2"
  },
  "language_info": {
   "codemirror_mode": {
    "name": "ipython",
    "version": 2
   },
   "file_extension": ".py",
   "mimetype": "text/x-python",
   "name": "python",
   "nbconvert_exporter": "python",
   "pygments_lexer": "ipython2",
   "version": "2.7.10"
  }
 },
 "nbformat": 4,
 "nbformat_minor": 0
}
