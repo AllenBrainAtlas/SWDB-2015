{
 "cells": [
  {
   "cell_type": "code",
   "execution_count": 1,
   "metadata": {
    "collapsed": true
   },
   "outputs": [],
   "source": [
    "from network import Network\n",
    "import random\n",
    "\n",
    "from scipy.sparse import csr_matrix\n",
    "from allensdk.config.model.formats.hdf5_util import Hdf5Util\n",
    "\n",
    "import numpy as np\n",
    "import pandas as pd\n",
    "\n",
    "import csv"
   ]
  },
  {
   "cell_type": "code",
   "execution_count": null,
   "metadata": {
    "collapsed": true
   },
   "outputs": [],
   "source": []
  },
  {
   "cell_type": "code",
   "execution_count": 2,
   "metadata": {
    "collapsed": true
   },
   "outputs": [],
   "source": [
    "# probabilities of establishing a connection from source -> target\n",
    "connection_probabilities = { \n",
    "    ('excitatory', 'excitatory'): .3,\n",
    "    ('excitatory', 'inhibitory'): .4,\n",
    "    ('inhibitory', 'inhibitory'): .5,\n",
    "    ('inhibitory', 'excitatory'): .5\n",
    "}"
   ]
  },
  {
   "cell_type": "code",
   "execution_count": null,
   "metadata": {
    "collapsed": true
   },
   "outputs": [],
   "source": []
  },
  {
   "cell_type": "code",
   "execution_count": 3,
   "metadata": {
    "collapsed": false
   },
   "outputs": [
    {
     "name": "stdout",
     "output_type": "stream",
     "text": [
      "6\n",
      "  (1, 2)\t3\n",
      "  (4, 2)\t4\n",
      "  (6, 8)\t5\n",
      "  (8, 4)\t4\n",
      "  (9, 6)\t5\n",
      "  (9, 9)\t3\n"
     ]
    }
   ],
   "source": [
    "def construct_matrix(connections):\n",
    "    ''' turn a list of connection dictionaries into a numpy csr matrix '''\n",
    "    cols = [ c['source'] for c in connections ]\n",
    "    rows = [ c['target'] for c in connections ]\n",
    "    data = [ c['nsyns'] for c in connections ]\n",
    "\n",
    "    return csr_matrix((data, (rows, cols)))\n",
    "\n",
    "\n",
    "def distance_probability(p1, p2):\n",
    "    ''' convert euclidean distance to probability of connection '''\n",
    "    dist = np.linalg.norm(p1 - p2, 2)\n",
    "    return ( ( 1.0 - dist ) * 0.5 ) ** 1.2\n",
    "\n",
    "\n",
    "def random_connectivity(src_i, tgt_i, source, target):\n",
    "    ''' given a source target pair, create a connection (or not) '''\n",
    "    pdist = distance_probability(positions[src_i],\n",
    "                                 positions[tgt_i])\n",
    "\n",
    "    p = connection_probabilities[source['type'],target['type']]\n",
    "\n",
    "    if random.random() < p * pdist:\n",
    "        return { 'nsyns': random.randrange(2, 6) }\n",
    "\n",
    "N_exc = 8\n",
    "N_inh = 2\n",
    "N = N_inh + N_exc\n",
    "\n",
    "# cell positions\n",
    "positions = np.random.random((N,3))\n",
    "\n",
    "# initialize the network\n",
    "net = Network()\n",
    "\n",
    "# add some populations\n",
    "net.add_population(N_exc, type='excitatory')\n",
    "net.add_population(N_inh, type='inhibitory')\n",
    "\n",
    "# add the connectivity rule\n",
    "net.connect(random_connectivity) \n",
    "\n",
    "# build the matrix\n",
    "cells, connections = net.build()\n",
    "\n",
    "print len(connections)\n",
    "\n",
    "# turn it into a sparse matrix\n",
    "if len(connections) > 0:\n",
    "    m = construct_matrix(connections)\n",
    "    print m\n",
    "\n",
    "    # the connectivity to hdf5\n",
    "    Hdf5Util().write('connections.h5', m)\n",
    "\n",
    "cells = pd.DataFrame.from_dict(cells)\n",
    "cells['x'] = positions[:,0]\n",
    "cells['y'] = positions[:,1]\n",
    "cells['z'] = positions[:,2]\n",
    "\n",
    "cells.to_csv('cells.csv', index=False)"
   ]
  }
 ],
 "metadata": {
  "kernelspec": {
   "display_name": "Python 2",
   "language": "python",
   "name": "python2"
  },
  "language_info": {
   "codemirror_mode": {
    "name": "ipython",
    "version": 2
   },
   "file_extension": ".py",
   "mimetype": "text/x-python",
   "name": "python",
   "nbconvert_exporter": "python",
   "pygments_lexer": "ipython2",
   "version": "2.7.10"
  }
 },
 "nbformat": 4,
 "nbformat_minor": 0
}
