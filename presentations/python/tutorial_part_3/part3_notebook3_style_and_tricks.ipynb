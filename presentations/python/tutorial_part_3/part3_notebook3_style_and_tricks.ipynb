{
 "cells": [
  {
   "cell_type": "markdown",
   "metadata": {
    "collapsed": true
   },
   "source": [
    "# Introduction to Python Programming\n",
    "## Python Style and Tricks\n",
    "\n",
    "Mark Wronkiewicz <br>\n",
    "UW Neuroscience <br>"
   ]
  },
  {
   "cell_type": "markdown",
   "metadata": {},
   "source": [
    "## Python Style: PEP\n",
    "\n",
    "Python has a project called the [Python Enhancement Project](http://legacy.python.org/dev/peps/)\n",
    "\n",
    "PEP defines many style standards for coding that make your code more readable for others (and your future self). **PEP8** is the most recognized one, and most/all major editors allow you to turn on automatic PEP8 checks. (Doing so will give you a better chance at earning a Pythonista Badge.)\n",
    "\n",
    "Useful links:\n",
    "[Writing Style](http://docs.python-guide.org/en/latest/writing/style/)\n",
    "[PEP8](http://legacy.python.org/dev/peps/pep-0008/)"
   ]
  },
  {
   "cell_type": "markdown",
   "metadata": {},
   "source": [
    "## Python Tricks\n",
    "### 1. Looping over objects\n",
    "\n",
    "Looping over objects will often simplify looping code considerably and is one of Python's more powerful features."
   ]
  },
  {
   "cell_type": "code",
   "execution_count": 1,
   "metadata": {
    "collapsed": false
   },
   "outputs": [
    {
     "name": "stdout",
     "output_type": "stream",
     "text": [
      "x: [1, 2, 3, 4]\n",
      "y: [1, 4, 9, 16]\n"
     ]
    }
   ],
   "source": [
    "x = range(1, 5)\n",
    "y = list()\n",
    "\n",
    "# Loop over each object in x and get its square\n",
    "for x_val in x:\n",
    "    y.append(x_val ** 2)\n",
    "    \n",
    "print 'x: ' + str(x)\n",
    "print 'y: ' + str(y)"
   ]
  },
  {
   "cell_type": "markdown",
   "metadata": {},
   "source": [
    "### 2. Looping over objects and an index with 'enumerate'\n",
    "\n",
    "Sometimes you want to loop over an object, but also have access the index too. To do this, use Python's built-in **`enumerate`** function. It allows you to keep track of both index and value(s) in each loop cycle."
   ]
  },
  {
   "cell_type": "code",
   "execution_count": 2,
   "metadata": {
    "collapsed": false
   },
   "outputs": [
    {
     "name": "stdout",
     "output_type": "stream",
     "text": [
      "x: [1, 2, 3, 4]\n",
      "y: [  1.   4.   9.  16.]\n"
     ]
    }
   ],
   "source": [
    "import numpy as np\n",
    "\n",
    "y = np.zeros(len(x))\n",
    "\n",
    "for x_ind, x_val in enumerate(x):\n",
    "    y[x_ind] = x_val ** 2\n",
    "    \n",
    "print 'x: ' + str(x)\n",
    "print 'y: ' + str(y)"
   ]
  },
  {
   "cell_type": "markdown",
   "metadata": {},
   "source": [
    "### 3. Looping over multiple objects with **`zip`**\n",
    "\n",
    "There's no reason you're limited to looping over one object. You can use Python's **`zip`** function to link multiple iterators together and still use enumerate. This is getting fancy, so don't get sad if the following example isn't clear."
   ]
  },
  {
   "cell_type": "code",
   "execution_count": 3,
   "metadata": {
    "collapsed": false
   },
   "outputs": [
    {
     "name": "stdout",
     "output_type": "stream",
     "text": [
      "x: [1, 2, -2]\n",
      "y: [2, -1, 1]\n",
      "\n",
      "Distance to origin:\n",
      "[ 2.23606798  2.23606798  2.23606798]\n"
     ]
    }
   ],
   "source": [
    "x_coords = [1, 2, -2]\n",
    "y_coords = [2, -1, 1]\n",
    "dist_to_origin = np.zeros(len(x_coords))\n",
    "\n",
    "# This 'zips' x_coords and y_coords together and constructs an enumerator too\n",
    "# In each iteration of the loop, you have access to the index, the x coordinate, and the y coordinate\n",
    "for pt_ind, (x_pt, y_pt) in enumerate(zip(x_coords, y_coords)):\n",
    "    dist_to_origin[pt_ind] = np.sqrt(x_pt ** 2 + y_pt ** 2)\n",
    "\n",
    "print 'x: ' + str(x_coords)\n",
    "print 'y: ' + str(y_coords)\n",
    "print '\\nDistance to origin:\\n' + str(dist_to_origin)"
   ]
  },
  {
   "cell_type": "markdown",
   "metadata": {
    "collapsed": true
   },
   "source": [
    "### 4. Catching exceptions\n",
    "\n",
    "You can catch errors with **`try`**/**`except`** blocks."
   ]
  },
  {
   "cell_type": "code",
   "execution_count": 4,
   "metadata": {
    "collapsed": false
   },
   "outputs": [
    {
     "ename": "IOError",
     "evalue": "[Errno 2] No such file or directory: 'nonexistent_file.txt'",
     "output_type": "error",
     "traceback": [
      "\u001b[0;31m---------------------------------------------------------------------------\u001b[0m",
      "\u001b[0;31mIOError\u001b[0m                                   Traceback (most recent call last)",
      "\u001b[0;32m<ipython-input-4-7faa05f601a1>\u001b[0m in \u001b[0;36m<module>\u001b[0;34m()\u001b[0m\n\u001b[1;32m      1\u001b[0m \u001b[0;31m# Try to open a file that doesn't exist\u001b[0m\u001b[0;34m\u001b[0m\u001b[0;34m\u001b[0m\u001b[0m\n\u001b[0;32m----> 2\u001b[0;31m \u001b[0mopen\u001b[0m\u001b[0;34m(\u001b[0m\u001b[0;34m'nonexistent_file.txt'\u001b[0m\u001b[0;34m,\u001b[0m \u001b[0;34m'r'\u001b[0m\u001b[0;34m)\u001b[0m\u001b[0;34m\u001b[0m\u001b[0m\n\u001b[0m",
      "\u001b[0;31mIOError\u001b[0m: [Errno 2] No such file or directory: 'nonexistent_file.txt'"
     ]
    }
   ],
   "source": [
    "# Try to open a file that doesn't exist\n",
    "open('nonexistent_file.txt', 'r')  "
   ]
  },
  {
   "cell_type": "code",
   "execution_count": 5,
   "metadata": {
    "collapsed": false
   },
   "outputs": [
    {
     "name": "stdout",
     "output_type": "stream",
     "text": [
      "Caught IOError:\n",
      "Cannot find file. Check your filename!\n"
     ]
    }
   ],
   "source": [
    "# Try to open a file that doesn't exist, but now catch the error.\n",
    "try:\n",
    "    open('nonexistent_file.txt', \"r\")\n",
    "except IOError:\n",
    "    # Catch IO error\n",
    "    print \"Caught IOError:\\nCannot find file. Check your filename!\""
   ]
  },
  {
   "cell_type": "markdown",
   "metadata": {},
   "source": [
    "### 5. Raising exceptions\n",
    "\n",
    "It's also useful to **`raise`** errors to make sure you code is behaving as expected."
   ]
  },
  {
   "cell_type": "code",
   "execution_count": 6,
   "metadata": {
    "collapsed": false
   },
   "outputs": [
    {
     "ename": "ValueError",
     "evalue": "You only have 4 of the 5 doubloons needed to buy an ice cream cone.",
     "output_type": "error",
     "traceback": [
      "\u001b[0;31m---------------------------------------------------------------------------\u001b[0m",
      "\u001b[0;31mValueError\u001b[0m                                Traceback (most recent call last)",
      "\u001b[0;32m<ipython-input-6-4e58d58f3109>\u001b[0m in \u001b[0;36m<module>\u001b[0;34m()\u001b[0m\n\u001b[1;32m     10\u001b[0m \u001b[0;31m# Check if we have enough money.\u001b[0m\u001b[0;34m\u001b[0m\u001b[0;34m\u001b[0m\u001b[0m\n\u001b[1;32m     11\u001b[0m \u001b[0mn_gold_doubloons\u001b[0m \u001b[0;34m=\u001b[0m \u001b[0;36m4\u001b[0m\u001b[0;34m\u001b[0m\u001b[0m\n\u001b[0;32m---> 12\u001b[0;31m \u001b[0mcheck_coins_for_ice_cream\u001b[0m\u001b[0;34m(\u001b[0m\u001b[0mn_gold_doubloons\u001b[0m\u001b[0;34m)\u001b[0m\u001b[0;34m\u001b[0m\u001b[0m\n\u001b[0m",
      "\u001b[0;32m<ipython-input-6-4e58d58f3109>\u001b[0m in \u001b[0;36mcheck_coins_for_ice_cream\u001b[0;34m(coin_input)\u001b[0m\n\u001b[1;32m      6\u001b[0m         \u001b[0;32mraise\u001b[0m \u001b[0mRuntimeError\u001b[0m\u001b[0;34m(\u001b[0m\u001b[0;34m'Input must be an integer.'\u001b[0m\u001b[0;34m)\u001b[0m\u001b[0;34m\u001b[0m\u001b[0m\n\u001b[1;32m      7\u001b[0m     \u001b[0;32mif\u001b[0m \u001b[0mcoin_input\u001b[0m \u001b[0;34m<\u001b[0m \u001b[0;36m5\u001b[0m\u001b[0;34m:\u001b[0m\u001b[0;34m\u001b[0m\u001b[0m\n\u001b[0;32m----> 8\u001b[0;31m         \u001b[0;32mraise\u001b[0m \u001b[0mValueError\u001b[0m\u001b[0;34m(\u001b[0m\u001b[0;34m'You only have %i of the 5 doubloons needed to buy an ice cream cone.'\u001b[0m \u001b[0;34m%\u001b[0m \u001b[0mcoin_input\u001b[0m\u001b[0;34m)\u001b[0m\u001b[0;34m\u001b[0m\u001b[0m\n\u001b[0m\u001b[1;32m      9\u001b[0m \u001b[0;34m\u001b[0m\u001b[0m\n\u001b[1;32m     10\u001b[0m \u001b[0;31m# Check if we have enough money.\u001b[0m\u001b[0;34m\u001b[0m\u001b[0;34m\u001b[0m\u001b[0m\n",
      "\u001b[0;31mValueError\u001b[0m: You only have 4 of the 5 doubloons needed to buy an ice cream cone."
     ]
    }
   ],
   "source": [
    "# `raise` error example\n",
    "\n",
    "def check_coins_for_ice_cream(coin_input):\n",
    "    \"\"\"Function to check the number of coins.\"\"\"\n",
    "    if not isinstance(coin_input, int):\n",
    "        raise RuntimeError('Input must be an integer.')\n",
    "    if coin_input < 5:\n",
    "        raise ValueError('You only have %i of the 5 doubloons needed to buy an ice cream cone.' % coin_input)\n",
    "\n",
    "# Check if we have enough money.\n",
    "n_gold_doubloons = 4\n",
    "check_coins_for_ice_cream(n_gold_doubloons)"
   ]
  },
  {
   "cell_type": "code",
   "execution_count": 7,
   "metadata": {
    "collapsed": false
   },
   "outputs": [
    {
     "ename": "RuntimeError",
     "evalue": "Input must be an integer.",
     "output_type": "error",
     "traceback": [
      "\u001b[0;31m---------------------------------------------------------------------------\u001b[0m",
      "\u001b[0;31mRuntimeError\u001b[0m                              Traceback (most recent call last)",
      "\u001b[0;32m<ipython-input-7-98a979e21f1b>\u001b[0m in \u001b[0;36m<module>\u001b[0;34m()\u001b[0m\n\u001b[1;32m      1\u001b[0m \u001b[0;31m# \"Accidentally\" pass the wrong input (string instead of an integer).\u001b[0m\u001b[0;34m\u001b[0m\u001b[0;34m\u001b[0m\u001b[0m\n\u001b[1;32m      2\u001b[0m \u001b[0mn_gold_doubloons\u001b[0m \u001b[0;34m=\u001b[0m \u001b[0;34m'zero'\u001b[0m\u001b[0;34m\u001b[0m\u001b[0m\n\u001b[0;32m----> 3\u001b[0;31m \u001b[0mcheck_coins_for_ice_cream\u001b[0m\u001b[0;34m(\u001b[0m\u001b[0mn_gold_doubloons\u001b[0m\u001b[0;34m)\u001b[0m\u001b[0;34m\u001b[0m\u001b[0m\n\u001b[0m",
      "\u001b[0;32m<ipython-input-6-4e58d58f3109>\u001b[0m in \u001b[0;36mcheck_coins_for_ice_cream\u001b[0;34m(coin_input)\u001b[0m\n\u001b[1;32m      4\u001b[0m     \u001b[0;34m\"\"\"Function to check the number of coins.\"\"\"\u001b[0m\u001b[0;34m\u001b[0m\u001b[0m\n\u001b[1;32m      5\u001b[0m     \u001b[0;32mif\u001b[0m \u001b[0;32mnot\u001b[0m \u001b[0misinstance\u001b[0m\u001b[0;34m(\u001b[0m\u001b[0mcoin_input\u001b[0m\u001b[0;34m,\u001b[0m \u001b[0mint\u001b[0m\u001b[0;34m)\u001b[0m\u001b[0;34m:\u001b[0m\u001b[0;34m\u001b[0m\u001b[0m\n\u001b[0;32m----> 6\u001b[0;31m         \u001b[0;32mraise\u001b[0m \u001b[0mRuntimeError\u001b[0m\u001b[0;34m(\u001b[0m\u001b[0;34m'Input must be an integer.'\u001b[0m\u001b[0;34m)\u001b[0m\u001b[0;34m\u001b[0m\u001b[0m\n\u001b[0m\u001b[1;32m      7\u001b[0m     \u001b[0;32mif\u001b[0m \u001b[0mcoin_input\u001b[0m \u001b[0;34m<\u001b[0m \u001b[0;36m5\u001b[0m\u001b[0;34m:\u001b[0m\u001b[0;34m\u001b[0m\u001b[0m\n\u001b[1;32m      8\u001b[0m         \u001b[0;32mraise\u001b[0m \u001b[0mValueError\u001b[0m\u001b[0;34m(\u001b[0m\u001b[0;34m'You only have %i of the 5 doubloons needed to buy an ice cream cone.'\u001b[0m \u001b[0;34m%\u001b[0m \u001b[0mcoin_input\u001b[0m\u001b[0;34m)\u001b[0m\u001b[0;34m\u001b[0m\u001b[0m\n",
      "\u001b[0;31mRuntimeError\u001b[0m: Input must be an integer."
     ]
    }
   ],
   "source": [
    "# \"Accidentally\" pass the wrong input (string instead of an integer).\n",
    "n_gold_doubloons = 'zero'\n",
    "check_coins_for_ice_cream(n_gold_doubloons)"
   ]
  },
  {
   "cell_type": "markdown",
   "metadata": {},
   "source": [
    "### 6. Quick in-line testing with **`assert`** statements\n",
    "\n",
    "For quick and dirty checks during development, you can use **`assert`** statements to make sure you code is behaving as expected. These statements are automatically stripped out of production code, so just use them for development and debugging.\n",
    "\n",
    "Read them as 'assert condition is `True`, otherwise throw an error.'"
   ]
  },
  {
   "cell_type": "code",
   "execution_count": 8,
   "metadata": {
    "collapsed": false
   },
   "outputs": [
    {
     "name": "stdout",
     "output_type": "stream",
     "text": [
      "0.0 K is -273.15 degrees C\n",
      "273.0 K is -0.15 degrees C\n"
     ]
    },
    {
     "ename": "AssertionError",
     "evalue": "-1.0 K is colder than absolute zero!",
     "output_type": "error",
     "traceback": [
      "\u001b[0;31m---------------------------------------------------------------------------\u001b[0m",
      "\u001b[0;31mAssertionError\u001b[0m                            Traceback (most recent call last)",
      "\u001b[0;32m<ipython-input-8-b086e9a1d98a>\u001b[0m in \u001b[0;36m<module>\u001b[0;34m()\u001b[0m\n\u001b[1;32m     10\u001b[0m \u001b[0mtemps\u001b[0m \u001b[0;34m=\u001b[0m \u001b[0;34m[\u001b[0m\u001b[0;36m0.\u001b[0m\u001b[0;34m,\u001b[0m \u001b[0;36m273\u001b[0m\u001b[0;34m,\u001b[0m \u001b[0;34m-\u001b[0m\u001b[0;36m1.\u001b[0m\u001b[0;34m]\u001b[0m\u001b[0;34m\u001b[0m\u001b[0m\n\u001b[1;32m     11\u001b[0m \u001b[0;32mfor\u001b[0m \u001b[0mt\u001b[0m \u001b[0;32min\u001b[0m \u001b[0mtemps\u001b[0m\u001b[0;34m:\u001b[0m\u001b[0;34m\u001b[0m\u001b[0m\n\u001b[0;32m---> 12\u001b[0;31m     \u001b[0;32mprint\u001b[0m \u001b[0;34m(\u001b[0m\u001b[0;34m'%0.1f K is %0.2f degrees C'\u001b[0m \u001b[0;34m%\u001b[0m\u001b[0;34m(\u001b[0m\u001b[0mt\u001b[0m\u001b[0;34m,\u001b[0m \u001b[0mkelvin_to_celsius\u001b[0m\u001b[0;34m(\u001b[0m\u001b[0mt\u001b[0m\u001b[0;34m)\u001b[0m\u001b[0;34m)\u001b[0m\u001b[0;34m)\u001b[0m\u001b[0;34m\u001b[0m\u001b[0m\n\u001b[0m",
      "\u001b[0;32m<ipython-input-8-b086e9a1d98a>\u001b[0m in \u001b[0;36mkelvin_to_celsius\u001b[0;34m(temp)\u001b[0m\n\u001b[1;32m      3\u001b[0m \u001b[0;34m\u001b[0m\u001b[0m\n\u001b[1;32m      4\u001b[0m     \u001b[0;31m# Assert that the temperature makes sense\u001b[0m\u001b[0;34m\u001b[0m\u001b[0;34m\u001b[0m\u001b[0m\n\u001b[0;32m----> 5\u001b[0;31m     \u001b[0;32massert\u001b[0m \u001b[0;34m(\u001b[0m\u001b[0mtemp\u001b[0m \u001b[0;34m>=\u001b[0m \u001b[0;36m0\u001b[0m\u001b[0;34m)\u001b[0m\u001b[0;34m,\u001b[0m \u001b[0;34m'%0.1f K is colder than absolute zero!'\u001b[0m \u001b[0;34m%\u001b[0m \u001b[0mtemp\u001b[0m\u001b[0;34m\u001b[0m\u001b[0m\n\u001b[0m\u001b[1;32m      6\u001b[0m     \u001b[0;31m# If code reaches this line, `assert` statement passed\u001b[0m\u001b[0;34m\u001b[0m\u001b[0;34m\u001b[0m\u001b[0m\n\u001b[1;32m      7\u001b[0m     \u001b[0;32mreturn\u001b[0m \u001b[0;34m(\u001b[0m\u001b[0mtemp\u001b[0m \u001b[0;34m-\u001b[0m \u001b[0;36m273.15\u001b[0m\u001b[0;34m)\u001b[0m\u001b[0;34m\u001b[0m\u001b[0m\n",
      "\u001b[0;31mAssertionError\u001b[0m: -1.0 K is colder than absolute zero!"
     ]
    }
   ],
   "source": [
    "def kelvin_to_celsius(temp):\n",
    "    \"\"\"Function to convert Kelvin temperature to Celsius scale.\"\"\"\n",
    "    \n",
    "    # Assert that the temperature makes sense\n",
    "    assert (temp >= 0), '%0.1f K is colder than absolute zero!' % temp\n",
    "    # If code reaches this line, `assert` statement passed\n",
    "    return (temp - 273.15)\n",
    "\n",
    "# Try converting some different temperatures\n",
    "temps = [0., 273, -1.]\n",
    "for t in temps:\n",
    "    print ('%0.1f K is %0.2f degrees C' %(t, kelvin_to_celsius(t)))\n"
   ]
  }
 ],
 "metadata": {
  "kernelspec": {
   "display_name": "Python 2",
   "language": "python",
   "name": "python2"
  },
  "language_info": {
   "codemirror_mode": {
    "name": "ipython",
    "version": 2
   },
   "file_extension": ".py",
   "mimetype": "text/x-python",
   "name": "python",
   "nbconvert_exporter": "python",
   "pygments_lexer": "ipython2",
   "version": "2.7.10"
  }
 },
 "nbformat": 4,
 "nbformat_minor": 0
}
