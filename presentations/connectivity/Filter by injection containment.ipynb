{
 "cells": [
  {
   "cell_type": "markdown",
   "metadata": {},
   "source": [
    "# Filter experiments by fraction within primary injection site"
   ]
  },
  {
   "cell_type": "markdown",
   "metadata": {},
   "source": [
    "Use SDK function/cache"
   ]
  },
  {
   "cell_type": "code",
   "execution_count": 1,
   "metadata": {
    "collapsed": false
   },
   "outputs": [
    {
     "name": "stdout",
     "output_type": "stream",
     "text": [
      "There are 2173 experiments in the cache\n"
     ]
    }
   ],
   "source": [
    "from allensdk.core.mouse_connectivity_cache import MouseConnectivityCache\n",
    "\n",
    "# !! update this path so that it points to your external hard drive !!\n",
    "mcc = MouseConnectivityCache(manifest_file='D:/connectivity/manifest.json')\n",
    "\n",
    "# get metadata for all the experiments\n",
    "all_experiments = mcc.get_experiments(dataframe=True)\n",
    "print \"There are %d experiments in the cache\" % len(all_experiments)"
   ]
  },
  {
   "cell_type": "markdown",
   "metadata": {},
   "source": [
    "Get ontology information"
   ]
  },
  {
   "cell_type": "code",
   "execution_count": 2,
   "metadata": {
    "collapsed": true
   },
   "outputs": [],
   "source": [
    "ontology = mcc.get_ontology()"
   ]
  },
  {
   "cell_type": "markdown",
   "metadata": {},
   "source": [
    "# Experiment Filtering"
   ]
  },
  {
   "cell_type": "code",
   "execution_count": 3,
   "metadata": {
    "collapsed": false
   },
   "outputs": [
    {
     "name": "stdout",
     "output_type": "stream",
     "text": [
      "There are 179 experiments in my filtered experiment list\n"
     ]
    }
   ],
   "source": [
    "include_parent_structures = ['VIS','PTLp']\n",
    "include_structures_id = ontology.get_descendant_ids(*ontology[include_parent_structures].id.values)\n",
    "\n",
    "# some structure unionizes files on my disk are corrupt\n",
    "exclude_experiments = [113887162]\n",
    "\n",
    "experiment_mask = (\n",
    "    all_experiments['structure-id'].isin(include_structures_id) & \n",
    "    ~all_experiments['id'].isin(exclude_experiments)\n",
    "    )\n",
    "\n",
    "filtered_experiments = all_experiments[experiment_mask]\n",
    "print \"There are %d experiments in my filtered experiment list\" % len(filtered_experiments)"
   ]
  },
  {
   "cell_type": "markdown",
   "metadata": {},
   "source": [
    "# Structure Filtering"
   ]
  },
  {
   "cell_type": "code",
   "execution_count": 4,
   "metadata": {
    "collapsed": false
   },
   "outputs": [
    {
     "name": "stdout",
     "output_type": "stream",
     "text": [
      "There are 293 structures in my filtered structure list\n"
     ]
    }
   ],
   "source": [
    "# EXAMPLE: Use the SDK to fetch the coarse 12 structural brain division\n",
    "\n",
    "from allensdk.api.queries.ontologies_api import OntologiesApi\n",
    "\n",
    "summary_structures = OntologiesApi().get_structures(structure_set_names='Mouse Connectivity - Summary')\n",
    "summary_structure_ids = [ s['id'] for s in summary_structures ]\n",
    "\n",
    "# order the structures by ontology graph order\n",
    "filtered_structures = ontology[summary_structure_ids].sort('graph_order')\n",
    "print \"There are %d structures in my filtered structure list\" % len(filtered_structures)"
   ]
  },
  {
   "cell_type": "markdown",
   "metadata": {},
   "source": [
    "# Use helper function to get injection matrix"
   ]
  },
  {
   "cell_type": "code",
   "execution_count": 5,
   "metadata": {
    "collapsed": true
   },
   "outputs": [],
   "source": [
    "import connectivity_helper as chelp\n",
    "\n",
    "# normalized_projection_volume = fraction of injection is within the structure\n",
    "inj_matrix = test = chelp.generate_matrix( mcc, filtered_experiments, filtered_structures, [3],\n",
    "                            is_injection=True, parameter='normalized_projection_volume')"
   ]
  },
  {
   "cell_type": "code",
   "execution_count": 23,
   "metadata": {
    "collapsed": false
   },
   "outputs": [
    {
     "name": "stdout",
     "output_type": "stream",
     "text": [
      "Keeping 116 experiments\n"
     ]
    }
   ],
   "source": [
    "# compute the injectin fraction for the primary injection structure\n",
    "import numpy as np\n",
    "\n",
    "m = inj_matrix['matrix'].copy()\n",
    "m[np.isnan(m)] = 0\n",
    "primary_injection_fraction = np.amax(m,1)\n",
    "\n",
    "lab = inj_matrix['columns']['label'].values\n",
    "primary_injection_label = lab[np.argmax(m,1)]\n",
    "\n",
    "# only keep experiments above threshold\n",
    "fraction_threshold = 0.8\n",
    "experiment_mask = primary_injection_fraction > fraction_threshold\n",
    "keep_experiments = filtered_experiments[experiment_mask]\n",
    "\n",
    "print \"Keeping %d experiments\" % len(keep_experiments)"
   ]
  },
  {
   "cell_type": "code",
   "execution_count": 24,
   "metadata": {
    "collapsed": false
   },
   "outputs": [
    {
     "data": {
      "text/plain": [
       "array([u'VISp', u'VISam', u'PTLp', u'VISal', u'VISl', u'VISpm', u'VISpl',\n",
       "       u'VISp4'], dtype=object)"
      ]
     },
     "execution_count": 24,
     "metadata": {},
     "output_type": "execute_result"
    }
   ],
   "source": [
    "keep_experiments['structure-abbrev'].unique()"
   ]
  },
  {
   "cell_type": "code",
   "execution_count": 25,
   "metadata": {
    "collapsed": false
   },
   "outputs": [
    {
     "data": {
      "text/plain": [
       "array(['RSPagl', 'VISal', 'VISam', 'VISl', 'VISli', 'VISp', 'VISpl',\n",
       "       'VISpm', 'VISpor', 'VISrl'], dtype=object)"
      ]
     },
     "execution_count": 25,
     "metadata": {},
     "output_type": "execute_result"
    }
   ],
   "source": [
    "np.unique(primary_injection_label[experiment_mask])"
   ]
  },
  {
   "cell_type": "code",
   "execution_count": null,
   "metadata": {
    "collapsed": true
   },
   "outputs": [],
   "source": []
  }
 ],
 "metadata": {
  "kernelspec": {
   "display_name": "Python 2",
   "language": "python",
   "name": "python2"
  },
  "language_info": {
   "codemirror_mode": {
    "name": "ipython",
    "version": 2
   },
   "file_extension": ".py",
   "mimetype": "text/x-python",
   "name": "python",
   "nbconvert_exporter": "python",
   "pygments_lexer": "ipython2",
   "version": "2.7.10"
  }
 },
 "nbformat": 4,
 "nbformat_minor": 0
}
