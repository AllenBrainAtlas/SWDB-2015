{
 "cells": [
  {
   "cell_type": "markdown",
   "metadata": {},
   "source": [
    "# Code blocks\n",
    "*A code block is*\n",
    "* *a section of code that is executed as unit*\n",
    "* *defined by indentation (**always use 4 spaces**)*\n",
    "\n",
    "*Examples of code blocks are:*\n",
    "* *the body of a for-loop*\n",
    "* *the body of a conditional*\n",
    "* *the body of a function (more on this in [part 2](http://allendynamicbrain2015.wikispaces.com/Presentations))*\n",
    "* *and more!*"
   ]
  },
  {
   "cell_type": "markdown",
   "metadata": {},
   "source": [
    "# Loops"
   ]
  },
  {
   "cell_type": "code",
   "execution_count": 1,
   "metadata": {
    "collapsed": false
   },
   "outputs": [
    {
     "name": "stdout",
     "output_type": "stream",
     "text": [
      "1\n",
      "2\n",
      "3\n",
      "100\n"
     ]
    }
   ],
   "source": [
    "# for-loops use the \"in\" keyword to loop over all of the elements in an iterable\n",
    "# note: this is quite different from MATLAB's for-loops\n",
    "my_list = [1, 2, 3, 100]\n",
    "for my_element in my_list:\n",
    "    print my_element"
   ]
  },
  {
   "cell_type": "code",
   "execution_count": 2,
   "metadata": {
    "collapsed": false
   },
   "outputs": [
    {
     "name": "stdout",
     "output_type": "stream",
     "text": [
      "0\n",
      "1\n",
      "4\n",
      "9\n"
     ]
    }
   ],
   "source": [
    "# to loop over a sequence of numbers, use the \"range\" built-in\n",
    "for number in range(4):\n",
    "    print number**2"
   ]
  },
  {
   "cell_type": "code",
   "execution_count": 3,
   "metadata": {
    "collapsed": false
   },
   "outputs": [
    {
     "name": "stdout",
     "output_type": "stream",
     "text": [
      "letter:'a'\n",
      "number: 1.\n",
      "letter:'b'\n",
      "number: 2.\n",
      "letter:'c'\n",
      "number: 3.\n"
     ]
    }
   ],
   "source": [
    "# if the elements being looped over are themselves iterables\n",
    "# they can be unpacked in the header of the loop\n",
    "my_list = [('a', 1), ('b', 2), ('c', 3)]\n",
    "for letter, number in my_list:\n",
    "    print \"letter:'%s'\" % letter\n",
    "    print \"number: %d.\" % number"
   ]
  },
  {
   "cell_type": "code",
   "execution_count": 4,
   "metadata": {
    "collapsed": false
   },
   "outputs": [
    {
     "name": "stdout",
     "output_type": "stream",
     "text": [
      "Region 'cortex' has volume 83.100000.\n",
      "Region 'brainstem' has volume 12.600000.\n",
      "Region 'thalamus' has volume 9.200000.\n"
     ]
    }
   ],
   "source": [
    "# dictionaries can be easily looped over with the \"iteritems\" method\n",
    "# note that the ordering of a dictionaries keys is effectively arbitrary\n",
    "brain_region_volumes = {'cortex': 83.1, 'thalamus': 9.2, 'brainstem': 12.6}\n",
    "for brain_region, volume in brain_region_volumes.iteritems():\n",
    "    print \"Region '%s' has volume %f.\" % (brain_region, volume)"
   ]
  },
  {
   "cell_type": "code",
   "execution_count": 5,
   "metadata": {
    "collapsed": false
   },
   "outputs": [
    {
     "name": "stdout",
     "output_type": "stream",
     "text": [
      "Word number 0 is 'the'\n",
      "Word number 1 is 'rain'\n",
      "Word number 2 is 'in'\n",
      "Word number 3 is 'spain'\n"
     ]
    }
   ],
   "source": [
    "# the \"enumerate\" built-in provides a counter with your iterable\n",
    "words = [\"the\", \"rain\", \"in\", \"spain\"]\n",
    "for ctr, word in enumerate(words):\n",
    "    print \"Word number %d is '%s'\" % (ctr, word)"
   ]
  },
  {
   "cell_type": "markdown",
   "metadata": {},
   "source": [
    "# Conditionals"
   ]
  },
  {
   "cell_type": "code",
   "execution_count": 6,
   "metadata": {
    "collapsed": false
   },
   "outputs": [
    {
     "name": "stdout",
     "output_type": "stream",
     "text": [
      "hooray!\n"
     ]
    }
   ],
   "source": [
    "# conditionals are another key aspect of control flow\n",
    "# like loops they require \":\" and indentation\n",
    "x = 4\n",
    "if x > 3:\n",
    "    print \"hooray!\"\n",
    "else:\n",
    "    print \"oh no!\""
   ]
  },
  {
   "cell_type": "code",
   "execution_count": 7,
   "metadata": {
    "collapsed": false
   },
   "outputs": [
    {
     "name": "stdout",
     "output_type": "stream",
     "text": [
      "not bad...\n"
     ]
    }
   ],
   "source": [
    "# the \"elif\" keyword can be used to sort through multiple conditions\n",
    "x = 0\n",
    "if x > 3:\n",
    "    print \"hooray!\"\n",
    "elif x < 1:\n",
    "    print \"not bad...\"\n",
    "else:\n",
    "    print \"oh no!\""
   ]
  },
  {
   "cell_type": "code",
   "execution_count": 8,
   "metadata": {
    "collapsed": false
   },
   "outputs": [
    {
     "name": "stdout",
     "output_type": "stream",
     "text": [
      "oh no!\n"
     ]
    }
   ],
   "source": [
    "# conditionals can be compounded with \"and\" or \"or\"\n",
    "x = 'a'\n",
    "y = 'b'\n",
    "if x == 'a' and y == 'c':\n",
    "    print \"hooray!\"\n",
    "else:\n",
    "    print \"oh no!\""
   ]
  },
  {
   "cell_type": "code",
   "execution_count": 9,
   "metadata": {
    "collapsed": false
   },
   "outputs": [
    {
     "name": "stdout",
     "output_type": "stream",
     "text": [
      "hooray!\n"
     ]
    }
   ],
   "source": [
    "if x == 'a' or y == 'c':\n",
    "    print \"hooray!\"\n",
    "else:\n",
    "    print \"oh no!\""
   ]
  },
  {
   "cell_type": "code",
   "execution_count": 10,
   "metadata": {
    "collapsed": false
   },
   "outputs": [
    {
     "name": "stdout",
     "output_type": "stream",
     "text": [
      "True!\n",
      "True\n"
     ]
    }
   ],
   "source": [
    "# the \"in\" keyword is your friend\n",
    "y = ['a', 'b', 'c', 'd']\n",
    "x = 'b'\n",
    "if x in y:\n",
    "    print \"True!\"\n",
    "    \n",
    "print x in y"
   ]
  }
 ],
 "metadata": {
  "kernelspec": {
   "display_name": "Python 2",
   "language": "python",
   "name": "python2"
  },
  "language_info": {
   "codemirror_mode": {
    "name": "ipython",
    "version": 2
   },
   "file_extension": ".py",
   "mimetype": "text/x-python",
   "name": "python",
   "nbconvert_exporter": "python",
   "pygments_lexer": "ipython2",
   "version": "2.7.9"
  }
 },
 "nbformat": 4,
 "nbformat_minor": 0
}
