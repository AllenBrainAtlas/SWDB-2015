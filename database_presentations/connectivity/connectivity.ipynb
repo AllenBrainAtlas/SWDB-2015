{
 "cells": [
  {
   "cell_type": "markdown",
   "metadata": {},
   "source": [
    "# Manipulating Experiments\n",
    "\n",
    "The MouseConnectivityCache AllenSDK class provides methods for downloading metadata about experiments, including their viral injection site and the mouse's transgenic line.  You can request information either as a Pandas DataFrame or a simple list of dictionaries.  This demonstrates the former.\n",
    "\n",
    "An important feature of the MouseConnectivityCache is how it stores and retrieves data for you.  By default, it will create (or read) a manifest file that keeps track of where various connectivity atlas data are stored.  If you request something that has not already been downloaded, it will download it and store it in a well known location.  \n",
    "\n",
    "The hard drives provided to you have a connectivity atlas manifest that indexes a the majority of the connectivity atlas data, including gridded projection volumes at 25um.  The script that downloaded all of this data is also provided."
   ]
  },
  {
   "cell_type": "code",
   "execution_count": null,
   "metadata": {
    "collapsed": false
   },
   "outputs": [],
   "source": [
    "from allensdk.core.mouse_connectivity_cache import MouseConnectivityCache\n",
    "\n",
    "# the manifest file is a simple JSON file that keeps track of all of\n",
    "# the data that has already been downloaded onto the hard drives \n",
    "# we have provided for you.\n",
    "mcc = MouseConnectivityCache(manifest_file='manifest.json')\n",
    "\n",
    "# open up a list of all of the experiments\n",
    "all_experiments = mcc.get_experiments(dataframe=True)\n",
    "print \"%d total experiments\" % len(all_experiments)\n",
    "\n",
    "# take a look at what we know about an experiment with a primary motor injection\n",
    "all_experiments.loc[122642490]"
   ]
  },
  {
   "cell_type": "markdown",
   "metadata": {},
   "source": [
    "MouseConnectivityCache has a method for retrieving the adult mouse structure ontology as an Ontology class instance.  This is a light wrapper around a Pandas DataFrame of structures that provides some helper methods for figuring out which structures are parents/children of each other.  It's also handy for finding the ID of a structure by its acronym."
   ]
  },
  {
   "cell_type": "code",
   "execution_count": null,
   "metadata": {
    "collapsed": false
   },
   "outputs": [],
   "source": [
    "# grab the Ontology instance\n",
    "ontology = mcc.get_ontology()\n",
    "\n",
    "# get some info on the isocortex\n",
    "isocortex = ontology.get_structure_by_acronym('Isocortex')\n",
    "isocortex"
   ]
  },
  {
   "cell_type": "code",
   "execution_count": null,
   "metadata": {
    "collapsed": false
   },
   "outputs": [],
   "source": [
    "# fetch the experiments that have injections in the isocortex of cre-positive mice\n",
    "cre_cortical_experiments = mcc.get_experiments(cre=True, \n",
    "                                               injection_structure_ids=isocortex['id'])\n",
    "\n",
    "print \"%d cre cortical experiments\" % len(cre_cortical_experiments)\n",
    "\n",
    "print [ e['transgenic-line'] for e in cre_cortical_experiments ][:5]"
   ]
  },
  {
   "cell_type": "markdown",
   "metadata": {},
   "source": [
    "# Signal Unionization\n",
    "\n",
    "The ProjectionStructureUnionizes API data tells you how much signal there was in a given structure and experiment.  It contains the density of projecting signal, volume of projecting signal, and other information.  MouseConnectivityCache provides methods for querying and storing this data."
   ]
  },
  {
   "cell_type": "code",
   "execution_count": null,
   "metadata": {
    "collapsed": false
   },
   "outputs": [],
   "source": [
    "visp = ontology.get_structure_by_acronym('VISp')\n",
    "visp_experiments = mcc.get_experiments(cre=False, \n",
    "                                       injection_structure_ids=visp['id'])\n",
    "\n",
    "print \"%d VISp experiments\" % len(visp_experiments)\n",
    "\n",
    "structure_unionizes = mcc.get_structure_unionizes([ e['id'] for e in visp_experiments ], \n",
    "                                                  is_injection=False,\n",
    "                                                  structure_ids=isocortex['id'])\n",
    "\n",
    "print \"%d VISp non-injection, cortical structure unionizes\" % len(structure_unionizes)"
   ]
  },
  {
   "cell_type": "code",
   "execution_count": null,
   "metadata": {
    "collapsed": false
   },
   "outputs": [],
   "source": [
    "structure_unionizes"
   ]
  },
  {
   "cell_type": "code",
   "execution_count": null,
   "metadata": {
    "collapsed": false
   },
   "outputs": [],
   "source": [
    "dense_unionizes = structure_unionizes[ structure_unionizes.projection_density > .5 ]\n",
    "large_unionizes = dense_unionizes[ dense_unionizes.volume > .5 ]\n",
    "large_structures = ontology[set(large_unionizes.structure_id)]\n",
    "\n",
    "print \"%d large, dense, cortical, non-injection unionizes, %d structures\" % ( len(large_unionizes), len(large_structures) )\n",
    "\n",
    "print large_structures.name\n",
    "\n",
    "large_unionizes"
   ]
  },
  {
   "cell_type": "markdown",
   "metadata": {},
   "source": [
    "# Manipulating Grid Data\n",
    "\n",
    "The MouseConnectivity class also helps you download and open every experiment's projection grid data volume.  For this course, we've provided you with the 25um volumes.  You could also download data at other resolutions if you prefer (10um, 50um, 100um).\n",
    "\n",
    "This demonstrates how you can load the projection density for a particular experiment.  It also shows how to download the template volume to which all grid data is registered.  Voxels in that template have been structurally annotated by neuroanatomists and stored in a separate annotation volume image."
   ]
  },
  {
   "cell_type": "code",
   "execution_count": null,
   "metadata": {
    "collapsed": false
   },
   "outputs": [],
   "source": [
    "pd, pd_info = mcc.get_projection_density(122642490)\n",
    "template, template_info = mcc.get_template_volume()\n",
    "annot, annot_info = mcc.get_annotation_volume()\n",
    "\n",
    "print pd_info\n",
    "print pd.shape, template.shape, annot.shape"
   ]
  },
  {
   "cell_type": "markdown",
   "metadata": {},
   "source": [
    "Once you have these loaded, you can use matplotlib see what they look like.  "
   ]
  },
  {
   "cell_type": "code",
   "execution_count": null,
   "metadata": {
    "collapsed": false
   },
   "outputs": [],
   "source": [
    "import numpy as np\n",
    "import matplotlib.pyplot as plt\n",
    "%matplotlib inline\n",
    "\n",
    "# pick a slice to show\n",
    "slice_idx = 264\n",
    "\n",
    "# show that slice of all three volumes side-by-side\n",
    "f, (ax1, ax2, ax3) = plt.subplots(1, 3, figsize=(15,3))\n",
    "ax1.imshow(pd[slice_idx,:,:], cmap='hot', aspect='equal')\n",
    "ax2.imshow(template[slice_idx,:,:], cmap='gray', aspect='equal', vmin=template.min(), vmax=template.max())\n",
    "ax3.imshow(annot[slice_idx,:,:], cmap='gray', aspect='equal', vmin=0, vmax=2000)"
   ]
  },
  {
   "cell_type": "markdown",
   "metadata": {},
   "source": [
    "The MouseConnectivityCache also provides you with a way to compute and store structure masks.  A structure mask is a numpy array that tells you if a voxel belongs to a particular structure.  \n",
    "\n",
    "How is this different from the annotation volume?  The annotation volume assigns each voxel a single label, usually one that is at the bottom of the structure ontology.  You won't find a single voxel labeled 'Isocortex' in the annotation volume, but there are many voxels that are labeled as descendants of the Isocortex.  MouseConnectivityCache can compute for you a mask of voxels that are labeled as any of the descendants of a structure.\n",
    "\n",
    "Computing masks is a time-consuming task, so we precomputed them for you."
   ]
  },
  {
   "cell_type": "code",
   "execution_count": null,
   "metadata": {
    "collapsed": false
   },
   "outputs": [],
   "source": [
    "isocortex_mask, _ = mcc.get_structure_mask(315)\n",
    "\n",
    "# pull out the values of all voxels in the isocortex mask\n",
    "isocortex_pd = pd[isocortex_mask > 0]\n",
    "\n",
    "# print out the average projection density of voxels in the isocortex\n",
    "print isocortex_pd.mean()"
   ]
  },
  {
   "cell_type": "markdown",
   "metadata": {},
   "source": [
    "# Excercises\n",
    "\n",
    "1) Correlation Search: take an experiment you find interesting (search http://connectivity.brain-map.org) and compute for yourself which experiments have the most correlated projection density patterns within a particular structure (say, isocortex).\n",
    "\n",
    "2) Unionization: try to reproduce the values you see in the structure unionizes table for one experiment.  Hint: the fastest way to do this is to iterate over the annotation volume voxels.  The structure masks will slow you down!\n",
    "\n",
    "3) Structure Centroids: compute the centroid of the left hemisphere of the isocortex."
   ]
  }
 ],
 "metadata": {
  "kernelspec": {
   "display_name": "Python 2",
   "language": "python",
   "name": "python2"
  },
  "language_info": {
   "codemirror_mode": {
    "name": "ipython",
    "version": 2
   },
   "file_extension": ".py",
   "mimetype": "text/x-python",
   "name": "python",
   "nbconvert_exporter": "python",
   "pygments_lexer": "ipython2",
   "version": "2.7.9"
  }
 },
 "nbformat": 4,
 "nbformat_minor": 0
}
