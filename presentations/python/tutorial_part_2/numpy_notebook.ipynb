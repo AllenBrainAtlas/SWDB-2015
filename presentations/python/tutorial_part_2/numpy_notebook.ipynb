{
 "cells": [
  {
   "cell_type": "markdown",
   "metadata": {},
   "source": [
    "# Scientific Programming with numpy \n",
    "\n",
    "AKA: I miss MATLAB\n",
    "\n",
    "AKA: Why is Python so slow?\n",
    "\n",
    "numpy is a Python library that provides efficient implementations of a large number of functions commonly used in scientific programming.  \n",
    "\n",
    "The numpy array object is numpy's workhorse.  As opposed to Python's list, the numpy array has a specific data type (e.g. float32, uint8, etc).  Almost all numpy operations are optimized c functions, which means they are typically much faster than Python code."
   ]
  },
  {
   "cell_type": "code",
   "execution_count": 1,
   "metadata": {
    "collapsed": false
   },
   "outputs": [
    {
     "name": "stdout",
     "output_type": "stream",
     "text": [
      "arr1 [1 2 3 4 5]\n"
     ]
    }
   ],
   "source": [
    "import numpy as np\n",
    "\n",
    "# python list of integers\n",
    "nums = [ 1, 2, 3, 4, 5 ]\n",
    "\n",
    "# numpy array of integers\n",
    "arr1 = np.array( nums )\n",
    "\n",
    "print \"arr1\", arr1"
   ]
  },
  {
   "cell_type": "markdown",
   "metadata": {},
   "source": [
    "## np.array operators\n",
    "\n",
    "numpy arrays have some nice matlab-like operators"
   ]
  },
  {
   "cell_type": "code",
   "execution_count": 2,
   "metadata": {
    "collapsed": false
   },
   "outputs": [
    {
     "name": "stdout",
     "output_type": "stream",
     "text": [
      "arr2 [3 4 5 6 7]\n",
      "arr3 [ 4  6  8 10 12]\n",
      "arr4 [ 3  8 15 24 35]\n"
     ]
    }
   ],
   "source": [
    "# add a scalar\n",
    "arr2 = arr1 + 2\n",
    "print \"arr2\", arr2\n",
    "\n",
    "# element-wise addition\n",
    "arr3 = arr1 + arr2\n",
    "print \"arr3\", arr3\n",
    "\n",
    "# element-wise multiplication\n",
    "arr4 = arr1 * arr2\n",
    "print \"arr4\", arr4"
   ]
  },
  {
   "cell_type": "markdown",
   "metadata": {},
   "source": [
    "## np.array creation functions"
   ]
  },
  {
   "cell_type": "code",
   "execution_count": 3,
   "metadata": {
    "collapsed": false
   },
   "outputs": [
    {
     "name": "stdout",
     "output_type": "stream",
     "text": [
      "arr5 [0 1 2 3 4 5 6 7 8 9]\n",
      "arr6 [0 2 4 6 8]\n",
      "arr7 [ 0.    0.25  0.5   0.75  1.  ]\n"
     ]
    }
   ],
   "source": [
    "# arange: create a sequence of integers\n",
    "arr5 = np.arange(0, 10, 1)\n",
    "print \"arr5\", arr5\n",
    "\n",
    "# one two skip a few\n",
    "arr6 = np.arange(0, 10, 2)\n",
    "print \"arr6\", arr6\n",
    "\n",
    "# linspace: subdivide a range of values\n",
    "arr7 = np.linspace(0.0, 1.0, 5)\n",
    "print \"arr7\", arr7"
   ]
  },
  {
   "cell_type": "code",
   "execution_count": 4,
   "metadata": {
    "collapsed": false
   },
   "outputs": [
    {
     "name": "stdout",
     "output_type": "stream",
     "text": [
      "arr8 [[ 0.  0.  0.  0.]\n",
      " [ 0.  0.  0.  0.]\n",
      " [ 0.  0.  0.  0.]\n",
      " [ 0.  0.  0.  0.]]\n",
      "arr9 [[ 2.  2.  2.  2.]\n",
      " [ 2.  2.  2.  2.]\n",
      " [ 2.  2.  2.  2.]]\n",
      "arr10 [[ 1.  0.  0.]\n",
      " [ 0.  1.  0.]\n",
      " [ 0.  0.  1.]]\n",
      "arr11 [ 0.0990703   0.6391112   0.04176239  0.92494733]\n"
     ]
    }
   ],
   "source": [
    "# zeros, ones\n",
    "arr8 = np.zeros((4,4))\n",
    "print \"arr8\", arr8\n",
    "\n",
    "arr9 = np.ones((3,4)) * 2.0\n",
    "print \"arr9\", arr9\n",
    "\n",
    "# identity matrix\n",
    "arr10 = np.eye(3)\n",
    "print \"arr10\", arr10\n",
    "\n",
    "# random values in [0,1]\n",
    "arr11 = np.random.rand(4)\n",
    "print \"arr11\", arr11"
   ]
  },
  {
   "cell_type": "markdown",
   "metadata": {},
   "source": [
    "## numpy data types\n",
    "\n",
    "With numpy you have control over the data type of your arrays.  "
   ]
  },
  {
   "cell_type": "code",
   "execution_count": 5,
   "metadata": {
    "collapsed": false
   },
   "outputs": [
    {
     "name": "stdout",
     "output_type": "stream",
     "text": [
      "float64 [ 0.  1.  2.]\n",
      "uint8 [0 1 2]\n"
     ]
    }
   ],
   "source": [
    "# numpy will guess data types for you\n",
    "arr = np.array([0.0, 1.0, 2.0])\n",
    "print arr.dtype, arr\n",
    "\n",
    "# or you can specify them \n",
    "arr = np.array([0.0, 1.0, 2.0], dtype=np.uint8)\n",
    "print arr.dtype, arr"
   ]
  },
  {
   "cell_type": "markdown",
   "metadata": {},
   "source": [
    "## common functions"
   ]
  },
  {
   "cell_type": "code",
   "execution_count": 6,
   "metadata": {
    "collapsed": false
   },
   "outputs": [
    {
     "name": "stdout",
     "output_type": "stream",
     "text": [
      "[0 1 2 3 4 5 6 7 8 9]\n",
      "reshaped [[0 1 2 3 4]\n",
      " [5 6 7 8 9]]\n",
      "mean 4.5\n",
      "mean by axis [ 2.  7.]\n",
      "sum 45\n",
      "sum by axis [10 35]\n",
      "dot 32\n"
     ]
    }
   ],
   "source": [
    "# reshape\n",
    "arr = np.arange(0,10,1)\n",
    "print arr\n",
    "arr = arr.reshape((2,5))            \n",
    "print \"reshaped\", arr\n",
    "\n",
    "# mean\n",
    "print \"mean\", arr.mean()\n",
    "print \"mean by axis\", arr.mean(1)\n",
    "\n",
    "# sum\n",
    "print \"sum\", arr.sum()\n",
    "print \"sum by axis\", arr.sum(1)\n",
    "\n",
    "# dot product\n",
    "print \"dot\", np.dot([1,2,3],[4,5,6])"
   ]
  },
  {
   "cell_type": "markdown",
   "metadata": {},
   "source": [
    "## array indexing"
   ]
  },
  {
   "cell_type": "code",
   "execution_count": 7,
   "metadata": {
    "collapsed": false
   },
   "outputs": [
    {
     "name": "stdout",
     "output_type": "stream",
     "text": [
      "arr [[0 1 2 3 4]\n",
      " [5 6 7 8 9]]\n",
      "[0,2] 2\n",
      "row 1 [5 6 7 8 9]\n",
      "col 2 [2 7]\n"
     ]
    }
   ],
   "source": [
    "arr = np.arange(0,10,1).reshape((2,5))\n",
    "print \"arr\", arr\n",
    "\n",
    "# remember, indexing is from zero!\n",
    "print \"[0,2]\", arr[0,2]\n",
    "\n",
    "# grab an entire row or column\n",
    "print \"row 1\", arr[1,:]\n",
    "print \"col 2\", arr[:,2]"
   ]
  },
  {
   "cell_type": "markdown",
   "metadata": {},
   "source": [
    "## array masking"
   ]
  },
  {
   "cell_type": "code",
   "execution_count": 8,
   "metadata": {
    "collapsed": false,
    "scrolled": true
   },
   "outputs": [
    {
     "name": "stdout",
     "output_type": "stream",
     "text": [
      "[[0 1 2 3 4]\n",
      " [5 6 7 8 9]]\n",
      "[[False False False False False]\n",
      " [ True  True  True  True  True]]\n",
      "[[  0   1   2   3   4]\n",
      " [105 106 107 108 109]]\n"
     ]
    }
   ],
   "source": [
    "arr = np.arange(0,10,1).reshape((2,5))\n",
    "print arr\n",
    "\n",
    "# generate a logical mask of your array\n",
    "mask = arr > 4\n",
    "print mask\n",
    "\n",
    "# now use it to modify the elements that match\n",
    "arr[mask] += 100\n",
    "print arr"
   ]
  }
 ],
 "metadata": {
  "kernelspec": {
   "display_name": "Python 2",
   "language": "python",
   "name": "python2"
  },
  "language_info": {
   "codemirror_mode": {
    "name": "ipython",
    "version": 2
   },
   "file_extension": ".py",
   "mimetype": "text/x-python",
   "name": "python",
   "nbconvert_exporter": "python",
   "pygments_lexer": "ipython2",
   "version": "2.7.10"
  }
 },
 "nbformat": 4,
 "nbformat_minor": 0
}
