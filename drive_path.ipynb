{
 "cells": [
  {
   "cell_type": "markdown",
   "metadata": {},
   "source": [
    "#Path to the Workshop hard drive\n",
    "\n",
    "You'll need to know where the Summer Workshop hard drive is mounted on your computer."
   ]
  },
  {
   "cell_type": "code",
   "execution_count": 1,
   "metadata": {
    "collapsed": true
   },
   "outputs": [],
   "source": [
    "#If you are using OS X (e.g. on a Mac) then the path will be\n",
    "path_for_mac = '/Volumes/Brain2015/'\n",
    "\n",
    "# If you are using Linux, then it depends on your distribution and how you mount the drive.  \n",
    "# On Ubuntu, the default is /media/<username>/Brain2015/.  \n",
    "# On the neuron disk image, this will be\n",
    "path_for_ubuntu_neuron = '/media/swdb2015/Brain2015/'\n",
    "\n",
    "#If you are using Windows, a good guess is:"
   ]
  },
  {
   "cell_type": "markdown",
   "metadata": {},
   "source": [
    "Set the path variable below according to your computer's configuration"
   ]
  },
  {
   "cell_type": "code",
   "execution_count": 2,
   "metadata": {
    "collapsed": true
   },
   "outputs": [],
   "source": [
    "path = '/Volumes/Brain2015/'"
   ]
  },
  {
   "cell_type": "markdown",
   "metadata": {},
   "source": [
    "Run the cell below to verify the drive path"
   ]
  },
  {
   "cell_type": "code",
   "execution_count": 8,
   "metadata": {
    "collapsed": false
   },
   "outputs": [
    {
     "name": "stdout",
     "output_type": "stream",
     "text": [
      "Sorry.  You don't have the correct path yet.\n"
     ]
    }
   ],
   "source": [
    "import os\n",
    "\n",
    "if os.path.exists(os.path.join(path,'CAM')):\n",
    "    print \"You've got it!  Everything's all set!\"\n",
    "else:\n",
    "    print \"Sorry.  You don't have the correct path yet.\""
   ]
  }
 ],
 "metadata": {
  "kernelspec": {
   "display_name": "Python 2",
   "language": "python",
   "name": "python2"
  },
  "language_info": {
   "codemirror_mode": {
    "name": "ipython",
    "version": 2
   },
   "file_extension": ".py",
   "mimetype": "text/x-python",
   "name": "python",
   "nbconvert_exporter": "python",
   "pygments_lexer": "ipython2",
   "version": "2.7.10"
  }
 },
 "nbformat": 4,
 "nbformat_minor": 0
}
