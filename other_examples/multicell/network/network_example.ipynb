{
 "cells": [
  {
   "cell_type": "markdown",
   "metadata": {},
   "source": [
    "# Example of using some simple tools for building a network model\n",
    "\n",
    "\n",
    "\n",
    "First, let us load all the modules that will be needed.\n"
   ]
  },
  {
   "cell_type": "code",
   "execution_count": null,
   "metadata": {
    "collapsed": true
   },
   "outputs": [],
   "source": [
    "%matplotlib inline\n",
    "\n",
    "from network import Network\n",
    "\n",
    "from scipy.sparse import csr_matrix\n",
    "from allensdk.config.model.formats.hdf5_util import Hdf5Util\n",
    "\n",
    "import numpy as np\n",
    "import pandas as pd\n",
    "\n",
    "import csv\n",
    "\n",
    "import matplotlib.pyplot as plt\n",
    "\n",
    "import random\n",
    "random.seed(5) # Use the seed to initialize random number generator."
   ]
  },
  {
   "cell_type": "markdown",
   "metadata": {
    "collapsed": true
   },
   "source": [
    "## Define objects and functions that will be used later"
   ]
  },
  {
   "cell_type": "markdown",
   "metadata": {},
   "source": [
    "Here is a simple way of defining connection probabilities for different cell types."
   ]
  },
  {
   "cell_type": "code",
   "execution_count": null,
   "metadata": {
    "collapsed": true
   },
   "outputs": [],
   "source": [
    "# probabilities of establishing a connection from source -> target\n",
    "connection_probabilities = { \n",
    "    ('excitatory', 'excitatory'): 0.5,\n",
    "    ('excitatory', 'inhibitory'): 0.5,\n",
    "    ('inhibitory', 'excitatory'): 0.6,\n",
    "    ('inhibitory', 'inhibitory'): 0.8\n",
    "}"
   ]
  },
  {
   "cell_type": "markdown",
   "metadata": {
    "collapsed": true
   },
   "source": [
    "Let us introduce a simple function for computing probability of connection between two cells based on the distance between their somata."
   ]
  },
  {
   "cell_type": "code",
   "execution_count": null,
   "metadata": {
    "collapsed": true
   },
   "outputs": [],
   "source": [
    "def distance_probability(p1, p2): # p1 and p2 are 3D vectors.\n",
    "    ''' convert euclidean distance to probability of connection '''\n",
    "    dist = np.linalg.norm(p1 - p2, 2) # Compute the distance.\n",
    "    \n",
    "    dist_cutoff = 200.0\n",
    "    if (dist >= dist_cutoff):\n",
    "        return 0.0\n",
    "    else:\n",
    "        return ( 1.0 - dist / dist_cutoff ) ** 2.0 # Use a simple formula for probability depending on the distance."
   ]
  },
  {
   "cell_type": "markdown",
   "metadata": {},
   "source": [
    "Why don't we check how that looks like?"
   ]
  },
  {
   "cell_type": "code",
   "execution_count": null,
   "metadata": {
    "collapsed": false
   },
   "outputs": [],
   "source": [
    "# Keep one point fixed and sample one dimension in the other to plot the probability as a function of distance.\n",
    "p1 = np.array([0.0, 0.0, 0.0])\n",
    "p2 = np.array([1.0, 0.0, 0.0])\n",
    "r_array = np.arange(0.0, 300.0, 2.5) # Array of distances.\n",
    "p_array = np.array([]) # Array of probabilities.\n",
    "for r in r_array:\n",
    "    p = distance_probability(p1, p2 * r) # Use p2 * r to obtain [r, 0, 0]; the distance between that and [0,0,0] is r.\n",
    "    p_array = np.append(p_array, p)\n",
    "plt.plot(r_array, p_array)\n",
    "plt.xlabel('Distance')\n",
    "plt.ylabel('Probability of connection')\n",
    "plt.show()"
   ]
  },
  {
   "cell_type": "markdown",
   "metadata": {},
   "source": [
    "Now, let us define a function for assigning connections based on the probability function of our choice."
   ]
  },
  {
   "cell_type": "code",
   "execution_count": null,
   "metadata": {
    "collapsed": true
   },
   "outputs": [],
   "source": [
    "def random_connectivity(src_i, tgt_i, source, target):\n",
    "    ''' given a source target pair, create a connection (or not) '''\n",
    "    pdist = distance_probability(positions[src_i],\n",
    "                                 positions[tgt_i])\n",
    "\n",
    "    # Take the distance-dependent probability and scale it by a factor\n",
    "    # that depends on the target and source types.\n",
    "    p = pdist * connection_probabilities[source['type'],target['type']]\n",
    "\n",
    "    # Draw a random number for this pair of cells and decide whether the connection should be established or not.\n",
    "    if random.random() < p:\n",
    "        # Establish the connection!\n",
    "        # Assign a number of synapses that the source cell makes on the target cell.\n",
    "        return { 'nsyns': random.randrange(2, 6) }\n"
   ]
  },
  {
   "cell_type": "markdown",
   "metadata": {},
   "source": [
    "Now, define a function that converts the object we use to store information about connections to a convenient matrix."
   ]
  },
  {
   "cell_type": "code",
   "execution_count": null,
   "metadata": {
    "collapsed": true
   },
   "outputs": [],
   "source": [
    "def construct_matrix(connections):\n",
    "    ''' turn a list of connection dictionaries into a numpy csr matrix '''\n",
    "    cols = [ c['source'] for c in connections ]\n",
    "    rows = [ c['target'] for c in connections ]\n",
    "    data = [ c['nsyns'] for c in connections ]\n",
    "\n",
    "    return csr_matrix((data, (rows, cols)))\n"
   ]
  },
  {
   "cell_type": "markdown",
   "metadata": {},
   "source": [
    "## Populate the network"
   ]
  },
  {
   "cell_type": "markdown",
   "metadata": {},
   "source": [
    "Generate a number of cells of different types; generate their positions."
   ]
  },
  {
   "cell_type": "code",
   "execution_count": null,
   "metadata": {
    "collapsed": false
   },
   "outputs": [],
   "source": [
    "N_exc = 8\n",
    "N_inh = 2\n",
    "N = N_inh + N_exc\n",
    "\n",
    "# cell positions\n",
    "positions = 100.0 * np.random.random((N,3)) - 50.0 # x,y,z positions in a 100x100x100 box centered at (0,0,0).\n",
    "\n",
    "# initialize the network\n",
    "net = Network()\n",
    "\n",
    "# add populations\n",
    "net.add_population(N_exc, type='excitatory')\n",
    "net.add_population(N_inh, type='inhibitory')"
   ]
  },
  {
   "cell_type": "markdown",
   "metadata": {},
   "source": [
    "## Connect cells in the network"
   ]
  },
  {
   "cell_type": "markdown",
   "metadata": {},
   "source": [
    "All it takes is to provide the function that we described above!"
   ]
  },
  {
   "cell_type": "code",
   "execution_count": null,
   "metadata": {
    "collapsed": false
   },
   "outputs": [],
   "source": [
    "# add the connectivity rule\n",
    "net.connect(random_connectivity) \n",
    "\n",
    "# build the matrix\n",
    "cells, connections = net.build()\n",
    "\n",
    "print 'Total number of connections: ', len(connections)"
   ]
  },
  {
   "cell_type": "markdown",
   "metadata": {},
   "source": [
    "## Save data to files and print out some information about the network"
   ]
  },
  {
   "cell_type": "markdown",
   "metadata": {},
   "source": [
    "Get the information about cells."
   ]
  },
  {
   "cell_type": "code",
   "execution_count": null,
   "metadata": {
    "collapsed": false
   },
   "outputs": [],
   "source": [
    "cells = pd.DataFrame.from_dict(cells)\n",
    "\n",
    "cells['x'] = positions[:,0]\n",
    "cells['y'] = positions[:,1]\n",
    "cells['z'] = positions[:,2]\n",
    "\n",
    "# Save the cells data to a csv file.\n",
    "cells.to_csv('cells.csv', index=False)\n",
    "\n",
    "print cells"
   ]
  },
  {
   "cell_type": "markdown",
   "metadata": {},
   "source": [
    "Now, use the function we prepared above to convert the information about connections to a nice matrix.\n",
    "Save that matrix to a binary HDF5 file."
   ]
  },
  {
   "cell_type": "code",
   "execution_count": null,
   "metadata": {
    "collapsed": false
   },
   "outputs": [],
   "source": [
    "# turn it into a sparse matrix\n",
    "if len(connections) > 0:\n",
    "    m = construct_matrix(connections)\n",
    "    print '(tgt, src)  nsyns'\n",
    "    print m\n",
    "\n",
    "    # write the connectivity to hdf5\n",
    "    Hdf5Util().write('connections.h5', m)\n",
    "\n"
   ]
  }
 ],
 "metadata": {
  "kernelspec": {
   "display_name": "Python 2",
   "language": "python",
   "name": "python2"
  },
  "language_info": {
   "codemirror_mode": {
    "name": "ipython",
    "version": 2
   },
   "file_extension": ".py",
   "mimetype": "text/x-python",
   "name": "python",
   "nbconvert_exporter": "python",
   "pygments_lexer": "ipython2",
   "version": "2.7.9"
  }
 },
 "nbformat": 4,
 "nbformat_minor": 0
}
